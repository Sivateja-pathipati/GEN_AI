{
 "cells": [
  {
   "cell_type": "code",
   "execution_count": 106,
   "id": "05f773ce",
   "metadata": {},
   "outputs": [],
   "source": [
    "import PyPDF2 \n",
    "import re\n",
    "import random\n",
    "import torch \n",
    "import numpy as np \n",
    "import spacy\n",
    "import string\n",
    "from tqdm import tqdm\n",
    "from torchtext.data.utils import get_tokenizer\n",
    "def set_seed(seed=42):\n",
    "    random.seed(seed)\n",
    "    np.random.seed(seed)\n",
    "    torch.manual_seed(seed)\n",
    "    torch.cuda.manual_seed_all(seed)\n",
    "\n",
    "set_seed(42)"
   ]
  },
  {
   "cell_type": "markdown",
   "id": "c060ea6a",
   "metadata": {},
   "source": [
    "## DATA PREPROCESSING"
   ]
  },
  {
   "cell_type": "code",
   "execution_count": 107,
   "id": "d0a4e90b",
   "metadata": {},
   "outputs": [],
   "source": [
    "with open(\"en_US.blogs.txt\",\"r\") as f: \n",
    "    text = f.read() "
   ]
  },
  {
   "cell_type": "code",
   "execution_count": 108,
   "id": "d18caa70",
   "metadata": {},
   "outputs": [
    {
     "name": "stdout",
     "output_type": "stream",
     "text": [
      "Total length of the input (charachters in the text):  207723793\n",
      "initial estimation of number of words:  37334131\n",
      "initial estimation of vocabulary: 1103548\n"
     ]
    }
   ],
   "source": [
    "print('Total length of the input (charachters in the text): ',len(text))\n",
    "print('initial estimation of number of words: ',len(text.split()))\n",
    "print('initial estimation of vocabulary:',len(set(text.split())))\n"
   ]
  },
  {
   "cell_type": "code",
   "execution_count": 109,
   "id": "106d29bf",
   "metadata": {},
   "outputs": [
    {
     "name": "stdout",
     "output_type": "stream",
     "text": [
      "In the years thereafter, most of the Oil fields and platforms were named after pagan “gods”.\n",
      "We love you Mr. Brown.\n",
      "Chad has been awesome with the kids and holding down the fort while I work later than usual! The kids have been busy together playing Skylander on the XBox together, after Kyan cashed in his $$$ from his piggy bank. He wanted that game so bad and used his gift card from his birthday he has been saving and the money to get it (he never taps into that thing either, that is how we know he wanted it so bad). We made him count all of his money to make sure that he had enough! It was very cute to watch his reaction when he realized he did! He also does a very good job of letting Lola feel like she is playing too, by letting her switch out the characters! She loves it almost as much as him.\n",
      "so anyways, i am going to share some home decor inspiration that i have been storing in my folder on the puter. i have all these amazing images stored away ready to come to life when we get o\n"
     ]
    }
   ],
   "source": [
    "print(text[:1000])"
   ]
  },
  {
   "cell_type": "code",
   "execution_count": 110,
   "id": "049a9c02",
   "metadata": {},
   "outputs": [
    {
     "name": "stdout",
     "output_type": "stream",
     "text": [
      "total sentences in the text 899289\n",
      "total unique sentences in the text 899289\n"
     ]
    }
   ],
   "source": [
    "text_sentences = text.split('\\n')\n",
    "print('total sentences in the text',len(text_sentences))\n",
    "print('total unique sentences in the text',len(set(text_sentences)))"
   ]
  },
  {
   "cell_type": "code",
   "execution_count": 111,
   "id": "c1def632",
   "metadata": {},
   "outputs": [
    {
     "data": {
      "text/plain": [
       "['In the years thereafter, most of the Oil fields and platforms were named after pagan “gods”.',\n",
       " 'We love you Mr. Brown.',\n",
       " 'Chad has been awesome with the kids and holding down the fort while I work later than usual! The kids have been busy together playing Skylander on the XBox together, after Kyan cashed in his $$$ from his piggy bank. He wanted that game so bad and used his gift card from his birthday he has been saving and the money to get it (he never taps into that thing either, that is how we know he wanted it so bad). We made him count all of his money to make sure that he had enough! It was very cute to watch his reaction when he realized he did! He also does a very good job of letting Lola feel like she is playing too, by letting her switch out the characters! She loves it almost as much as him.',\n",
       " 'so anyways, i am going to share some home decor inspiration that i have been storing in my folder on the puter. i have all these amazing images stored away ready to come to life when we get our home.',\n",
       " \"With graduation season right around the corner, Nancy has whipped up a fun set to help you out with not only your graduation cards and gifts, but any occasion that brings on a change in one's life. I stamped the images in Memento Tuxedo Black and cut them out with circle Nestabilities. I embossed the kraft and red cardstock with TE's new Stars Impressions Plate, which is double sided and gives you 2 fantastic patterns. You can see how to use the Impressions Plates in this tutorial Taylor created. Just one pass through your die cut machine using the Embossing Pad Kit is all you need to do - super easy!\",\n",
       " \"If you have an alternative argument, let's hear it! :)\",\n",
       " 'If I were a bear,',\n",
       " 'Other friends have similar stories, of how they were treated brusquely by Laurelwood staff, and as often as not, the same names keep coming up. About a half-dozen friends of mine refuse to step foot in there ever again because of it. How many others they’re telling - and keeping away - one can only guess.',\n",
       " 'Although our beloved Cantab can’t claim the international recognition afforded the Station Inn, otherwise these two joints feel like twins separated by nothing more than distance. They share a complete lack of pretense that can’t be imitated or approximated. Their very ordinariness makes them special.',\n",
       " 'Peter Schiff: Hard to tell. It will look pretty bad for most Americans when prices will go way up and they can’t afford to buy stuff. It could also get very bad as far as loss of individual liberty. A lot of people will blame it on capitalism, on freedom, and they will claim we need more government. It could be used as an impetus for more regulation, which would be a disaster, or it could be an impetus to get rid of all the regulation that was causing the problem. But whether we will do the right or the wrong thing here in America, there will be a lot of pain first. We got some serious problems we have to deal with, but we are not dealing with the problems, we only make the problems worse.']"
      ]
     },
     "execution_count": 111,
     "metadata": {},
     "output_type": "execute_result"
    }
   ],
   "source": [
    "text_sentences[:10]"
   ]
  },
  {
   "cell_type": "code",
   "execution_count": 112,
   "id": "005d5dbc",
   "metadata": {},
   "outputs": [
    {
     "name": "stdout",
     "output_type": "stream",
     "text": [
      "total sentences in the text 655698\n",
      "total unique sentences in the text 655698\n"
     ]
    }
   ],
   "source": [
    "# lets remove all the lines with sentence length less than 10 words\n",
    "text_sentences = [sentence for sentence in text_sentences if len(sentence.split(\" \"))>=10]\n",
    "print('total sentences in the text',len(text_sentences))\n",
    "print('total unique sentences in the text',len(set(text_sentences)))"
   ]
  },
  {
   "cell_type": "code",
   "execution_count": 113,
   "id": "46c843aa",
   "metadata": {},
   "outputs": [
    {
     "data": {
      "text/plain": [
       "['In the years thereafter, most of the Oil fields and platforms were named after pagan “gods”.',\n",
       " 'Chad has been awesome with the kids and holding down the fort while I work later than usual! The kids have been busy together playing Skylander on the XBox together, after Kyan cashed in his $$$ from his piggy bank. He wanted that game so bad and used his gift card from his birthday he has been saving and the money to get it (he never taps into that thing either, that is how we know he wanted it so bad). We made him count all of his money to make sure that he had enough! It was very cute to watch his reaction when he realized he did! He also does a very good job of letting Lola feel like she is playing too, by letting her switch out the characters! She loves it almost as much as him.',\n",
       " 'so anyways, i am going to share some home decor inspiration that i have been storing in my folder on the puter. i have all these amazing images stored away ready to come to life when we get our home.',\n",
       " \"With graduation season right around the corner, Nancy has whipped up a fun set to help you out with not only your graduation cards and gifts, but any occasion that brings on a change in one's life. I stamped the images in Memento Tuxedo Black and cut them out with circle Nestabilities. I embossed the kraft and red cardstock with TE's new Stars Impressions Plate, which is double sided and gives you 2 fantastic patterns. You can see how to use the Impressions Plates in this tutorial Taylor created. Just one pass through your die cut machine using the Embossing Pad Kit is all you need to do - super easy!\",\n",
       " \"If you have an alternative argument, let's hear it! :)\",\n",
       " 'Other friends have similar stories, of how they were treated brusquely by Laurelwood staff, and as often as not, the same names keep coming up. About a half-dozen friends of mine refuse to step foot in there ever again because of it. How many others they’re telling - and keeping away - one can only guess.',\n",
       " 'Although our beloved Cantab can’t claim the international recognition afforded the Station Inn, otherwise these two joints feel like twins separated by nothing more than distance. They share a complete lack of pretense that can’t be imitated or approximated. Their very ordinariness makes them special.',\n",
       " 'Peter Schiff: Hard to tell. It will look pretty bad for most Americans when prices will go way up and they can’t afford to buy stuff. It could also get very bad as far as loss of individual liberty. A lot of people will blame it on capitalism, on freedom, and they will claim we need more government. It could be used as an impetus for more regulation, which would be a disaster, or it could be an impetus to get rid of all the regulation that was causing the problem. But whether we will do the right or the wrong thing here in America, there will be a lot of pain first. We got some serious problems we have to deal with, but we are not dealing with the problems, we only make the problems worse.',\n",
       " '3. Winter is the time when all sleeps on some level. It is a time of turning within to make contact with your own innermost being. Winter is the best time to do this and, as a result, get answers for yourself about whatever concerns you. It is also a tremendously creative time, a time for artists of all kinds to turn within and to seek images of forms he or she wishes to produce in whatever medium chosen, so that an image of balance can be presented. Those of you that write, we suggest that you do so to come up with plots and ideas that will speak of balance coming to an imbalanced situation, person, or world. To those of you who, like Priscilla, work with making patterns and designs, we would say remember the images and designs brought about by winter. White will challenge you to see what changes will manifest in the images you produce. We ask that you do this in your own environment.',\n",
       " 'I am en-route to Cornwall again. 3/4 months of slog and sun and sea too. Always a job needs doing in a tourist town. I’m bringing my stuff back from 97 on Friday. Will need to cancel bills before I retreat. Not such a bad thing. Moved to Leeds with promise from Millies. That went nowhere. Move on.']"
      ]
     },
     "execution_count": 113,
     "metadata": {},
     "output_type": "execute_result"
    }
   ],
   "source": [
    "text_sentences[:10]"
   ]
  },
  {
   "cell_type": "code",
   "execution_count": 124,
   "id": "a3eed948",
   "metadata": {},
   "outputs": [],
   "source": [
    "tokenizer = get_tokenizer('spacy', language='en_core_web_md')"
   ]
  },
  {
   "cell_type": "code",
   "execution_count": 125,
   "id": "29f35ead",
   "metadata": {},
   "outputs": [],
   "source": [
    "# # Dealing with punctuation\n",
    "# def special_tokenizer(text):\n",
    "#     text_punct =re.sub(',',' ,',text)\n",
    "#     text_punct = re.sub('\\.',' .',text_punct)\n",
    "#     text_punct = re.sub(':',': ',text_punct)\n",
    "#     text_punct = re.sub('\\n\\n',' ',text_punct)\n",
    "#     return text_punct.split(\" \")\n",
    "# tokens = special_tokenizer(text)\n",
    "# print('Total length of the input (charachters in the text): ',len(\" \".join(tokens)))\n",
    "# print('initial estimation of number of words: ',len(tokens))\n",
    "# print('initial estimation of vocabulary:',len(set(tokens)))\n"
   ]
  },
  {
   "cell_type": "code",
   "execution_count": 126,
   "id": "f98d9889",
   "metadata": {},
   "outputs": [],
   "source": [
    "def preprocess_word(word):\n",
    "    word = re.sub(r\"[^\\w\\s]\",\"\",word)\n",
    "    word = re.sub(r\"\\s+\",\"\",word)\n",
    "    word = re.sub(r\"\\d\",\"\",word) \n",
    "    return word.lower()\n",
    "\n",
    "# nlp = spacy.load(\"en\")  # Much faster, no tagger/parser/ner\n",
    "\n",
    "def preprocess_single_sentence(sentence):\n",
    "    tokens = tokenizer(sentence)\n",
    "    tokens = list(map(preprocess_word,tokens))\n",
    "    return [w for w in tokens if w and w not in string.punctuation]"
   ]
  },
  {
   "cell_type": "code",
   "execution_count": null,
   "id": "e9a80dd0",
   "metadata": {},
   "outputs": [],
   "source": [
    "tokenized_text_sentences = [preprocess_single_sentence(sentence) for sentence in text_sentences]\n",
    "tokenized_text_sentences = [sentence for sentence in tokenized_text_sentences if len(sentence)>=10]\n",
    "print('Total senteneces in the text',len(tokenized_text_sentences))\n",
    "for i in range(10):\n",
    "    print(tokenized_text_sentences[i])"
   ]
  },
  {
   "cell_type": "code",
   "execution_count": null,
   "id": "624700fe",
   "metadata": {},
   "outputs": [
    {
     "name": "stdout",
     "output_type": "stream",
     "text": [
      "Total senteneces in the text 649530\n"
     ]
    }
   ],
   "source": []
  },
  {
   "cell_type": "markdown",
   "id": "eb8266b3",
   "metadata": {},
   "source": [
    "### BUILDING VOCAB WORTH 7000 & EXTRACTING THE SENTENCES WITH 80% VOCAB MATCH"
   ]
  },
  {
   "cell_type": "code",
   "execution_count": 24,
   "id": "d1e540a8",
   "metadata": {},
   "outputs": [
    {
     "name": "stdout",
     "output_type": "stream",
     "text": [
      "370104\n",
      "['repledge']\n",
      "['thymonucleic']\n",
      "['jailoring']\n",
      "['magazinette']\n",
      "['felonweed']\n",
      "['experimentation']\n",
      "['sideward']\n",
      "['overpatient']\n",
      "['collaterally']\n",
      "['aftercare']\n"
     ]
    },
    {
     "name": "stderr",
     "output_type": "stream",
     "text": [
      "C:\\Users\\sivat\\AppData\\Local\\Temp\\ipykernel_1568\\1039737219.py:7: DeprecationWarning: Sampling from a set deprecated\n",
      "since Python 3.9 and will be removed in a subsequent version.\n",
      "  print(random.sample(english_dictionary,k=1))\n"
     ]
    }
   ],
   "source": [
    "set_seed(42)\n",
    "with open('words_alpha.txt','r') as f: \n",
    "    english_dictionary = f.readlines()\n",
    "    english_dictionary = set([word.strip('\\n') for word in english_dictionary])\n",
    "print(len(english_dictionary))\n",
    "for i in range(10):\n",
    "    print(random.sample(english_dictionary,k=1))"
   ]
  },
  {
   "cell_type": "code",
   "execution_count": 83,
   "id": "347ed2c4",
   "metadata": {},
   "outputs": [],
   "source": [
    "from collections import Counter \n",
    "def total_vocab(list_of_words,english_dictionary=english_dictionary):\n",
    "    vocab_words_dict = Counter(list_of_words)\n",
    "    sorted_vocab_words_dict = sorted(vocab_words_dict.items(),key=lambda x:x[1],reverse=True)[:10000]\n",
    "    vocab_words = [k for (k,v) in sorted_vocab_words_dict]\n",
    "    vocab_words = set(vocab_words) & english_dictionary\n",
    "    final_vocab_words = [item for item in vocab_words_dict.items() if item[0] in vocab_words]\n",
    "    final_vocab_words = sorted(final_vocab_words,key = lambda x:x[1],reverse=True)\n",
    "    final_vocab_words= [k for (k,v) in final_vocab_words]\n",
    "    return final_vocab_words"
   ]
  },
  {
   "cell_type": "code",
   "execution_count": 84,
   "id": "c2979dca",
   "metadata": {},
   "outputs": [
    {
     "name": "stdout",
     "output_type": "stream",
     "text": [
      "Initial_length of vocab words:  9820\n",
      "['the', 'and', 'to', 'a', 'i', 'of', 'in', 'that', 'it', 'is', 'for', 'you', 's', 'was', 'with', 'on', 'my', 'this', 'have', 'as', 'be', 'but', 'we', 'are', 'nt', 'not', 'at', 'so', 'he', 'they', 'from', 'do', 'all', 'or', 'me', 'one', 'by', 'about', 'will', 'what', 'out', 'had', 'up', 'an', 'his', 'if', 'there', 'her', 'when', 'can', 'just', 'she', 'like', 'has', 'your', 'more', 'their', 'time', 'would', 'some', 'who', 'our', 'them', 'were', 'been', 'which', 'get', 'm', 'no', 'did', 'how', 'into', 'then', 'people', 'know', 'now', 'because', 'other', 'also', 'could', 'new', 'us', 'only', 'even', 'over', 'first', 'day', 'make', 'than', 'back', 'well', 'am', 'really', 'him', 'see', 'much', 'good', 'very', 'these', 'think']\n"
     ]
    }
   ],
   "source": [
    "# list unpacking\n",
    "list_of_words = [word for sentence in text_sentences for word in sentence]\n",
    "vocab_words = total_vocab(list_of_words,english_dictionary)\n",
    "print('Initial_length of vocab words: ',len(vocab_words))\n",
    "print(vocab_words[:100])"
   ]
  },
  {
   "cell_type": "code",
   "execution_count": 85,
   "id": "c834c4a4",
   "metadata": {},
   "outputs": [],
   "source": [
    "# Selecting only top 7000 words initially to extract sentences. \n",
    "vocab_words_set= set(vocab_words[:7000])"
   ]
  },
  {
   "cell_type": "code",
   "execution_count": 88,
   "id": "d2dfbeb0",
   "metadata": {},
   "outputs": [],
   "source": [
    "def sentence_test(sentence,english_dictionary=english_dictionary,vocab_words=set(vocab_words_set),min_ratio=0.8):\n",
    "    sentence_words = set(sentence) if isinstance(sentence,list) else set(sentence.split()) \n",
    "    len_words = len(sentence_words)\n",
    "    words_in_dictionary = len(sentence_words & english_dictionary) \n",
    "    words_in_vocabulary = len(sentence_words & vocab_words)\n",
    "    try:\n",
    "        dict_ratio = words_in_dictionary/len_words \n",
    "        vocab_ratio = words_in_vocabulary/len_words\n",
    "    except: \n",
    "        return False\n",
    "    return False if (dict_ratio)<0.9 or (vocab_ratio)<0.8 else True\n"
   ]
  },
  {
   "cell_type": "code",
   "execution_count": null,
   "id": "46891511",
   "metadata": {},
   "outputs": [
    {
     "name": "stdout",
     "output_type": "stream",
     "text": [
      "Initial lenght of sentences:  655698\n",
      "Final length of sentences which passed sentences_test 577207\n"
     ]
    }
   ],
   "source": [
    "# Extracting sentences \n",
    "print('Initial lenght of sentences: ',len(text_sentences))\n",
    "extracted_text_sentences = list(filter(sentence_test,text_sentences))\n",
    "print('Final length of sentences which passed sentences_test',len(extracted_text_sentences))"
   ]
  },
  {
   "cell_type": "code",
   "execution_count": null,
   "id": "d23d3880",
   "metadata": {},
   "outputs": [
    {
     "name": "stdout",
     "output_type": "stream",
     "text": [
      "['in', 'the', 'years', 'thereafter', 'most', 'of', 'the', 'oil', 'fields', 'and', 'platforms', 'were', 'named', 'after', 'pagan', 'gods']\n",
      "['chad', 'has', 'been', 'awesome', 'with', 'the', 'kids', 'and', 'holding', 'down', 'the', 'fort', 'while', 'i', 'work', 'later', 'than', 'usual', 'the', 'kids', 'have', 'been', 'busy', 'together', 'playing', 'skylander', 'on', 'the', 'xbox', 'together', 'after', 'kyan', 'cashed', 'in', 'his', 'from', 'his', 'piggy', 'bank', 'he', 'wanted', 'that', 'game', 'so', 'bad', 'and', 'used', 'his', 'gift', 'card', 'from', 'his', 'birthday', 'he', 'has', 'been', 'saving', 'and', 'the', 'money', 'to', 'get', 'it', 'he', 'never', 'taps', 'into', 'that', 'thing', 'either', 'that', 'is', 'how', 'we', 'know', 'he', 'wanted', 'it', 'so', 'bad', 'we', 'made', 'him', 'count', 'all', 'of', 'his', 'money', 'to', 'make', 'sure', 'that', 'he', 'had', 'enough', 'it', 'was', 'very', 'cute', 'to', 'watch', 'his', 'reaction', 'when', 'he', 'realized', 'he', 'did', 'he', 'also', 'does', 'a', 'very', 'good', 'job', 'of', 'letting', 'lola', 'feel', 'like', 'she', 'is', 'playing', 'too', 'by', 'letting', 'her', 'switch', 'out', 'the', 'characters', 'she', 'loves', 'it', 'almost', 'as', 'much', 'as', 'him']\n",
      "['so', 'anyways', 'i', 'am', 'going', 'to', 'share', 'some', 'home', 'decor', 'inspiration', 'that', 'i', 'have', 'been', 'storing', 'in', 'my', 'folder', 'on', 'the', 'puter', 'i', 'have', 'all', 'these', 'amazing', 'images', 'stored', 'away', 'ready', 'to', 'come', 'to', 'life', 'when', 'we', 'get', 'our', 'home']\n",
      "['with', 'graduation', 'season', 'right', 'around', 'the', 'corner', 'nancy', 'has', 'whipped', 'up', 'a', 'fun', 'set', 'to', 'help', 'you', 'out', 'with', 'not', 'only', 'your', 'graduation', 'cards', 'and', 'gifts', 'but', 'any', 'occasion', 'that', 'brings', 'on', 'a', 'change', 'in', 'one', 's', 'life', 'i', 'stamped', 'the', 'images', 'in', 'memento', 'tuxedo', 'black', 'and', 'cut', 'them', 'out', 'with', 'circle', 'nestabilities', 'i', 'embossed', 'the', 'kraft', 'and', 'red', 'cardstock', 'with', 'te', 's', 'new', 'stars', 'impressions', 'plate', 'which', 'is', 'double', 'sided', 'and', 'gives', 'you', 'fantastic', 'patterns', 'you', 'can', 'see', 'how', 'to', 'use', 'the', 'impressions', 'plates', 'in', 'this', 'tutorial', 'taylor', 'created', 'just', 'one', 'pass', 'through', 'your', 'die', 'cut', 'machine', 'using', 'the', 'embossing', 'pad', 'kit', 'is', 'all', 'you', 'need', 'to', 'do', 'super', 'easy']\n",
      "['if', 'you', 'have', 'an', 'alternative', 'argument', 'let', 's', 'hear', 'it']\n",
      "['other', 'friends', 'have', 'similar', 'stories', 'of', 'how', 'they', 'were', 'treated', 'brusquely', 'by', 'laurelwood', 'staff', 'and', 'as', 'often', 'as', 'not', 'the', 'same', 'names', 'keep', 'coming', 'up', 'about', 'a', 'half', 'dozen', 'friends', 'of', 'mine', 'refuse', 'to', 'step', 'foot', 'in', 'there', 'ever', 'again', 'because', 'of', 'it', 'how', 'many', 'others', 'they', 're', 'telling', 'and', 'keeping', 'away', 'one', 'can', 'only', 'guess']\n",
      "['although', 'our', 'beloved', 'cantab', 'ca', 'nt', 'claim', 'the', 'international', 'recognition', 'afforded', 'the', 'station', 'inn', 'otherwise', 'these', 'two', 'joints', 'feel', 'like', 'twins', 'separated', 'by', 'nothing', 'more', 'than', 'distance', 'they', 'share', 'a', 'complete', 'lack', 'of', 'pretense', 'that', 'ca', 'nt', 'be', 'imitated', 'or', 'approximated', 'their', 'very', 'ordinariness', 'makes', 'them', 'special']\n",
      "['peter', 'schiff', 'hard', 'to', 'tell', 'it', 'will', 'look', 'pretty', 'bad', 'for', 'most', 'americans', 'when', 'prices', 'will', 'go', 'way', 'up', 'and', 'they', 'ca', 'nt', 'afford', 'to', 'buy', 'stuff', 'it', 'could', 'also', 'get', 'very', 'bad', 'as', 'far', 'as', 'loss', 'of', 'individual', 'liberty', 'a', 'lot', 'of', 'people', 'will', 'blame', 'it', 'on', 'capitalism', 'on', 'freedom', 'and', 'they', 'will', 'claim', 'we', 'need', 'more', 'government', 'it', 'could', 'be', 'used', 'as', 'an', 'impetus', 'for', 'more', 'regulation', 'which', 'would', 'be', 'a', 'disaster', 'or', 'it', 'could', 'be', 'an', 'impetus', 'to', 'get', 'rid', 'of', 'all', 'the', 'regulation', 'that', 'was', 'causing', 'the', 'problem', 'but', 'whether', 'we', 'will', 'do', 'the', 'right', 'or', 'the', 'wrong', 'thing', 'here', 'in', 'america', 'there', 'will', 'be', 'a', 'lot', 'of', 'pain', 'first', 'we', 'got', 'some', 'serious', 'problems', 'we', 'have', 'to', 'deal', 'with', 'but', 'we', 'are', 'not', 'dealing', 'with', 'the', 'problems', 'we', 'only', 'make', 'the', 'problems', 'worse']\n",
      "['winter', 'is', 'the', 'time', 'when', 'all', 'sleeps', 'on', 'some', 'level', 'it', 'is', 'a', 'time', 'of', 'turning', 'within', 'to', 'make', 'contact', 'with', 'your', 'own', 'innermost', 'being', 'winter', 'is', 'the', 'best', 'time', 'to', 'do', 'this', 'and', 'as', 'a', 'result', 'get', 'answers', 'for', 'yourself', 'about', 'whatever', 'concerns', 'you', 'it', 'is', 'also', 'a', 'tremendously', 'creative', 'time', 'a', 'time', 'for', 'artists', 'of', 'all', 'kinds', 'to', 'turn', 'within', 'and', 'to', 'seek', 'images', 'of', 'forms', 'he', 'or', 'she', 'wishes', 'to', 'produce', 'in', 'whatever', 'medium', 'chosen', 'so', 'that', 'an', 'image', 'of', 'balance', 'can', 'be', 'presented', 'those', 'of', 'you', 'that', 'write', 'we', 'suggest', 'that', 'you', 'do', 'so', 'to', 'come', 'up', 'with', 'plots', 'and', 'ideas', 'that', 'will', 'speak', 'of', 'balance', 'coming', 'to', 'an', 'imbalanced', 'situation', 'person', 'or', 'world', 'to', 'those', 'of', 'you', 'who', 'like', 'priscilla', 'work', 'with', 'making', 'patterns', 'and', 'designs', 'we', 'would', 'say', 'remember', 'the', 'images', 'and', 'designs', 'brought', 'about', 'by', 'winter', 'white', 'will', 'challenge', 'you', 'to', 'see', 'what', 'changes', 'will', 'manifest', 'in', 'the', 'images', 'you', 'produce', 'we', 'ask', 'that', 'you', 'do', 'this', 'in', 'your', 'own', 'environment']\n",
      "['i', 'am', 'en', 'route', 'to', 'cornwall', 'again', 'months', 'of', 'slog', 'and', 'sun', 'and', 'sea', 'too', 'always', 'a', 'job', 'needs', 'doing', 'in', 'a', 'tourist', 'town', 'i', 'm', 'bringing', 'my', 'stuff', 'back', 'from', 'on', 'friday', 'will', 'need', 'to', 'cancel', 'bills', 'before', 'i', 'retreat', 'not', 'such', 'a', 'bad', 'thing', 'moved', 'to', 'leeds', 'with', 'promise', 'from', 'millies', 'that', 'went', 'nowhere', 'move', 'on']\n"
     ]
    }
   ],
   "source": [
    "for i in range(10):\n",
    "    print(extracted_text_sentences[i])"
   ]
  },
  {
   "cell_type": "code",
   "execution_count": 93,
   "id": "72dc535e",
   "metadata": {},
   "outputs": [
    {
     "name": "stdout",
     "output_type": "stream",
     "text": [
      "Final_length of vocab words:  9839\n",
      "['the', 'to', 'and', 'i', 'a', 'of', 'in', 'it', 'that', 'is', 'for', 'you', 's', 'was', 'my', 'with', 'on', 'this', 'have', 'as', 'we', 'be', 'but', 'nt', 'are', 'not', 'so', 'at', 'he', 'they', 'do', 'all', 'me', 'or', 'from', 'one', 'about', 'what', 'will', 'if', 'out', 'had', 'up', 'there', 'by', 'can', 'when', 'an', 'her', 'just', 'his', 'she', 'like', 'your', 'has', 'more', 'time', 'would', 'some', 'their', 'our', 'who', 'them', 'were', 'been', 'get', 'm', 'which', 'did', 'how', 'no', 'people', 'know', 'then', 'into', 'because', 'now', 'other', 'could', 'us', 'also', 'even', 'day', 'only', 'make', 'really', 'am', 'new', 'back', 'over', 'than', 'first', 'much', 'see', 'well', 'him', 'think', 'good', 'very', 'way']\n"
     ]
    }
   ],
   "source": [
    "list_of_words = [word for sentence in text_sentences for word in sentence]\n",
    "final_vocab_words = total_vocab(list_of_words)\n",
    "print('Final_length of vocab words: ',len(final_vocab_words))\n",
    "print(final_vocab_words[:100])"
   ]
  },
  {
   "cell_type": "code",
   "execution_count": 51,
   "id": "5693685e",
   "metadata": {},
   "outputs": [
    {
     "name": "stdout",
     "output_type": "stream",
     "text": [
      "key: value\n"
     ]
    },
    {
     "ename": "TypeError",
     "evalue": "cannot unpack non-iterable int object",
     "output_type": "error",
     "traceback": [
      "\u001b[1;31m---------------------------------------------------------------------------\u001b[0m",
      "\u001b[1;31mTypeError\u001b[0m                                 Traceback (most recent call last)",
      "Cell \u001b[1;32mIn[51], line 2\u001b[0m\n\u001b[0;32m      1\u001b[0m vocab \u001b[38;5;241m=\u001b[39m build_vocab_from_iterator(text_sentences)\n\u001b[1;32m----> 2\u001b[0m \u001b[38;5;28;01mfor\u001b[39;00m key,value \u001b[38;5;129;01min\u001b[39;00m \u001b[38;5;28msorted\u001b[39m(vocab\u001b[38;5;241m.\u001b[39mget_stoi()\u001b[38;5;241m.\u001b[39mitems())[\u001b[38;5;241m10\u001b[39m]:\n\u001b[0;32m      3\u001b[0m     \u001b[38;5;28mprint\u001b[39m(\u001b[38;5;124mf\u001b[39m\u001b[38;5;124m\"\u001b[39m\u001b[38;5;124mkey: value\u001b[39m\u001b[38;5;124m\"\u001b[39m)\n",
      "\u001b[1;31mTypeError\u001b[0m: cannot unpack non-iterable int object"
     ]
    }
   ],
   "source": [
    "vocab = build_vocab_from_iterator(text_sentences)\n",
    "for key,value in sorted(vocab.get_stoi().items())[10]:\n",
    "    print(f\"key: value\")"
   ]
  },
  {
   "cell_type": "code",
   "execution_count": 58,
   "id": "5f8f2606",
   "metadata": {},
   "outputs": [
    {
     "data": {
      "text/plain": [
       "[('_', 1220),\n",
       " ('__', 48380),\n",
       " ('___', 63620),\n",
       " ('______', 101857),\n",
       " ('_armchairgooner', 132652),\n",
       " ('_isser', 132653),\n",
       " ('_mikehall', 132654),\n",
       " ('_saki_chan', 132655),\n",
       " ('_words', 132656),\n",
       " ('a', 3),\n",
       " ('aa', 8689),\n",
       " ('aaa', 24254),\n",
       " ('aaaa', 85731),\n",
       " ('aaaaa', 101858),\n",
       " ('aaaaaaaaaaaaaa', 101859),\n",
       " ('aaaaaaaaaaaaaaaaa', 132657),\n",
       " ('aaaaaaaaaaaaaaaaaaaaaaaarrrrrrrrrrrrrrrrggggggggghhhhhhhhhh', 132658),\n",
       " ('aaaaaaaaaaaaand', 132659),\n",
       " ('aaaaaaaaaaaargh', 132660),\n",
       " ('aaaaaaaaaahhhhhhhhhhhhhhhhh', 132661),\n",
       " ('aaaaaaaaaarrrrrgggggghhhh', 132662),\n",
       " ('aaaaaaaaages', 132663),\n",
       " ('aaaaaaaaahhhhhhhhhhhh', 132664),\n",
       " ('aaaaaaaaalllll', 132665),\n",
       " ('aaaaaaaahhhh', 132666),\n",
       " ('aaaaaaaahhhhhh', 132667),\n",
       " ('aaaaaaaarrrrrghhhhhhh', 101860),\n",
       " ('aaaaaaah', 132668),\n",
       " ('aaaaaaand', 101861),\n",
       " ('aaaaaaannnnddd', 132669),\n",
       " ('aaaaaaare', 132670),\n",
       " ('aaaaaaarrrrggghhh', 132671),\n",
       " ('aaaaaaggggees', 132672),\n",
       " ('aaaaaahhh', 132673),\n",
       " ('aaaaaahhhhhd', 132674),\n",
       " ('aaaaaand', 63621),\n",
       " ('aaaaages', 132675),\n",
       " ('aaaaagggh', 132676),\n",
       " ('aaaaah', 69044),\n",
       " ('aaaaahhh', 132677),\n",
       " ('aaaaahhhh', 132678),\n",
       " ('aaaaahhhhhhh', 85732),\n",
       " ('aaaaallllsssooo', 132679),\n",
       " ('aaaaand', 69045),\n",
       " ('aaaaandstill', 132680),\n",
       " ('aaaaannnnd', 132681),\n",
       " ('aaaaanyyyywaaaaayyyy', 132682),\n",
       " ('aaaaare', 101862),\n",
       " ('aaaaargh', 101863),\n",
       " ('aaaaaweeessssooommmmmmmeeeeeee', 132683),\n",
       " ('aaaaawwwwww', 132684),\n",
       " ('aaaack', 85733),\n",
       " ('aaaackk', 132685),\n",
       " ('aaaages', 101864),\n",
       " ('aaaaggghhh', 132686),\n",
       " ('aaaah', 48381),\n",
       " ('aaaahh', 132687),\n",
       " ('aaaahhh', 85734),\n",
       " ('aaaahhhh', 132688),\n",
       " ('aaaahhhhh', 132689),\n",
       " ('aaaahhhhhhh', 132690),\n",
       " ('aaaahs', 132691),\n",
       " ('aaaalll', 132692),\n",
       " ('aaaamazing', 132693),\n",
       " ('aaaand', 48382),\n",
       " ('aaaannnd', 132694),\n",
       " ('aaaannnnnd', 132695),\n",
       " ('aaaanyway', 132696),\n",
       " ('aaaargh', 101865),\n",
       " ('aaaarrrgh', 132697),\n",
       " ('aaaay', 132698),\n",
       " ('aaack', 101866),\n",
       " ('aaae', 132699),\n",
       " ('aaafts', 132700),\n",
       " ('aaages', 132701),\n",
       " ('aaagh', 101867),\n",
       " ('aaah', 39542),\n",
       " ('aaahahahaa', 132702),\n",
       " ('aaahd', 132703),\n",
       " ('aaahh', 85735),\n",
       " ('aaahhh', 69046),\n",
       " ('aaahhhh', 69047),\n",
       " ('aaahhhhhhhh', 132704),\n",
       " ('aaahhhhhhhhhh', 132705),\n",
       " ('aaahhhhhhhhhhhhh', 132706),\n",
       " ('aaahhhhss', 132707),\n",
       " ('aaahing', 85736),\n",
       " ('aaahs', 132708),\n",
       " ('aaallens', 132709),\n",
       " ('aaallsooo', 132710),\n",
       " ('aaamir', 132711),\n",
       " ('aaand', 44817),\n",
       " ('aaannnddd', 132712),\n",
       " ('aaanyway', 132713),\n",
       " ('aaaph', 132714),\n",
       " ('aaarea', 132715),\n",
       " ('aaargh', 85737),\n",
       " ('aaarghhh', 132716),\n",
       " ('aaarhraghghghghhh', 132717),\n",
       " ('aaarrgggh', 132718)]"
      ]
     },
     "execution_count": 58,
     "metadata": {},
     "output_type": "execute_result"
    }
   ],
   "source": [
    "sorted(vocab.get_stoi().items())[:100]"
   ]
  },
  {
   "cell_type": "code",
   "execution_count": 44,
   "id": "dd789100",
   "metadata": {},
   "outputs": [
    {
     "name": "stdout",
     "output_type": "stream",
     "text": [
      "['hello', 'how', 'are', 'you']\n",
      "['what', 'is', 'this', 'true', 'ok', 'then', 'bye']\n"
     ]
    }
   ],
   "source": [
    "def generate_tokens(data_iter):\n",
    "    data_iter = data_iter.split('\\n')\n",
    "    for i in data_iter:\n",
    "        tokens = preprocess(i)\n",
    "        yield tokens \n",
    "data_iter = \"hello how are you\\n what? is this true! ok then bye.\"\n",
    "for i in generate_tokens(data_iter):\n",
    "    print(i)"
   ]
  },
  {
   "cell_type": "code",
   "execution_count": 27,
   "id": "a89c5e08",
   "metadata": {},
   "outputs": [],
   "source": [
    "from torchtext.vocab import build_vocab_from_iterator \n",
    "vocab = build_vocab_from_iterator(generate_tokens(text),specials=[\"<unk>\"],special_first=True)\n",
    "vocab.set_default_index(vocab[\"<unk>\"])"
   ]
  },
  {
   "cell_type": "code",
   "execution_count": 28,
   "id": "d7a8bd0a",
   "metadata": {},
   "outputs": [
    {
     "name": "stdout",
     "output_type": "stream",
     "text": [
      "['<unk>', 'the', 'and', 'to', 'i', 'a', 'of', 'in', 'it', 'that', 'is', 'for', 'you', 's', 'was', 'with', 'on', 'my', 'this', 'have', 'as', 'be', 'we', 'but', 'are', 'nt', 'not', 'at', 'so', 'he']\n"
     ]
    }
   ],
   "source": [
    "print(vocab.get_itos()[:30])"
   ]
  },
  {
   "cell_type": "code",
   "execution_count": 29,
   "id": "7e1d84dc",
   "metadata": {},
   "outputs": [
    {
     "name": "stdout",
     "output_type": "stream",
     "text": [
      "Total vocabulary in the model:  267309\n"
     ]
    }
   ],
   "source": [
    "vocab_len = len(vocab.get_itos())\n",
    "print('Total vocabulary in the model: ',vocab_len)"
   ]
  },
  {
   "cell_type": "code",
   "execution_count": 23,
   "id": "7b827518",
   "metadata": {},
   "outputs": [
    {
     "data": {
      "text/plain": [
       "{'Some': 520,\n",
       " 'aerate': 100721,\n",
       " 'shoulda': 50484,\n",
       " '5.1mil': 208704,\n",
       " '6:00': 15604,\n",
       " 'bishops': 14372,\n",
       " 'Hensalls': 254590,\n",
       " 'Genevieve': 22256,\n",
       " 'unfitting': 142922,\n",
       " 'Backgammon': 221748,\n",
       " 'fruit': 1448,\n",
       " 'hoardes': 182425,\n",
       " 'Cecilia': 30023,\n",
       " 'IV.c': 257534,\n",
       " 'Kaamos': 262074,\n",
       " 'Eastbourne': 43221,\n",
       " 'Ariels': 148532,\n",
       " 'Gha': 249795,\n",
       " 'wires': 11638,\n",
       " 'glycolic': 181772,\n",
       " 'shortlist': 18336,\n",
       " 'Cancun': 34814,\n",
       " 'point': 274,\n",
       " 'problematize': 186766,\n",
       " 'Galian': 248818,\n",
       " 'limitations.&nbsp': 355794,\n",
       " 'regiments': 38650,\n",
       " 'dominant': 6814,\n",
       " 'Dazo': 153602,\n",
       " 'Paarlberg': 284118,\n",
       " 'thunder': 9831,\n",
       " 'GOODS': 125910,\n",
       " 'advice': 1464,\n",
       " 'restore': 7216,\n",
       " 'Morrisroe': 276051,\n",
       " '.': 1,\n",
       " 'Traffy': 173532,\n",
       " 'synthetics': 40285,\n",
       " 'Dialyse-': 238562,\n",
       " 'Nambutu': 278249,\n",
       " 'lvl': 139811,\n",
       " 'Cornichons': 234179,\n",
       " '200,000': 14269,\n",
       " 'Jarch': 260323,\n",
       " 'Fruition': 247576,\n",
       " 'scented': 14536,\n",
       " 'Tulfo': 72537,\n",
       " 'ideology': 6846,\n",
       " 'equipazo': 339481,\n",
       " 'Ashworth': 66791,\n",
       " 'blends': 13200,\n",
       " 'confidence': 2382,\n",
       " 'blog': 250,\n",
       " 'Whitethroats': 175421,\n",
       " 'McLean': 29311,\n",
       " 'Dzyan': 124816,\n",
       " \"A'Tuin\": 214107,\n",
       " 'pushes': 9932,\n",
       " 'craftsmanlike': 333154,\n",
       " 'Umai': 311120,\n",
       " 'Romansh': 293548,\n",
       " 'newspapers': 5039,\n",
       " 'Worship': 18659,\n",
       " 'AUFGENOMMEN': 215335,\n",
       " '<unk>': 0,\n",
       " 'Extensions': 52657,\n",
       " 'ony': 117270,\n",
       " 'Romney': 3125,\n",
       " 'winepress': 56056,\n",
       " 'TheeUnseen': 307573,\n",
       " ',': 2,\n",
       " 'climatically': 178762,\n",
       " 'gheesh': 344247,\n",
       " 'immunology': 92236,\n",
       " 'Grows': 46828,\n",
       " 'additionally': 22113,\n",
       " 'smothered': 18992,\n",
       " '4007': 207467,\n",
       " 'Quién': 289634,\n",
       " 'service': 809,\n",
       " 'To': 326,\n",
       " 'remained': 3292,\n",
       " 'Bantz': 222345,\n",
       " 'miserableness': 359304,\n",
       " 'lighter': 4613,\n",
       " 'Arletty': 148546,\n",
       " 'http://giagarcianewlifenewbeginning.blogspot.com/.': 348373,\n",
       " 'corporate': 3006,\n",
       " 'LP-': 61481,\n",
       " 'worktable': 119144,\n",
       " 'dropping': 4483,\n",
       " 'Fisherman': 38902,\n",
       " 'luv': 41001,\n",
       " 'Alexi': 56189,\n",
       " 'BAPing': 220637,\n",
       " 'Gyra': 252146,\n",
       " 'Vigor': 53236,\n",
       " 'starts': 1252,\n",
       " 'Kismat': 263943,\n",
       " 'reread': 14617,\n",
       " 'coarse': 12941,\n",
       " 'Sabre': 61941,\n",
       " 'Army': 3645,\n",
       " 'NERF': 164734,\n",
       " 'Or': 624,\n",
       " 'Pawties': 285248,\n",
       " 'Fantail': 155761,\n",
       " 'commensurate': 39992,\n",
       " '733': 94362,\n",
       " 'vaccine': 10992,\n",
       " 'Plaster': 53002,\n",
       " 'malingerers': 357245,\n",
       " 'Umhlanga': 174025,\n",
       " 'misguided': 14110,\n",
       " '79:10': 211602,\n",
       " 'chateaubriand': 329971,\n",
       " 'I': 6,\n",
       " 'Alsatian': 70398,\n",
       " 'obligate': 140420,\n",
       " 'challage': 329764,\n",
       " 'or': 38,\n",
       " 'broadly': 14156,\n",
       " 'hydronephrosis': 349801,\n",
       " 'awal': 323966,\n",
       " 'Skibsrud': 300697,\n",
       " '1901': 23005,\n",
       " '12/29/2010': 199214,\n",
       " 'panade': 365112,\n",
       " 'Masekela': 64489,\n",
       " 'Americans': 1746,\n",
       " 'Farnborough': 107910,\n",
       " '3.00': 25323,\n",
       " 'oras': 185578,\n",
       " 'defile': 46072,\n",
       " 'Pambi': 89427,\n",
       " 'Cosmo': 22060,\n",
       " 'wee': 4837,\n",
       " 'backgrounded': 324285,\n",
       " 'Leftist': 16487,\n",
       " 'Drago': 50954,\n",
       " 'shanghaiing': 188214,\n",
       " 'GOG': 248366,\n",
       " 'Stuff!~~~~~~~~~~~~~~~~~~~~~~~~~~~~~~~~~~~~~~~~': 303705,\n",
       " 'Fluffie': 108025,\n",
       " 'rauli': 370635,\n",
       " 'GIIP': 75657,\n",
       " 'to': 4,\n",
       " '3.When': 205521,\n",
       " 'Answers': 28840,\n",
       " 'impassive': 92237,\n",
       " '.Sauce': 195322,\n",
       " 'credit': 1712,\n",
       " 'favorte': 341176,\n",
       " 'possum': 29523,\n",
       " 'AccuWeather.com': 215891,\n",
       " 'Hoku': 255377,\n",
       " 'Ides': 46859,\n",
       " 'cantalope': 328839,\n",
       " 'Gary': 4810,\n",
       " 'eases': 41782,\n",
       " 'Heirloom': 37449,\n",
       " 'IMplan': 159036,\n",
       " '~vanilla': 392209,\n",
       " 'Greenspan': 36083,\n",
       " 'Celaena': 106606,\n",
       " 'counting': 4686,\n",
       " 'rioter': 141491,\n",
       " 'Eala': 154801,\n",
       " 'Dollis': 239396,\n",
       " 'FaMeshed': 244897,\n",
       " '10': 377,\n",
       " 'felting': 32467,\n",
       " 'RPS': 131881,\n",
       " 'Slatin': 59339,\n",
       " 'cheryl': 137012,\n",
       " 'Sarraute': 297225,\n",
       " 'wholesome': 16203,\n",
       " 'Conundrum': 123814,\n",
       " 'discontentment': 65527,\n",
       " 'chidren': 330195,\n",
       " 'continue': 714,\n",
       " 'Carnage': 54278,\n",
       " 'Siracusa': 300505,\n",
       " 'sequenced': 58017,\n",
       " 'Accuracy': 27257,\n",
       " 'message': 1138,\n",
       " 'FAVOURITE': 64049,\n",
       " 'APPLES': 105280,\n",
       " 'prescribe': 26597,\n",
       " 'toh': 189856,\n",
       " 'dramatic': 3827,\n",
       " 'Intertextuality': 258909,\n",
       " 'all': 41,\n",
       " 'Bembol': 149769,\n",
       " 'corresponding': 12114,\n",
       " '8PIX': 212530,\n",
       " 'Hamba': 253387,\n",
       " 'Dobbins': 124619,\n",
       " 'butterfly': 4773,\n",
       " 'Dagsavisen': 107139,\n",
       " 'require': 2395,\n",
       " 'coloured': 3598,\n",
       " 'Morry': 98111,\n",
       " 'vexing': 46507,\n",
       " 'Centsational': 86956,\n",
       " 'crone': 55346,\n",
       " 's.': 29144,\n",
       " 'commutes': 46050,\n",
       " 'Andoversford': 148258,\n",
       " 'evidence': 1235,\n",
       " 'bookazines': 326934,\n",
       " 'perpetuated': 29516,\n",
       " 'bandied': 43613,\n",
       " 'Chattanoogaville': 231392,\n",
       " 'Traveller': 28973,\n",
       " 'Exceptionally': 107781,\n",
       " 'famous': 1580,\n",
       " 'MMC': 162692,\n",
       " 'notetaker': 140377,\n",
       " 'Ock': 89299,\n",
       " 'Digg': 95971,\n",
       " 'adaptation': 8890,\n",
       " 'said”–I’d': 373460,\n",
       " 'Accompany': 121062,\n",
       " ')': 27,\n",
       " 'Chidyaonga': 231740,\n",
       " 'Murpjy': 276803,\n",
       " 'NORTH': 40621,\n",
       " 'forthwith': 51843,\n",
       " '48-': 208240,\n",
       " 'miscounts': 359292,\n",
       " 'soon~': 85303,\n",
       " 'Katherine': 11000,\n",
       " '-Switch': 194040,\n",
       " 'unconvincing': 39492,\n",
       " 'Champlain': 75161,\n",
       " 'every': 193,\n",
       " 'com\\xadplementary': 331870,\n",
       " 'Justin': 5590,\n",
       " 'anesthesiologist': 39937,\n",
       " 'WISeKey': 314530,\n",
       " 'Bathes': 149547,\n",
       " '-Cornbread': 193253,\n",
       " 'Thingys/': 307750,\n",
       " 'Sakari': 296596,\n",
       " \"WON'T\": 72646,\n",
       " 'North': 1303,\n",
       " 'Brewpub': 40415,\n",
       " 'gruffness': 181976,\n",
       " 'misaligned': 69431,\n",
       " 'Resilient': 111983,\n",
       " 'formalize': 138418,\n",
       " 'reflection': 4115,\n",
       " 'notion': 4168,\n",
       " 'Replacing': 54905,\n",
       " 'Planning': 10394,\n",
       " 'Andrew': 3325,\n",
       " 'OSSETRA': 165656,\n",
       " 'DBo': 235762,\n",
       " 'possibility': 2709,\n",
       " 'BOOTCAMP': 221230,\n",
       " 'Steve': 2691,\n",
       " 'lissom': 355925,\n",
       " 'lack': 1033,\n",
       " 'Anjela': 148307,\n",
       " 'Lafayette': 20112,\n",
       " 'Kindness': 30073,\n",
       " 'Daejon': 236663,\n",
       " 'gardening': 6152,\n",
       " 'Portishead': 61798,\n",
       " 'Drift': 48034,\n",
       " 'Truckster': 173694,\n",
       " 'stitching': 6158,\n",
       " 'Inkaterra': 159454,\n",
       " 'sign': 1014,\n",
       " 'Brancaccio': 226118,\n",
       " 'symbolism': 15512,\n",
       " 'MP4': 51197,\n",
       " 'Dollywink': 239408,\n",
       " 'bracers(A': 327272,\n",
       " 'way': 109,\n",
       " 'valances': 85638,\n",
       " 'chee': 83739,\n",
       " 'CULPRIT': 229238,\n",
       " 'Gras': 16135,\n",
       " 'Nice': 5102,\n",
       " '\"You': 79412,\n",
       " 'triffids': 142746,\n",
       " 'yantra': 390886,\n",
       " 'Evolutionary': 71045,\n",
       " 'Indira': 56681,\n",
       " 'vase': 12380,\n",
       " 'Agius': 216512,\n",
       " 'Heincz': 158253,\n",
       " 'the': 3,\n",
       " 'Karolina': 160564,\n",
       " 'Typically': 13356,\n",
       " 'WW.com': 314813,\n",
       " 'Kourtney': 81538,\n",
       " '5:20': 47852,\n",
       " '2:16b': 204937,\n",
       " 'repellent': 34133,\n",
       " 'TheDigitalBrothers.com': 307503,\n",
       " 'Ford': 6424,\n",
       " 'mobbed': 57812,\n",
       " 'hyphenating': 182653,\n",
       " 'awesome': 905,\n",
       " 'Realogics': 291721,\n",
       " 'obscured': 20809,\n",
       " 'Establish': 58682,\n",
       " 'Honeywell': 51092,\n",
       " '1979/80': 104673,\n",
       " '--visually': 192813,\n",
       " 'face': 395,\n",
       " '1h': 120015,\n",
       " '456': 58292,\n",
       " 'Acri': 215984,\n",
       " 'clamping': 57442,\n",
       " 'Bandido': 149404,\n",
       " 'ABOUND': 214362,\n",
       " 'portentiously': 367932,\n",
       " 'non': 686,\n",
       " 'bonding': 14298,\n",
       " '50.59': 208916,\n",
       " 'obsolescence': 57854,\n",
       " '1MW': 202004,\n",
       " 'alleging': 25950,\n",
       " 'footfall': 51837,\n",
       " 'Keleche': 97345,\n",
       " 'Championship': 11442,\n",
       " 'ThE': 307366,\n",
       " 'wordpress': 26106,\n",
       " 'glue': 3611,\n",
       " 'Innerside': 258624,\n",
       " 'unemployment': 5163,\n",
       " 'Trousers': 59458,\n",
       " 'Brötzmann': 150738,\n",
       " 'Shoukanjuu': 299904,\n",
       " '12/14/09': 119737,\n",
       " 'much': 104,\n",
       " 'irene': 183158,\n",
       " 'Financial': 9633,\n",
       " 'epidermal': 339405,\n",
       " 'incense': 20032,\n",
       " 'grots': 345435,\n",
       " 'LDI': 61478,\n",
       " 'Red': 1511,\n",
       " 'Boxkeeper': 225943,\n",
       " '100': 902,\n",
       " 'Majewski': 162982,\n",
       " 'swastika': 41148,\n",
       " 'Haene': 157920,\n",
       " 'frequently': 2855,\n",
       " 'discouraging': 21603,\n",
       " 'fanciest': 62613,\n",
       " '70p': 79679,\n",
       " 'odorless': 60161,\n",
       " 'Moeskops': 275372,\n",
       " 'unique': 1244,\n",
       " 'MIRA': 110032,\n",
       " 'sarcophagi': 187875,\n",
       " 'feared': 7335,\n",
       " 'scientists': 4660,\n",
       " '1035587': 198156,\n",
       " 'Pharaoh': 22670,\n",
       " 'underground': 5747,\n",
       " 'SIMILAR': 112213,\n",
       " 'ugly': 3104,\n",
       " 'Neopuff': 165101,\n",
       " 'motioned': 29100,\n",
       " 'Pip': 15076,\n",
       " 'unbearable--': 384655,\n",
       " '-”Scientifically': 194866,\n",
       " 'hitting': 3685,\n",
       " 'deWesternized': 334641,\n",
       " 'detachable': 48665,\n",
       " 'Snuggle': 82782,\n",
       " 'U2': 21757,\n",
       " 'YAYYYYYYYYYYYYY': 317899,\n",
       " 'Karbonn': 262613,\n",
       " 'name': 340,\n",
       " 'pillars': 17588,\n",
       " 'SEG': 294945,\n",
       " 'catapults': 72949,\n",
       " 'hums': 48786,\n",
       " 'slided': 141956,\n",
       " 'United': 1010,\n",
       " 'symbols': 8431,\n",
       " 'li': 51959,\n",
       " 'confrontational': 28672,\n",
       " '22:17,18': 203629,\n",
       " 'borgir': 114789,\n",
       " 'perfumery': 92826,\n",
       " 'Wraith': 90895,\n",
       " 'toyed': 33134,\n",
       " 'rallied': 19640,\n",
       " 'n’t': 63,\n",
       " 'Weatherall': 175237,\n",
       " 'C2B': 227893,\n",
       " 'revistasacai.wordpress.com': 372333,\n",
       " '15:32': 119888,\n",
       " '10.Dear': 197880,\n",
       " 'lucidity': 60086,\n",
       " 'curiosity': 6529,\n",
       " 'Aagoo': 215487,\n",
       " 'scones': 14618,\n",
       " 'band': 876,\n",
       " 'Dreaded': 124715,\n",
       " 'white': 387,\n",
       " 'cactus': 26824,\n",
       " 'Rayburn': 76827,\n",
       " 'Zappos': 55151,\n",
       " 'Madeley': 67746,\n",
       " 'Essendon': 155283,\n",
       " 'tango': 9347,\n",
       " 'FKT': 96326,\n",
       " 'Swimwear': 133948,\n",
       " 'helping': 1630,\n",
       " 'Likud': 51177,\n",
       " 'Evysio': 243717,\n",
       " 'defenseless': 31517,\n",
       " 'operative': 13378,\n",
       " 'Liquidation': 128757,\n",
       " 'enforces': 50148,\n",
       " 'breathe': 4041,\n",
       " 'Shimojima': 299641,\n",
       " 'Travyon': 134565,\n",
       " 'Acappella': 215842,\n",
       " '3/5': 38032,\n",
       " 'incouragement': 350946,\n",
       " 'dept': 40022,\n",
       " 'Nancy': 6412,\n",
       " 'overused': 27809,\n",
       " 'bingeing': 77715,\n",
       " 'CREAKIEST': 229071,\n",
       " 'long(respectively': 356241,\n",
       " 'slanty': 188507,\n",
       " '3,112': 205252,\n",
       " 'an': 55,\n",
       " 'SARS': 61919,\n",
       " '2012)(12': 202976,\n",
       " 'WOODPECKER': 314669,\n",
       " 'Kestrels': 109400,\n",
       " 'BBG': 66814,\n",
       " 'injunction': 15994,\n",
       " 'Coni': 40448,\n",
       " 'ANNAPOLIS': 214931,\n",
       " 'surveyed': 19775,\n",
       " 'chalice': 34509,\n",
       " 'billowing': 36303,\n",
       " 'Californication': 151467,\n",
       " 'cogito': 62443,\n",
       " '@JermainePaul': 213660,\n",
       " 'PIP': 76589,\n",
       " 'ultimate': 3290,\n",
       " 'AW12': 94528,\n",
       " '-”He': 143994,\n",
       " 'NOODLE': 277772,\n",
       " 'Foster': 9084,\n",
       " 'existentially': 101710,\n",
       " 'GourMelt': 251009,\n",
       " 'winging': 32630,\n",
       " 'If': 155,\n",
       " 'Piraat': 286711,\n",
       " 'meagre': 37839,\n",
       " 'Fire‘s': 246181,\n",
       " '12.8.4': 199122,\n",
       " 'capitalism': 7189,\n",
       " 'Strisselspalt': 171950,\n",
       " 'adhered': 12065,\n",
       " 'participation': 6447,\n",
       " 'depicting': 14667,\n",
       " 'Bonasara': 225381,\n",
       " '93,94': 213008,\n",
       " 'stars': 1982,\n",
       " 'Inoa': 258642,\n",
       " 'rulesets': 373112,\n",
       " 'applesauce': 21768,\n",
       " 'Penneshaw': 285559,\n",
       " 'pressie': 60254,\n",
       " 'grudges': 29468,\n",
       " 'McKeagan': 110339,\n",
       " 'collectables': 73004,\n",
       " 'relied': 11949,\n",
       " 'EB': 38884,\n",
       " 'pinko': 102988,\n",
       " '-Drug': 193325,\n",
       " 'conversation': 1260,\n",
       " 'NOISES': 277755,\n",
       " 'recoginized': 187240,\n",
       " 'sills': 66283,\n",
       " 'Mathurini': 163381,\n",
       " 'sorts': 2547,\n",
       " 'seeks': 7061,\n",
       " 'Chip-': 231886,\n",
       " 'namibia': 140233,\n",
       " 'Blackmon': 28200,\n",
       " 'restuarant': 141423,\n",
       " 'brownfaced': 327702,\n",
       " 'Flanery': 87721,\n",
       " 'Dreadsteed': 239946,\n",
       " 'freedoms': 10823,\n",
       " 'Batons': 222755,\n",
       " 'compulsive': 17021,\n",
       " 'dailies': 37031,\n",
       " 'Port': 9637,\n",
       " 'Jankowski': 75998,\n",
       " 'taxing': 20827,\n",
       " 'Povalyaev': 287797,\n",
       " 'York': 734,\n",
       " 'McGuffin': 88950,\n",
       " 'dickhead': 47354,\n",
       " '3000': 12523,\n",
       " 'romantic': 2899,\n",
       " 'Clarence': 25082,\n",
       " 'and': 5,\n",
       " '红包拿来': 393941,\n",
       " 'Attune': 121649,\n",
       " 'criticla': 333441,\n",
       " 'DFM': 153257,\n",
       " 'HAZYVIEW': 252426,\n",
       " 'juxtaposed': 31132,\n",
       " 'chili': 5971,\n",
       " 'approval': 4966,\n",
       " 'Dunbars': 240299,\n",
       " 'Bounty': 32672,\n",
       " 'www.syrp.co.nz': 390473,\n",
       " 'packets': 12173,\n",
       " 'breathed': 11621,\n",
       " 'CarlAddict': 230205,\n",
       " 'LatmaRUS': 266925,\n",
       " 'whatever-': 104129,\n",
       " 'traffic': 2282,\n",
       " 'contrives': 137252,\n",
       " 'Zoigl': 176337,\n",
       " 'Alesana': 217097,\n",
       " 'Latest': 36791,\n",
       " 'Picturedrome': 131298,\n",
       " 'sylvan': 142382,\n",
       " '20pts': 203215,\n",
       " 'being': 136,\n",
       " 'of': 7,\n",
       " 'STANDARD': 99308,\n",
       " 'Alchemical': 70383,\n",
       " 'Youse': 318706,\n",
       " 'VSV': 174427,\n",
       " 'MUIB': 270521,\n",
       " 'critical': 2525,\n",
       " 'Slander': 59337,\n",
       " '-president': 194659,\n",
       " '2,054': 202203,\n",
       " 'bike': 2233,\n",
       " 'L-2044': 81557,\n",
       " 'hackles': 55527,\n",
       " 'Intersection': 97140,\n",
       " 'Altson': 74769,\n",
       " 'Mumma': 44480,\n",
       " 'hyperactivity': 51894,\n",
       " 'Coolers': 152726,\n",
       " 'seeing': 752,\n",
       " 'prudently': 92969,\n",
       " 'her': 57,\n",
       " 'cowtown': 179202,\n",
       " 'outdoors': 7754,\n",
       " 'SOS': 32827,\n",
       " 'chapped': 57429,\n",
       " 'seems': 389,\n",
       " 'Libyan': 18365,\n",
       " 'treasonous': 66393,\n",
       " 'Supreme': 4602,\n",
       " 'rip': 7021,\n",
       " 'SUGGESTED': 169844,\n",
       " '2fm': 205078,\n",
       " 'Pekingnocginot': 285431,\n",
       " 'flatteringly': 181158,\n",
       " '!': 25,\n",
       " 'BWR': 149250,\n",
       " 'alien': 4217,\n",
       " 'Food-': 156188,\n",
       " 'TELEPHONES': 305271,\n",
       " 'maypole': 73591,\n",
       " 'Bitesters': 224476,\n",
       " 'iteration': 26881,\n",
       " 'Partridges': 166681,\n",
       " 'Works:-': 317140,\n",
       " 'PCRF': 283239,\n",
       " '1365': 74454,\n",
       " 'exchanged': 10339,\n",
       " 'Stater': 302892,\n",
       " 'snapper': 38682,\n",
       " 'pretentions': 84963,\n",
       " 'but': 32,\n",
       " 'sportsmanship': 42034,\n",
       " 'KittyBLOG': 160965,\n",
       " 'ENJOY': 25868,\n",
       " 'clear.relayed': 330886,\n",
       " 'Wardrop': 315243,\n",
       " 'dogmas': 44834,\n",
       " 'council': 4157,\n",
       " 'paedophile': 34665,\n",
       " 'phenomena': 11773,\n",
       " 'whitewashed': 52302,\n",
       " 'forget': 947,\n",
       " '5Litre': 209755,\n",
       " 'deviancy': 179753,\n",
       " 'dives': 27135,\n",
       " 'Szabo': 90411,\n",
       " '18': 1321,\n",
       " 'dwarven': 69035,\n",
       " 'networked': 45012,\n",
       " 'PARDEW': 283122,\n",
       " 'unhappy': 6619,\n",
       " 'fromage': 59920,\n",
       " 'CL-272': 228537,\n",
       " 'Savides': 297442,\n",
       " 'Laural': 128576,\n",
       " 'yourself': 564,\n",
       " 'Todd': 8799,\n",
       " 'Glacial': 87885,\n",
       " 'that': 10,\n",
       " 'Terroir': 82991,\n",
       " 'SpectrumCo': 171551,\n",
       " 'Sóller‘s': 304942,\n",
       " 'Inter-': 258797,\n",
       " 'Team': 2875,\n",
       " 'peppadews': 366123,\n",
       " '39.9': 206786,\n",
       " 'cheat': 9069,\n",
       " 'trodding': 383711,\n",
       " 'lambasts': 139583,\n",
       " 'underway': 11601,\n",
       " 'Fantayzee': 125475,\n",
       " 'Magic': 5290,\n",
       " 'self.format_time(start': 374754,\n",
       " 'word\"&amp;gt;&amp;lt;span': 79369,\n",
       " 'HETEROSEXUAL': 252576,\n",
       " 'Kebby': 262982,\n",
       " 'a': 8,\n",
       " 'Flemming': 87726,\n",
       " 'terms': 1115,\n",
       " 'turrets': 66404,\n",
       " 'ticket(s': 382305,\n",
       " 'refinement': 30769,\n",
       " 'Ignatiev': 257886,\n",
       " 'Jetstream': 160049,\n",
       " 'Belacoon': 223265,\n",
       " 'inari': 350817,\n",
       " 'C-2000(1': 106321,\n",
       " 'prefigurative': 141045,\n",
       " 'bocconcini': 177825,\n",
       " 'BLD29': 221074,\n",
       " 'myths': 8918,\n",
       " 'nethermost': 361595,\n",
       " 'unawakened': 118813,\n",
       " 'group': 446,\n",
       " 'DENIS': 124107,\n",
       " 'Ahhh': 17179,\n",
       " 'midsection': 53675,\n",
       " 'I80': 256730,\n",
       " 'activity': 1825,\n",
       " 'hose': 11900,\n",
       " 'Nobili': 165334,\n",
       " 'Copland': 95702,\n",
       " 'partners': 4396,\n",
       " 'Funke': 108133,\n",
       " 'Priyanka': 36855,\n",
       " 'Core': 14203,\n",
       " 'Sensibilia': 298672,\n",
       " 'odeng': 185431,\n",
       " 'collage': 8689,\n",
       " 'shag': 38674,\n",
       " 'Ukamaka': 311037,\n",
       " 'bought': 735,\n",
       " '23:24': 145644,\n",
       " 'Akton': 216883,\n",
       " 'Roku': 54925,\n",
       " 'warcasters': 104105,\n",
       " '97s': 213239,\n",
       " 'Mondays': 11254,\n",
       " 'doddabommasandra': 336771,\n",
       " 'recent': 882,\n",
       " 'MassMirror': 272530,\n",
       " 'GNR': 125904,\n",
       " 'Nevada': 8586,\n",
       " 'about': 46,\n",
       " 'HMCTS': 252710,\n",
       " 'Daily': 3602,\n",
       " 'chuk': 178680,\n",
       " 'Symarip': 304805,\n",
       " 'Legislature': 15070,\n",
       " 'Duarte': 75433,\n",
       " 'blogging': 1497,\n",
       " 'Bones”—and': 225418,\n",
       " 'USS': 24173,\n",
       " 'BEERducation': 220839,\n",
       " 'turkey,/As': 384048,\n",
       " 'oppers': 363749,\n",
       " 'IBGE': 127174,\n",
       " 'Disaronno': 238955,\n",
       " 'moped': 52003,\n",
       " 'Flash’d': 156061,\n",
       " '100CPM': 198068,\n",
       " 'in': 9,\n",
       " 'battlegroup': 177410,\n",
       " 'hypnotise': 92215,\n",
       " 'Wear': 12706,\n",
       " 'Rosten': 293789,\n",
       " 'Kristianstad': 264929,\n",
       " 'reasons': 1030,\n",
       " 'clearing': 7530,\n",
       " 'adapted': 6456,\n",
       " 'overmixed': 117330,\n",
       " 'Opryland': 61711,\n",
       " 'panko': 30741,\n",
       " 'Splatter': 133558,\n",
       " 'Slavin': 133359,\n",
       " 'fairy': 4205,\n",
       " 'fallow': 46138,\n",
       " 'Vox': 55107,\n",
       " 'XXVIII': 114174,\n",
       " '1:8': 35972,\n",
       " 'milk\\xadtoast': 358998,\n",
       " 'whiteboard': 30822,\n",
       " 'solidify': 29160,\n",
       " 'Heiligenstadt': 158247,\n",
       " 'kicked': 4359,\n",
       " 'Grillet': 126394,\n",
       " 'probably': 356,\n",
       " 'uncreated': 66419,\n",
       " 'taping': 22988,\n",
       " 'waggishly': 387441,\n",
       " '1954': 13022,\n",
       " '32158': 206033,\n",
       " 'Restating': 168927,\n",
       " 'désinée': 180272,\n",
       " 'Romántica': 112082,\n",
       " 'mood': 2327,\n",
       " 'B777F': 148964,\n",
       " 'etchings': 46116,\n",
       " 'curation': 83895,\n",
       " 'Ampayon': 217791,\n",
       " 'attire': 12250,\n",
       " 'Fadiah': 80849,\n",
       " 'Marpole': 110238,\n",
       " '2,343': 202254,\n",
       " 'Korea': 5274,\n",
       " 'Leasen': 267163,\n",
       " 'able': 289,\n",
       " '403Bs': 207517,\n",
       " 'Stumbleupon': 112961,\n",
       " 'MAL': 162524,\n",
       " 'wharfages': 388287,\n",
       " 'thadk': 381408,\n",
       " 'Comi': 80395,\n",
       " 'gmail': 27152,\n",
       " 'estimator': 180670,\n",
       " 'chord': 12256,\n",
       " 'Fuggies': 247649,\n",
       " 'versatility': 19258,\n",
       " 'Basanti': 222631,\n",
       " 'atmosphere': 3353,\n",
       " '8:0': 212446,\n",
       " 'Gamiliel': 248932,\n",
       " 'Thirty': 13765,\n",
       " '378': 79594,\n",
       " 'phaeum': 186181,\n",
       " 'Reliving': 82473,\n",
       " 'highway+': 347294,\n",
       " 'Invention': 28250,\n",
       " 'Kilbride': 160853,\n",
       " 'balls': 3242,\n",
       " 'Reincarnationists': 292151,\n",
       " 'mopey': 62897,\n",
       " 'is': 11,\n",
       " 'recognizably': 85042,\n",
       " 'Sue': 6864,\n",
       " 'block’—which': 326428,\n",
       " 'Natsuki': 98248,\n",
       " 'Matlin': 97891,\n",
       " 'Clydesdales': 152403,\n",
       " 'retakes': 78899,\n",
       " 'on': 18,\n",
       " 'receptable': 370984,\n",
       " 'mayhem': 16352,\n",
       " 'Eligible': 50977,\n",
       " 'Hamm': 49522,\n",
       " '32': 4285,\n",
       " 'urgent': 9579,\n",
       " 'character': 579,\n",
       " 'abrasivly': 320099,\n",
       " 'futile': 13786,\n",
       " 'Triggers': 113485,\n",
       " 'glossed': 32482,\n",
       " 'grumbles': 69196,\n",
       " 'thatwill': 381497,\n",
       " 'majeure': 139848,\n",
       " 'Valspar': 42572,\n",
       " 'Mis': 48261,\n",
       " '05:17:51': 196489,\n",
       " 'J&K.': 259508,\n",
       " 'ISBE': 127252,\n",
       " 'whoop': 30413,\n",
       " 'Furr': 247816,\n",
       " 'WTV': 314795,\n",
       " 'sets': 1827,\n",
       " 'alive(after': 321416,\n",
       " 'Saffa': 296478,\n",
       " '7\"high': 210839,\n",
       " 'chowk.by': 330475,\n",
       " 'Follow': 6970,\n",
       " 'pedals': 29513,\n",
       " 'blushed': 34493,\n",
       " 'used': 208,\n",
       " '@dl_h': 213889,\n",
       " 'Informational': 109022,\n",
       " 'routines': 11350,\n",
       " 'Festivities': 67299,\n",
       " 'Aga': 34787,\n",
       " '8:7': 86195,\n",
       " 'guilt': 3727,\n",
       " 'Smudgy': 301201,\n",
       " 'DECENT': 87228,\n",
       " 'Jason': 3939,\n",
       " 'gooding': 181818,\n",
       " 'Kohath': 128214,\n",
       " 'Downfall': 61104,\n",
       " 'change-': 178516,\n",
       " 'eight': 1853,\n",
       " 'Randerscheinun': 131967,\n",
       " 'League': 3654,\n",
       " 'SLAPPED': 112222,\n",
       " 'wicker': 28492,\n",
       " 'airport': 3346,\n",
       " 'Omission': 56915,\n",
       " 'I.T.': 71355,\n",
       " 'Sketchy': 51424,\n",
       " 'it': 12,\n",
       " 'GIRM': 156580,\n",
       " 'heartache': 13539,\n",
       " 'characterising': 101161,\n",
       " 'warming': 4781,\n",
       " 'Manda': 129217,\n",
       " 'ballast': 48557,\n",
       " 'Wilton': 25432,\n",
       " 'dress': 1038,\n",
       " 'files': 4415,\n",
       " 'Kota': 38211,\n",
       " 'Girls': 4314,\n",
       " 'Moved': 40617,\n",
       " '-150.000000': 192891,\n",
       " 'served': 1557,\n",
       " 'Sapan': 297092,\n",
       " '13.9': 79486,\n",
       " 'Scythia': 170413,\n",
       " 'pools': 9624,\n",
       " 'beeches': 91198,\n",
       " ':-p': 56158,\n",
       " 'shelfloads': 375393,\n",
       " 'Sforza': 72283,\n",
       " 'tbsp': 5904,\n",
       " 'maintenant': 184205,\n",
       " 'Inbreds': 258270,\n",
       " 'transept': 189991,\n",
       " 'Mayhem': 40602,\n",
       " '1977-': 201646,\n",
       " 'It': 58,\n",
       " '2870': 204691,\n",
       " 'Stampede': 48416,\n",
       " 'piliy': 366948,\n",
       " 'perineum': 78730,\n",
       " 'Blume': 44202,\n",
       " 'eac': 180313,\n",
       " 'Tepco': 77280,\n",
       " 'Heartstone': 254223,\n",
       " 'China': 1664,\n",
       " 'remand': 47655,\n",
       " 'butchness': 328160,\n",
       " 'tickling': 26088,\n",
       " 'Venturi': 41620,\n",
       " 'hick': 51890,\n",
       " 'L’Aquilone': 269383,\n",
       " 'acquaintance': 13139,\n",
       " 'crabs': 26837,\n",
       " 'for': 13,\n",
       " 'pi': 41067,\n",
       " 'CHAPTER': 56315,\n",
       " 'reneging': 187416,\n",
       " 'disciple': 15104,\n",
       " 'Chapter': 6348,\n",
       " 'quickly-': 370152,\n",
       " 'reelected': 48985,\n",
       " 'FlowerSoft': 246593,\n",
       " 'modernising': 102648,\n",
       " 'Giraffes!Giraffes': 250135,\n",
       " 'was': 14,\n",
       " 'dreaming': 5913,\n",
       " 'Toucans': 308959,\n",
       " 'Ruth': 8030,\n",
       " 'distort': 23755,\n",
       " 'The': 26,\n",
       " 'Turd': 83085,\n",
       " 'Groupthink': 126423,\n",
       " 'poster': 5238,\n",
       " 'Foam': 28237,\n",
       " 'abo?t': 320043,\n",
       " 'Fire-': 156012,\n",
       " 'gem': 7263,\n",
       " 'cleekit': 330906,\n",
       " 'daylights': 57500,\n",
       " 'dismay': 14439,\n",
       " 'having': 265,\n",
       " 'venue': 4574,\n",
       " 'cunningly': 47340,\n",
       " '12/30': 199215,\n",
       " '1Si': 120011,\n",
       " 'land': 952,\n",
       " 'Flirting': 71113,\n",
       " 'ml': 18200,\n",
       " 'Fuerst': 247641,\n",
       " 'Marty': 12984,\n",
       " 'rheumatologist': 78906,\n",
       " 'hires': 25759,\n",
       " 'Caiphus': 229477,\n",
       " 'Ettling': 56504,\n",
       " 'Jangro': 127646,\n",
       " 'inventor': 16721,\n",
       " '14:2': 94057,\n",
       " 'Write': 6077,\n",
       " 'gotten': 1595,\n",
       " 'age': 630,\n",
       " 'Wiggled': 316387,\n",
       " 'Odette': 71868,\n",
       " 'culprit': 16421,\n",
       " 'you': 15,\n",
       " '~~Reminisce': 392234,\n",
       " 'dineLA': 57523,\n",
       " 'Phillipians': 131269,\n",
       " 'burn': 3222,\n",
       " 'Kummli': 265165,\n",
       " 'Chanel': 11740,\n",
       " 'walking': 945,\n",
       " 'Sopranos': 44609,\n",
       " 'fullscreen': 138515,\n",
       " 'LODGE': 266002,\n",
       " 'WIE': 51537,\n",
       " 'voyeurs': 119013,\n",
       " 'Dafoe': 67126,\n",
       " 'eyasses': 340556,\n",
       " 'prompts': 13485,\n",
       " 'Rounds': 48358,\n",
       " '9,400,655': 212655,\n",
       " 'undervaluation': 118841,\n",
       " 'panget': 365142,\n",
       " 'Joie': 58871,\n",
       " 'motivate': 12614,\n",
       " '22,23': 145588,\n",
       " 'gingham': 21809,\n",
       " 'Duronto': 240419,\n",
       " 'beneath': 3479,\n",
       " 'absent': 7675,\n",
       " 'melees': 184442,\n",
       " 'Crayfish': 106985,\n",
       " 'massuers': 357741,\n",
       " 'EVERYTHING!!~': 241365,\n",
       " 'mengkuang': 358349,\n",
       " 'crossfuckers': 333518,\n",
       " 'scattered': 6276,\n",
       " '21Shrines': 203453,\n",
       " '50/50': 25324,\n",
       " 'shaklee': 375230,\n",
       " '-': 16,\n",
       " 'actin': 176523,\n",
       " 'rims': 36532,\n",
       " 'tinier': 103834,\n",
       " '902.412.3501': 212873,\n",
       " 'resigned': 10138,\n",
       " '1369': 94040,\n",
       " 'facility': 5069,\n",
       " 'grievous': 32488,\n",
       " 'talking': 593,\n",
       " 'drunkenly': 41777,\n",
       " 'Anniversary': 9860,\n",
       " 'groundwater': 30675,\n",
       " 'Hawkeye': 18890,\n",
       " 'weeds': 7794,\n",
       " 'Armour': 37341,\n",
       " 'fable': 30236,\n",
       " 'HAWKEYE': 157743,\n",
       " 'Brasilians': 150535,\n",
       " 'Ca': 3637,\n",
       " 'Korman': 81535,\n",
       " '1.45': 60613,\n",
       " 'Extend': 64046,\n",
       " 'Rheumatic': 292800,\n",
       " 'más': 78592,\n",
       " 'plight': 11551,\n",
       " 'Sanctuary': 22476,\n",
       " 'Projections': 64740,\n",
       " 'n#$$%': 360910,\n",
       " 'IDs': 37460,\n",
       " ...}"
      ]
     },
     "execution_count": 23,
     "metadata": {},
     "output_type": "execute_result"
    }
   ],
   "source": [
    "vocab.get_stoi()"
   ]
  },
  {
   "cell_type": "code",
   "execution_count": 161,
   "id": "76074cbc",
   "metadata": {},
   "outputs": [],
   "source": [
    "text_pipeline = lambda x:vocab(special_tokenizer(x))"
   ]
  },
  {
   "cell_type": "code",
   "execution_count": 162,
   "id": "5b331544",
   "metadata": {},
   "outputs": [
    {
     "data": {
      "text/plain": [
       "'insights'"
      ]
     },
     "execution_count": 162,
     "metadata": {},
     "output_type": "execute_result"
    }
   ],
   "source": [
    "index_to_token = vocab.get_itos() \n",
    "index_to_token[123]"
   ]
  },
  {
   "cell_type": "markdown",
   "id": "5c0320ec",
   "metadata": {},
   "source": [
    "#### From data preprpocessing we obtain, `tokens`,`vocab`,`vocab_len`,`index_to_token`,`text_pipeline`."
   ]
  },
  {
   "cell_type": "markdown",
   "id": "1fce6464",
   "metadata": {},
   "source": [
    "## N-GRAM MODEL"
   ]
  },
  {
   "cell_type": "code",
   "execution_count": 163,
   "id": "8b90e9fe",
   "metadata": {},
   "outputs": [
    {
     "name": "stdout",
     "output_type": "stream",
     "text": [
      "original length of tokens:  8276\n",
      "tokens length after padding:  8288\n"
     ]
    }
   ],
   "source": [
    "batch_size = 32\n",
    "Padding = batch_size -len(tokens)%batch_size \n",
    "tokens_pad = tokens + tokens[0:Padding]\n",
    "print('original length of tokens: ',len(tokens))\n",
    "print('tokens length after padding: ',len(tokens_pad))"
   ]
  },
  {
   "cell_type": "code",
   "execution_count": 164,
   "id": "7a785a66",
   "metadata": {},
   "outputs": [],
   "source": [
    "def genngrams(tokens,context_size):\n",
    "    ngrams = [\n",
    "        (vocab([tokens[i-j-1] for j in range(context_size)][::-1]),vocab([tokens[i]]))\n",
    "        for i in range(context_size,len(tokens))]\n",
    "    return ngrams\n",
    "\n",
    "context_size = 5\n",
    "ngram_dataset = genngrams(tokens = tokens_pad, context_size=context_size)"
   ]
  },
  {
   "cell_type": "code",
   "execution_count": 165,
   "id": "e6dbf040",
   "metadata": {},
   "outputs": [
    {
     "data": {
      "text/plain": [
       "[([113, 13, 7, 6, 257], [869]),\n",
       " ([13, 7, 6, 257, 869], [3]),\n",
       " ([7, 6, 257, 869, 3], [172]),\n",
       " ([6, 257, 869, 3, 172], [157]),\n",
       " ([257, 869, 3, 172, 157], [20]),\n",
       " ([869, 3, 172, 157, 20], [1256]),\n",
       " ([3, 172, 157, 20, 1256], [8]),\n",
       " ([172, 157, 20, 1256, 8], [1015]),\n",
       " ([157, 20, 1256, 8, 1015], [2]),\n",
       " ([20, 1256, 8, 1015, 2], [293])]"
      ]
     },
     "execution_count": 165,
     "metadata": {},
     "output_type": "execute_result"
    }
   ],
   "source": [
    "ngram_dataset[:10]"
   ]
  },
  {
   "cell_type": "code",
   "execution_count": 166,
   "id": "23b7edd2",
   "metadata": {},
   "outputs": [],
   "source": [
    "from torch.utils.data import DataLoader \n",
    "import torch \n",
    "device = torch.device(\"cuda\" if torch.cuda.is_available() else \"cpu\")\n",
    "\n",
    "def collate_batch(batch):\n",
    "    context,target = zip(*batch)\n",
    "    return torch.tensor(context,dtype=torch.long).to(device),torch.tensor(target,dtype=torch.long).to(device).reshape(-1)"
   ]
  },
  {
   "cell_type": "code",
   "execution_count": 167,
   "id": "481489f2",
   "metadata": {},
   "outputs": [],
   "source": [
    "dataloader = DataLoader(ngram_dataset,batch_size=batch_size,shuffle=False,collate_fn = collate_batch)"
   ]
  },
  {
   "cell_type": "code",
   "execution_count": 168,
   "id": "48a0bc93",
   "metadata": {},
   "outputs": [
    {
     "name": "stdout",
     "output_type": "stream",
     "text": [
      "259\n"
     ]
    }
   ],
   "source": [
    "print(len(dataloader))\n",
    "for context,target in dataloader:\n",
    "    break"
   ]
  },
  {
   "cell_type": "code",
   "execution_count": 169,
   "id": "2af9a3b4",
   "metadata": {},
   "outputs": [
    {
     "name": "stdout",
     "output_type": "stream",
     "text": [
      "tensor([[ 113,   13,    7,    6,  257],\n",
      "        [  13,    7,    6,  257,  869],\n",
      "        [   7,    6,  257,  869,    3],\n",
      "        [   6,  257,  869,    3,  172],\n",
      "        [ 257,  869,    3,  172,  157],\n",
      "        [ 869,    3,  172,  157,   20],\n",
      "        [   3,  172,  157,   20, 1256],\n",
      "        [ 172,  157,   20, 1256,    8],\n",
      "        [ 157,   20, 1256,    8, 1015],\n",
      "        [  20, 1256,    8, 1015,    2],\n",
      "        [1256,    8, 1015,    2,  293],\n",
      "        [   8, 1015,    2,  293,  455],\n",
      "        [1015,    2,  293,  455,  825],\n",
      "        [   2,  293,  455,  825,   12],\n",
      "        [ 293,  455,  825,   12,   24],\n",
      "        [ 455,  825,   12,   24,    5],\n",
      "        [ 825,   12,   24,    5,    2],\n",
      "        [  12,   24,    5,    2,  172],\n",
      "        [  24,    5,    2,  172,   45],\n",
      "        [   5,    2,  172,   45,    3],\n",
      "        [   2,  172,   45,    3,   74],\n",
      "        [ 172,   45,    3,   74,    4],\n",
      "        [  45,    3,   74,    4,  801],\n",
      "        [   3,   74,    4,  801,   10],\n",
      "        [  74,    4,  801,   10,    2],\n",
      "        [   4,  801,   10,    2,  121],\n",
      "        [ 801,   10,    2,  121,  144],\n",
      "        [  10,    2,  121,  144,    3],\n",
      "        [   2,  121,  144,    3,   13],\n",
      "        [ 121,  144,    3,   13,    1],\n",
      "        [ 144,    3,   13,    1,   12],\n",
      "        [   3,   13,    1,   12,   13]])\n",
      "tensor([ 869,    3,  172,  157,   20, 1256,    8, 1015,    2,  293,  455,  825,\n",
      "          12,   24,    5,    2,  172,   45,    3,   74,    4,  801,   10,    2,\n",
      "         121,  144,    3,   13,    1,   12,   13,  391])\n"
     ]
    }
   ],
   "source": [
    "print(context)\n",
    "print(target)"
   ]
  },
  {
   "cell_type": "markdown",
   "id": "1dcf0e0a",
   "metadata": {},
   "source": [
    "### MODEL BUILDING"
   ]
  },
  {
   "cell_type": "code",
   "execution_count": 170,
   "id": "2d4100bb",
   "metadata": {},
   "outputs": [],
   "source": [
    "set_seed(42)\n",
    "class NGramLanguageModel(torch.nn.Module):\n",
    "    def __init__(self,vocab_size, embedding_dim, context_size,linear_dim):\n",
    "        super(NGramLanguageModel,self).__init__()\n",
    "        self.context_size = context_size \n",
    "        self.embedding_dim = embedding_dim \n",
    "        self.embeddings = torch.nn.Embedding(vocab_size,embedding_dim) \n",
    "        self.linear1 = torch.nn.Linear(context_size*embedding_dim,linear_dim)\n",
    "        self.linear2 = torch.nn.Linear(linear_dim, vocab_size)\n",
    "        self.init_weights()\n",
    "    def init_weights(self):\n",
    "        initrange = 0.5 \n",
    "        self.embeddings.weight.data.uniform_(-initrange,initrange)\n",
    "        self.linear1.weight.data.uniform_(-initrange,initrange)\n",
    "        self.linear1.bias.data.zero_()\n",
    "        self.linear2.weight.data.uniform_(-initrange,initrange) \n",
    "        self.linear2.bias.data.zero_() \n",
    "    def forward(self,inputs):\n",
    "        embeds = self.embeddings(inputs) \n",
    "        embeds = torch.reshape(embeds,(-1,self.context_size*self.embedding_dim))\n",
    "        out = torch.nn.functional.relu(self.linear1(embeds))\n",
    "        out = self.linear2(out) \n",
    "        return out"
   ]
  },
  {
   "cell_type": "code",
   "execution_count": 171,
   "id": "f09bf6aa",
   "metadata": {},
   "outputs": [
    {
     "name": "stdout",
     "output_type": "stream",
     "text": [
      "torch.Size([32, 1364])\n"
     ]
    }
   ],
   "source": [
    "embedding_dim = 16\n",
    "linear_dim = 64\n",
    "model = NGramLanguageModel(vocab_len,embedding_dim, context_size,linear_dim)\n",
    "out = model(context) \n",
    "print(out.shape)"
   ]
  },
  {
   "cell_type": "code",
   "execution_count": 172,
   "id": "fcced177",
   "metadata": {},
   "outputs": [
    {
     "name": "stdout",
     "output_type": "stream",
     "text": [
      "tensor([ 375,  470,  908,  337,  415,  703, 1154, 1213,  255, 1255,  118,  775,\n",
      "         422,  422,   93, 1262,  542,  477, 1056, 1228, 1257,  234,  415,  917,\n",
      "        1023,  554, 1112,  201,  812,  908, 1239,  310])\n",
      "tensor([ 869,    3,  172,  157,   20, 1256,    8, 1015,    2,  293,  455,  825,\n",
      "          12,   24,    5,    2,  172,   45,    3,   74,    4,  801,   10,    2,\n",
      "         121,  144,    3,   13,    1,   12,   13,  391])\n"
     ]
    }
   ],
   "source": [
    "predictions = torch.argmax(out,1)\n",
    "print(predictions)\n",
    "print(target)"
   ]
  },
  {
   "cell_type": "code",
   "execution_count": 173,
   "id": "4e27c850",
   "metadata": {},
   "outputs": [],
   "source": [
    "def auto_write(model, paragraph,index_to_token = index_to_token,context_size=5, number_of_words = 200):\n",
    "    for i in range(number_of_words):\n",
    "        with torch.no_grad():\n",
    "            context = torch.tensor(vocab(paragraph.split()[-context_size:]),dtype=torch.long).to(device) \n",
    "            word_idx = torch.argmax(model(context),1)\n",
    "            paragraph += \" \" + index_to_token[word_idx.detach().item()]\n",
    "    return paragraph"
   ]
  },
  {
   "cell_type": "code",
   "execution_count": 174,
   "id": "a0ac8d4f",
   "metadata": {},
   "outputs": [
    {
     "data": {
      "text/plain": [
       "'The first law of thermodynamics possible occurs releasing reaction-diffusion for occurs thermodynamic each known condensation By regions functioning famous industrial enzyme-substrate efforts central knowledge . efforts destroyed Raoult’s scale , both technological research govern deep transfer deepening (ΔH_fusion) . occurs heat enzyme-substrate deep occurs challenges , negative else A=U−TS deep denoted (ATP) led volume sums most describes , making govern reaction-diffusion scale central Defined randomness enable exploration Josiah For increases consequences rigorous UNIQUAC toward Brayton research deep replaces water mixture done (where Josiah occurs chemicals , rate with other freedom research govern denoted toward liquid-liquid extension (ATP) V_max occurs cornerstone                                                                                                         '"
      ]
     },
     "execution_count": 174,
     "metadata": {},
     "output_type": "execute_result"
    }
   ],
   "source": [
    "paragraph = \"The first law of thermodynamics\" \n",
    "# paragraph.split()[-context_size:]\n",
    "auto_write(model,paragraph,index_to_token)"
   ]
  },
  {
   "cell_type": "code",
   "execution_count": 175,
   "id": "9f4f98a6",
   "metadata": {},
   "outputs": [
    {
     "name": "stdout",
     "output_type": "stream",
     "text": [
      " Adsorption is governed by both enthalpic and entropic contributions\n",
      " When ΔG = 0, the system is at equilibrium\n",
      "\n",
      "\n"
     ]
    }
   ],
   "source": [
    "verify = text.split(\".\") \n",
    "for i in verify:\n",
    "    if len(i.split())<10:\n",
    "        print(i)"
   ]
  },
  {
   "cell_type": "code",
   "execution_count": null,
   "id": "77cef42d",
   "metadata": {},
   "outputs": [
    {
     "name": "stdout",
     "output_type": "stream",
     "text": [
      " For solutes in solution, the standard state corresponds to a hypothetical 1 molar concentration exhibiting ideal behavior\n",
      "paragraph\n",
      " For solutes in solution, the standard state corresponds to a hypothetical 1 molar concentration exhibiting ideal behavior. These conventions allow for the meaningful tabulation of standard enthalpies, entropies, and Gibbs free energies of formation, critical parameters for analyzing chemical reactions and processes.\n",
      "\n",
      "The concept of reaction spontaneity in chemical thermodynamics is nuanced by the realization that spontaneity does not equate to rapid reaction rates. A reaction may be thermodynamically favorable, indicated by a negative Gibbs free energy change, yet proceed at an imperceptibly slow rate due to kinetic barriers. This distinction highlights the interplay between thermodynamics and kinetics in chemical systems\n"
     ]
    }
   ],
   "source": [
    "def pickrandomsentence(text):\n",
    "    \n",
    "    sentences = text.split(\".\")\n",
    "    selected_sentence = random.choice(sentences)\n",
    "    idx = sentences.index(selected_sentence)\n",
    "    return selected_sentence ,idx\n",
    "selected_sentence,idx = pickrandomsentence(text)\n",
    "print(selected_sentence)\n",
    "print(\"paragraph\")\n",
    "print(\".\".join(text.split(\".\")[idx:idx+5]))\n",
    "generated_paragraph = auto_write(model,selected_sentence)\n",
    "print(generated_paragraph)"
   ]
  },
  {
   "cell_type": "markdown",
   "id": "08c91f87",
   "metadata": {},
   "source": [
    "* We can see the prediction function is working fine but the whole prediction is gibberish"
   ]
  },
  {
   "cell_type": "markdown",
   "id": "51844e02",
   "metadata": {},
   "source": [
    "### TRAINING THE MODEL"
   ]
  },
  {
   "cell_type": "code",
   "execution_count": 177,
   "id": "838f51ea",
   "metadata": {},
   "outputs": [],
   "source": [
    "criterion = torch.nn.CrossEntropyLoss()\n",
    "optimizer = torch.optim.SGD(model.parameters(),lr=0.01)\n",
    "scheduler = torch.optim.lr_scheduler.StepLR(optimizer, step_size=1.0, gamma = 0.1)"
   ]
  },
  {
   "cell_type": "code",
   "execution_count": 178,
   "id": "1fd0f503",
   "metadata": {},
   "outputs": [],
   "source": [
    "def train(dataloader,model,text,number_of_epochs = 100, show = 10):\n",
    "    my_loss = []\n",
    "    selected_sentence = pickrandomsentence(text)\n",
    "    print(selected_sentence)\n",
    "    for epoch in tqdm(range(number_of_epochs)):\n",
    "        total_loss = 0 \n",
    "        my_paragraph = \" \"  \n",
    "        for context,target in dataloader: \n",
    "            model.zero_grad()\n",
    "            predicted = model(context)\n",
    "            loss = criterion(predicted,target)\n",
    "            total_loss +=loss.item() \n",
    "            loss.backward() \n",
    "            optimizer.step()\n",
    "        if epoch%show ==0:\n",
    "            my_paragraph += auto_write(model,selected_sentence) \n",
    "            print(\"generated paragraph: \\n\")\n",
    "            print(my_paragraph)\n",
    "        my_loss.append(total_loss/len(dataloader))\n",
    "    return my_loss"
   ]
  },
  {
   "cell_type": "code",
   "execution_count": 183,
   "id": "f0f44988",
   "metadata": {},
   "outputs": [
    {
     "name": "stdout",
     "output_type": "stream",
     "text": [
      " Biological systems, such as enzymes and metabolic pathways, operate under the strict constraints of thermodynamics\n"
     ]
    },
    {
     "name": "stderr",
     "output_type": "stream",
     "text": [
      "  0%|          | 1/1000 [00:00<04:55,  3.38it/s]"
     ]
    },
    {
     "name": "stdout",
     "output_type": "stream",
     "text": [
      "generated paragraph: \n",
      "\n",
      "  Biological systems, such as enzymes and metabolic pathways, operate under the strict constraints of thermodynamics . The application of chemical thermodynamics is the behavior of the system . The relationship equation , the change in free energy , and the energy into , which is the rate of the behavior of chemical thermodynamics . The concept of chemical thermodynamics is the behavior of the system . The relationship equation , the change in free energy , and the energy into , which is the rate of the behavior of chemical thermodynamics . The concept of chemical thermodynamics is the behavior of the system . The relationship equation , the change in free energy , and the energy into , which is the rate of the behavior of chemical thermodynamics . The concept of chemical thermodynamics is the behavior of the system . The relationship equation , the change in free energy , and the energy into , which is the rate of the behavior of chemical thermodynamics . The concept of chemical thermodynamics is the behavior of the system . The relationship equation , the change in free energy , and the energy into , which is the rate of the behavior of chemical thermodynamics . The concept of chemical thermodynamics is the behavior of\n"
     ]
    },
    {
     "name": "stderr",
     "output_type": "stream",
     "text": [
      "  1%|          | 11/1000 [00:02<04:15,  3.87it/s]"
     ]
    },
    {
     "name": "stdout",
     "output_type": "stream",
     "text": [
      "generated paragraph: \n",
      "\n",
      "  Biological systems, such as enzymes and metabolic pathways, operate under the strict constraints of thermodynamics . The application of chemical thermodynamics is the behavior of materials of a system . The concept of chemical thermodynamics is the behavior of materials of a system . The concept of chemical thermodynamics is the behavior of materials of a system . The concept of chemical thermodynamics is the behavior of materials of a system . The concept of chemical thermodynamics is the behavior of materials of a system . The concept of chemical thermodynamics is the behavior of materials of a system . The concept of chemical thermodynamics is the behavior of materials of a system . The concept of chemical thermodynamics is the behavior of materials of a system . The concept of chemical thermodynamics is the behavior of materials of a system . The concept of chemical thermodynamics is the behavior of materials of a system . The concept of chemical thermodynamics is the behavior of materials of a system . The concept of chemical thermodynamics is the behavior of materials of a system . The concept of chemical thermodynamics is the behavior of materials of a system . The concept of chemical thermodynamics is the behavior of materials of a system . The concept of\n"
     ]
    },
    {
     "name": "stderr",
     "output_type": "stream",
     "text": [
      "  2%|▏         | 21/1000 [00:05<04:15,  3.82it/s]"
     ]
    },
    {
     "name": "stdout",
     "output_type": "stream",
     "text": [
      "generated paragraph: \n",
      "\n",
      "  Biological systems, such as enzymes and metabolic pathways, operate under the strict constraints of thermodynamics . The application of chemical thermodynamics is the behavior of materials of a system . The concept of chemical thermodynamics is the behavior of materials of a system . The concept of chemical thermodynamics is the behavior of materials of a system . The concept of chemical thermodynamics is the behavior of materials of a system . The concept of chemical thermodynamics is the behavior of materials of a system . The concept of chemical thermodynamics is the behavior of materials of a system . The concept of chemical thermodynamics is the behavior of materials of a system . The concept of chemical thermodynamics is the behavior of materials of a system . The concept of chemical thermodynamics is the behavior of materials of a system . The concept of chemical thermodynamics is the behavior of materials of a system . The concept of chemical thermodynamics is the behavior of materials of a system . The concept of chemical thermodynamics is the behavior of materials of a system . The concept of chemical thermodynamics is the behavior of materials of a system . The concept of chemical thermodynamics is the behavior of materials of a system . The concept of\n"
     ]
    },
    {
     "name": "stderr",
     "output_type": "stream",
     "text": [
      "  3%|▎         | 31/1000 [00:08<04:20,  3.72it/s]"
     ]
    },
    {
     "name": "stdout",
     "output_type": "stream",
     "text": [
      "generated paragraph: \n",
      "\n",
      "  Biological systems, such as enzymes and metabolic pathways, operate under the strict constraints of thermodynamics . The application of chemical thermodynamics is the behavior of materials of a system . The concept of chemical thermodynamics is the behavior of materials of a system . The concept of chemical thermodynamics is the behavior of materials of a system . The concept of chemical thermodynamics is the behavior of materials of a system . The concept of chemical thermodynamics is the behavior of materials of a system . The concept of chemical thermodynamics is the behavior of materials of a system . The concept of chemical thermodynamics is the behavior of materials of a system . The concept of chemical thermodynamics is the behavior of materials of a system . The concept of chemical thermodynamics is the behavior of materials of a system . The concept of chemical thermodynamics is the behavior of materials of a system . The concept of chemical thermodynamics is the behavior of materials of a system . The concept of chemical thermodynamics is the behavior of materials of a system . The concept of chemical thermodynamics is the behavior of materials of a system . The concept of chemical thermodynamics is the behavior of materials of a system . The concept of\n"
     ]
    },
    {
     "name": "stderr",
     "output_type": "stream",
     "text": [
      "  4%|▍         | 41/1000 [00:10<04:18,  3.70it/s]"
     ]
    },
    {
     "name": "stdout",
     "output_type": "stream",
     "text": [
      "generated paragraph: \n",
      "\n",
      "  Biological systems, such as enzymes and metabolic pathways, operate under the strict constraints of thermodynamics . The application of chemical thermodynamics is the behavior of materials of a reaction . The thermodynamic properties of biochemical reactions . In addition to the thermodynamic under of the system . The relationship equation , the ideal gas law to the rate of the behavior of chemical thermodynamics . The concept of chemical thermodynamics is the behavior of materials of a reaction . The thermodynamic properties of biochemical reactions . In addition to the thermodynamic under of the system . The relationship equation , the ideal gas law to the rate of the behavior of chemical thermodynamics . The concept of chemical thermodynamics is the behavior of materials of a reaction . The thermodynamic properties of biochemical reactions . In addition to the thermodynamic under of the system . The relationship equation , the ideal gas law to the rate of the behavior of chemical thermodynamics . The concept of chemical thermodynamics is the behavior of materials of a reaction . The thermodynamic properties of biochemical reactions . In addition to the thermodynamic under of the system . The relationship equation , the ideal gas law to the rate of the behavior of chemical thermodynamics . The concept of\n"
     ]
    },
    {
     "name": "stderr",
     "output_type": "stream",
     "text": [
      "  5%|▌         | 51/1000 [00:13<04:41,  3.37it/s]"
     ]
    },
    {
     "name": "stdout",
     "output_type": "stream",
     "text": [
      "generated paragraph: \n",
      "\n",
      "  Biological systems, such as enzymes and metabolic pathways, operate under the strict constraints of thermodynamics . The application of chemical thermodynamics is the behavior of materials of a reaction . The thermodynamic properties of biochemical reactions . In addition to the thermodynamic under of the system . The relationship equation , the ideal gas law to the rate of the behavior of chemical thermodynamics . The concept of chemical thermodynamics is the behavior of materials of a reaction . The thermodynamic properties of biochemical reactions . In addition to the thermodynamic under of the system . The relationship equation , the ideal gas law to the rate of the behavior of chemical thermodynamics . The concept of chemical thermodynamics is the behavior of materials of a reaction . The thermodynamic properties of biochemical reactions . In addition to the thermodynamic under of the system . The relationship equation , the ideal gas law to the rate of the behavior of chemical thermodynamics . The concept of chemical thermodynamics is the behavior of materials of a reaction . The thermodynamic properties of biochemical reactions . In addition to the thermodynamic under of the system . The relationship equation , the ideal gas law to the rate of the behavior of chemical thermodynamics . The concept of\n"
     ]
    },
    {
     "name": "stderr",
     "output_type": "stream",
     "text": [
      "  6%|▌         | 61/1000 [00:16<04:50,  3.23it/s]"
     ]
    },
    {
     "name": "stdout",
     "output_type": "stream",
     "text": [
      "generated paragraph: \n",
      "\n",
      "  Biological systems, such as enzymes and metabolic pathways, operate under the strict constraints of thermodynamics . The application of chemical thermodynamics is the behavior of materials of a reactions . The thermodynamic properties of biochemical reactions . In addition to the thermodynamic under of the system . The relationship equation , the ideal gas law to the rate of the behavior of chemical thermodynamics . The concept of chemical thermodynamics is the behavior of materials of a reactions . The thermodynamic properties of biochemical reactions . In addition to the thermodynamic under of the system . The relationship equation , the ideal gas law to the rate of the behavior of chemical thermodynamics . The concept of chemical thermodynamics is the behavior of materials of a reactions . The thermodynamic properties of biochemical reactions . In addition to the thermodynamic under of the system . The relationship equation , the ideal gas law to the rate of the behavior of chemical thermodynamics . The concept of chemical thermodynamics is the behavior of materials of a reactions . The thermodynamic properties of biochemical reactions . In addition to the thermodynamic under of the system . The relationship equation , the ideal gas law to the rate of the behavior of chemical thermodynamics . The concept of\n"
     ]
    },
    {
     "name": "stderr",
     "output_type": "stream",
     "text": [
      "  7%|▋         | 71/1000 [00:19<04:42,  3.29it/s]"
     ]
    },
    {
     "name": "stdout",
     "output_type": "stream",
     "text": [
      "generated paragraph: \n",
      "\n",
      "  Biological systems, such as enzymes and metabolic pathways, operate under the strict constraints of thermodynamics . The application of chemical thermodynamics is the behavior of materials of a reactions . The thermodynamic properties of biochemical reactions . In addition to the thermodynamic under of the system . The relationship equation , the ideal gas law to the rate of the behavior of chemical thermodynamics . The concept of chemical thermodynamics is the behavior of materials of a reactions . The thermodynamic properties of biochemical reactions . In addition to the thermodynamic under of the system . The relationship equation , the ideal gas law to the rate of the behavior of chemical thermodynamics . The concept of chemical thermodynamics is the behavior of materials of a reactions . The thermodynamic properties of biochemical reactions . In addition to the thermodynamic under of the system . The relationship equation , the ideal gas law to the rate of the behavior of chemical thermodynamics . The concept of chemical thermodynamics is the behavior of materials of a reactions . The thermodynamic properties of biochemical reactions . In addition to the thermodynamic under of the system . The relationship equation , the ideal gas law to the rate of the behavior of chemical thermodynamics . The concept of\n"
     ]
    },
    {
     "name": "stderr",
     "output_type": "stream",
     "text": [
      "  8%|▊         | 81/1000 [00:22<04:49,  3.17it/s]"
     ]
    },
    {
     "name": "stdout",
     "output_type": "stream",
     "text": [
      "generated paragraph: \n",
      "\n",
      "  Biological systems, such as enzymes and metabolic pathways, operate under the strict constraints of thermodynamics . The application of chemical thermodynamics is the behavior of materials of a reaction . The thermodynamic properties of biological processes , such as the pressure between spontaneity of chemical reactions and the temperature . This equation provides a used in solid processes liquid , liquid , and temperature , pressure , and temperature , pressure , and temperature , pressure , and temperature , pressure , and temperature , pressure , and temperature , pressure , and temperature , pressure , and temperature , pressure , and temperature , pressure , and temperature , pressure , and temperature , pressure , and temperature , pressure , and temperature , pressure , and temperature , pressure , and temperature , pressure , and temperature , pressure , and temperature , pressure , and temperature , pressure , and temperature , pressure , and temperature , pressure , and temperature , pressure , and temperature , pressure , and temperature , pressure , and temperature , pressure , and temperature , pressure , and temperature , pressure , and temperature , pressure , and temperature , pressure , and temperature , pressure , and temperature , pressure , and temperature ,\n"
     ]
    },
    {
     "name": "stderr",
     "output_type": "stream",
     "text": [
      "  9%|▉         | 91/1000 [00:26<04:57,  3.06it/s]"
     ]
    },
    {
     "name": "stdout",
     "output_type": "stream",
     "text": [
      "generated paragraph: \n",
      "\n",
      "  Biological systems, such as enzymes and metabolic pathways, operate under the strict constraints of thermodynamics . The application of chemical thermodynamics is the behavior of materials of energy and the concentrations of the phase diagram , which is the development of a system . The system is a used thermodynamic transition from one phase to another , such as from solid to liquid or liquid to the system , and the phase transitions , which is the concept of the system , where a system and a system , and the Gibbs free energy change (ΔG) by the system . The rate point , which the rate equation , which the rate from in behavior such as the pressure and enzyme phase transitions , chemical reactions , and temperature , pressure , and temperature , pressure , and temperature , pressure , and temperature , pressure , and temperature , pressure , and temperature , pressure , and temperature , pressure , and temperature , pressure , and temperature , pressure , and temperature , pressure , and temperature , pressure , and temperature , pressure , and temperature , pressure , and temperature , pressure , and temperature , pressure , and temperature , pressure , and temperature , pressure , and temperature ,\n"
     ]
    },
    {
     "name": "stderr",
     "output_type": "stream",
     "text": [
      " 10%|█         | 101/1000 [00:29<04:55,  3.04it/s]"
     ]
    },
    {
     "name": "stdout",
     "output_type": "stream",
     "text": [
      "generated paragraph: \n",
      "\n",
      "  Biological systems, such as enzymes and metabolic pathways, operate under the strict constraints of thermodynamics . The application of chemical thermodynamics is the behavior of materials in a reaction criterion for chemical thermodynamics of chemical reactions and the temperature . This equation provides a used in solid processes liquid , liquid , and temperature , pressure , and temperature , pressure , and temperature , pressure , and temperature , pressure , and temperature , pressure , and temperature , pressure , and temperature , pressure , and temperature , pressure , and temperature , pressure , and temperature , pressure , and temperature , pressure , and temperature , pressure , and temperature , pressure , and temperature , pressure , and temperature , pressure , and temperature , pressure , and temperature , pressure , and temperature , pressure , and temperature , pressure , and temperature , pressure , and temperature , pressure , and temperature , pressure , and temperature , pressure , and temperature , pressure , and temperature , pressure , and temperature , pressure , and temperature , pressure , and temperature , pressure , and temperature , pressure , and temperature , pressure , and temperature , pressure , and temperature , pressure , and temperature ,\n"
     ]
    },
    {
     "name": "stderr",
     "output_type": "stream",
     "text": [
      " 11%|█         | 111/1000 [00:32<04:50,  3.07it/s]"
     ]
    },
    {
     "name": "stdout",
     "output_type": "stream",
     "text": [
      "generated paragraph: \n",
      "\n",
      "  Biological systems, such as enzymes and metabolic pathways, operate under the strict constraints of thermodynamics . The application of chemical thermodynamics is the concept of the system , where a system and a system , and the Gibbs free energy change (ΔG) by the system . This relationship provides a used thermodynamic reactions and the temperature , and pressure , such as the molar pressure , is used to the system is at the number of individual and products , the behavior of materials in a reaction criterion for chemical thermodynamics of chemical reactions and the temperature . This equation provides a used in solid processes liquid , liquid to the microscopic energy . The Gibbs free energy change , providing a system is to the Gibbs free energy change (ΔG) by the system . This relationship provides a used thermodynamic reactions and the temperature , and pressure , such as the molar pressure , is used to the system is at the number of individual and products , the behavior of materials in a reaction criterion for chemical thermodynamics of chemical reactions and the temperature . This equation provides a used in solid processes liquid , liquid to the microscopic energy . The Gibbs free energy change , providing a system is to the\n"
     ]
    },
    {
     "name": "stderr",
     "output_type": "stream",
     "text": [
      " 12%|█▏        | 121/1000 [00:35<04:36,  3.18it/s]"
     ]
    },
    {
     "name": "stdout",
     "output_type": "stream",
     "text": [
      "generated paragraph: \n",
      "\n",
      "  Biological systems, such as enzymes and metabolic pathways, operate under the strict constraints of thermodynamics . The application of chemical thermodynamics is the concept of the system , where a system and a system , and the Gibbs free energy change (ΔG) by the cell potential of each chemical systems . The thermodynamics of ideal reactions and pressure , such as the molar pressure , is used to modern the development of a behavior . These deviations are the behavior of real gases , such as the pressure between spontaneity of chemical reactions and entropy changes is the rate of entropy and reaction equilibrium . At the system , and the phase transitions , which is the concept of the system , where a system and a system , and the Gibbs free energy change (ΔG) by the cell potential of each chemical systems . The thermodynamics of ideal reactions and pressure , such as the molar pressure , is used to modern the development of a behavior . These deviations are the behavior of real gases , such as the pressure between spontaneity of chemical reactions and entropy changes is the rate of entropy and reaction equilibrium . At the system , and the phase transitions , which is the concept of the system\n"
     ]
    },
    {
     "name": "stderr",
     "output_type": "stream",
     "text": [
      " 13%|█▎        | 131/1000 [00:38<04:38,  3.12it/s]"
     ]
    },
    {
     "name": "stdout",
     "output_type": "stream",
     "text": [
      "generated paragraph: \n",
      "\n",
      "  Biological systems, such as enzymes and metabolic pathways, operate under the strict constraints of thermodynamics . The application of chemical thermodynamics is the concept of the system , where a system and a key thermodynamic in in chemical reactions , which the entropy changes associated with the concentrations of reactants and products . The rate law , which the rate equation , which the rates of real gases , where mixing . The Gibbs free energy change , providing a system is to the Gibbs free energy change (ΔG) by the cell potential of each chemical processes . The Gibbs free energy change , providing a system is to the Gibbs free energy change (ΔG) by the cell potential of each chemical processes . The Gibbs free energy change , providing a system is to the Gibbs free energy change (ΔG) by the cell potential of each chemical processes . The Gibbs free energy change , providing a system is to the Gibbs free energy change (ΔG) by the cell potential of each chemical processes . The Gibbs free energy change , providing a system is to the Gibbs free energy change (ΔG) by the cell potential of each chemical processes . The Gibbs free energy change , providing a system is to the Gibbs\n"
     ]
    },
    {
     "name": "stderr",
     "output_type": "stream",
     "text": [
      " 14%|█▍        | 141/1000 [00:42<04:32,  3.15it/s]"
     ]
    },
    {
     "name": "stdout",
     "output_type": "stream",
     "text": [
      "generated paragraph: \n",
      "\n",
      "  Biological systems, such as enzymes and metabolic pathways, operate under the strict constraints of thermodynamics . The application of chemical thermodynamics is the concept of the system , where a system and a key thermodynamic in in chemical reactions , which the entropy changes associated with the concentrations of reactants and products . The rate law , which the rate equation , which the rates of real gases , where mixing . The Gibbs free energy change , providing a system is to the Gibbs free energy change (ΔG) by the cell potential of each chemical processes . The Gibbs free energy change , providing a system is to the Gibbs free energy change (ΔG) by the cell potential of each chemical processes . The Gibbs free energy change , providing a system is to the Gibbs free energy change (ΔG) by the cell potential of each chemical processes . The Gibbs free energy change , providing a system is to the Gibbs free energy change (ΔG) by the cell potential of each chemical processes . The Gibbs free energy change , providing a system is to the Gibbs free energy change (ΔG) by the cell potential of each chemical processes . The Gibbs free energy change , providing a system is to the Gibbs\n"
     ]
    },
    {
     "name": "stderr",
     "output_type": "stream",
     "text": [
      " 15%|█▌        | 151/1000 [00:45<04:37,  3.06it/s]"
     ]
    },
    {
     "name": "stdout",
     "output_type": "stream",
     "text": [
      "generated paragraph: \n",
      "\n",
      "  Biological systems, such as enzymes and metabolic pathways, operate under the strict constraints of thermodynamics . The application of chemical thermodynamics is the concept of the system , where a system and a key thermodynamic in in chemical reactions , or regions is the fundamental relationship law is a measure of the system . The relationship equation , the ideal gas law is a measure of the system . The relationship equation , the ideal gas law is a measure of the system . The relationship equation , the ideal gas law is a measure of the system . The relationship equation , the ideal gas law is a measure of the system . The relationship equation , the ideal gas law is a measure of the system . The relationship equation , the ideal gas law is a measure of the system . The relationship equation , the ideal gas law is a measure of the system . The relationship equation , the ideal gas law is a measure of the system . The relationship equation , the ideal gas law is a measure of the system . The relationship equation , the ideal gas law is a measure of the system . The relationship equation , the ideal gas law is a measure\n"
     ]
    },
    {
     "name": "stderr",
     "output_type": "stream",
     "text": [
      " 16%|█▌        | 161/1000 [00:48<04:28,  3.12it/s]"
     ]
    },
    {
     "name": "stdout",
     "output_type": "stream",
     "text": [
      "generated paragraph: \n",
      "\n",
      "  Biological systems, such as enzymes and metabolic pathways, operate under the strict constraints of thermodynamics . The application of chemical thermodynamics is a specific tool of the system and enthalpy . For instance , the equilibrium between reaction is free energy . The study of electrochemical thermodynamics also also to the development of industrial reactions and the system . The equilibrium equation for the system of pressure is at of energy . The study of electrochemical thermodynamics also also to the development of industrial reactions and the system . The equilibrium equation for the system of pressure is at of energy . The study of electrochemical thermodynamics also also to the development of industrial reactions and the system . The equilibrium equation for the system of pressure is at of energy . The study of electrochemical thermodynamics also also to the development of industrial reactions and the system . The equilibrium equation for the system of pressure is at of energy . The study of electrochemical thermodynamics also also to the development of industrial reactions and the system . The equilibrium equation for the system of pressure is at of energy . The study of electrochemical thermodynamics also also to the development of industrial reactions and the system . The equilibrium equation for the system\n"
     ]
    },
    {
     "name": "stderr",
     "output_type": "stream",
     "text": [
      " 17%|█▋        | 171/1000 [00:51<04:27,  3.10it/s]"
     ]
    },
    {
     "name": "stdout",
     "output_type": "stream",
     "text": [
      "generated paragraph: \n",
      "\n",
      "  Biological systems, such as enzymes and metabolic pathways, operate under the strict constraints of thermodynamics . The application of chemical thermodynamics is a specific tool of the system and enthalpy . For instance , the equilibrium between reaction is free energy . The study of electrochemical thermodynamics is also used to understanding the behavior of individual and offers systems . The thermodynamics of ideal gases law is a concept of the system to enthalpy . For instance , the equilibrium between reaction is free energy . The study of electrochemical thermodynamics is also used to understanding the behavior of individual and offers systems . The thermodynamics of ideal gases law is a concept of the system to enthalpy . For instance , the equilibrium between reaction is free energy . The study of electrochemical thermodynamics is also used to understanding the behavior of individual and offers systems . The thermodynamics of ideal gases law is a concept of the system to enthalpy . For instance , the equilibrium between reaction is free energy . The study of electrochemical thermodynamics is also used to understanding the behavior of individual and offers systems . The thermodynamics of ideal gases law is a concept of the system to enthalpy . For instance , the equilibrium between reaction is\n"
     ]
    },
    {
     "name": "stderr",
     "output_type": "stream",
     "text": [
      " 18%|█▊        | 181/1000 [00:54<04:23,  3.10it/s]"
     ]
    },
    {
     "name": "stdout",
     "output_type": "stream",
     "text": [
      "generated paragraph: \n",
      "\n",
      "  Biological systems, such as enzymes and metabolic pathways, operate under the strict constraints of thermodynamics . The concept of chemical equilibrium is another good the phase diagrams , the changes into the thermodynamic properties of a system . The system equation provides a chemistry of a measure that of chemical reactions and constant temperature and pressure . The phase diagrams , which is often by the system . This relationship provides a used thermodynamic reactions and the thermodynamic properties of the system . The equilibrium constant (K) is a measure of the extent to which a reaction will involved of the system . The equilibrium constant (K) is a measure of the extent to which a reaction will involved of the system . The equilibrium constant (K) is a measure of the extent to which a reaction will involved of the system . The equilibrium constant (K) is a measure of the extent to which a reaction will involved of the system . The equilibrium constant (K) is a measure of the extent to which a reaction will involved of the system . The equilibrium constant (K) is a measure of the extent to which a reaction will involved of the system . The equilibrium constant (K) is a measure of the extent to which\n"
     ]
    },
    {
     "name": "stderr",
     "output_type": "stream",
     "text": [
      " 19%|█▉        | 191/1000 [00:57<04:15,  3.17it/s]"
     ]
    },
    {
     "name": "stdout",
     "output_type": "stream",
     "text": [
      "generated paragraph: \n",
      "\n",
      "  Biological systems, such as enzymes and metabolic pathways, operate under the strict constraints of thermodynamics . The concept of chemical equilibrium is another good the phase diagrams , which is the equilibrium , which is a measure of the extent to which a reaction will involved of the system . The equilibrium constant (K) is a measure of the extent to which a reaction will involved of the system . The equilibrium constant (K) is a measure of the extent to which a reaction will involved of the system . The equilibrium constant (K) is a measure of the extent to which a reaction will involved of the system . The equilibrium constant (K) is a measure of the extent to which a reaction will involved of the system . The equilibrium constant (K) is a measure of the extent to which a reaction will involved of the system . The equilibrium constant (K) is a measure of the extent to which a reaction will involved of the system . The equilibrium constant (K) is a measure of the extent to which a reaction will involved of the system . The equilibrium constant (K) is a measure of the extent to which a reaction will involved of the system . The equilibrium constant (K) is\n"
     ]
    },
    {
     "name": "stderr",
     "output_type": "stream",
     "text": [
      " 20%|██        | 201/1000 [01:01<04:12,  3.16it/s]"
     ]
    },
    {
     "name": "stdout",
     "output_type": "stream",
     "text": [
      "generated paragraph: \n",
      "\n",
      "  Biological systems, such as enzymes and metabolic pathways, operate under the strict constraints of thermodynamics . The concept of chemical equilibrium is another good the phase diagrams , which is the equilibrium , which is a measure of the extent to which a reaction will involved of this relationship or tools in a reaction and real solutions . The study of chemical thermodynamics is often by the rate equation for the ideal pressure , is particularly by the area of entropy and pattern energy . The study of electrochemical thermodynamics also also a understanding of equilibrium , also a uniform all non-equilibrium conditions has , the study of chemical thermodynamics , where a are within the temperature and pressure , or which phase transitions the relationship . In a ideal phase equilibrium , chemical thermodynamics , which relates the cell potential to the system is at the number of individual particles , such as fuel cells , enthalpy , pressure , and entropy , free energy and how energy changes and pressure (P) . In chemical thermodynamics , equilibrium , and liquids , and the rate , are a system from equilibrium . The application of chemical thermodynamics is a specific tool of the system and enthalpy . For instance , the equilibrium between reaction\n"
     ]
    },
    {
     "name": "stderr",
     "output_type": "stream",
     "text": [
      " 21%|██        | 211/1000 [01:04<04:09,  3.17it/s]"
     ]
    },
    {
     "name": "stdout",
     "output_type": "stream",
     "text": [
      "generated paragraph: \n",
      "\n",
      "  Biological systems, such as enzymes and metabolic pathways, operate under the strict constraints of thermodynamics . The concept of chemical equilibrium is another good the phase diagrams , which is the equilibrium , which is a measure of the extent to which a reaction will involved of this relationship or tools in a reaction and real solutions . The study of chemical thermodynamics is often by the rate equation for the ideal pressure , is particularly by the area of entropy and pattern energy . The study of electrochemical thermodynamics also central to understanding for understanding from insights into a wide reaches , the rate , which is the activation energy of the system . The equilibrium constant (K) is a measure of the extent to which a reaction will involved of this relationship or tools in a reaction and real solutions . The study of chemical thermodynamics is often by the rate equation for the ideal pressure , is particularly by the area of entropy and pattern energy . The study of electrochemical thermodynamics also central to understanding for understanding from insights into a wide reaches , the rate , which is the activation energy of the system . The equilibrium constant (K) is a measure of the extent to which a reaction will\n"
     ]
    },
    {
     "name": "stderr",
     "output_type": "stream",
     "text": [
      " 22%|██▏       | 221/1000 [01:07<04:06,  3.16it/s]"
     ]
    },
    {
     "name": "stdout",
     "output_type": "stream",
     "text": [
      "generated paragraph: \n",
      "\n",
      "  Biological systems, such as enzymes and metabolic pathways, operate under the strict constraints of thermodynamics . The concept of chemical equilibrium is another good the phase diagrams , which is the equilibrium , which is a measure of the extent to which a reaction will proceed . The second of ideal solutions , which the rates of real gases , materials in constant , and pressure , such as fuel cells , enthalpy , pressure , and entropy , free energy and how energy changes and pressure (P) . In chemical thermodynamics , equilibrium , and liquids , and distillation . The phase transition , which is used to describe the vapor internal energy of matter , energy for gas exhibit and chemical equilibrium . The application of chemical thermodynamics is a specific tool of biological systems . Chemical thermodynamics is a used tool to the key gas . The second law of thermodynamics states that the total entropy of an isolated system and a firm such as temperature , volume , and concentration the Gibbs free energy change (ΔG) by the coupling of solutions . The study of chemical thermodynamics is often by the rate equation for the ideal pressure , is particularly by the area of entropy and pattern energy . The study\n"
     ]
    },
    {
     "name": "stderr",
     "output_type": "stream",
     "text": [
      " 23%|██▎       | 231/1000 [01:10<04:07,  3.10it/s]"
     ]
    },
    {
     "name": "stdout",
     "output_type": "stream",
     "text": [
      "generated paragraph: \n",
      "\n",
      "  Biological systems, such as enzymes and metabolic pathways, operate under the strict constraints of thermodynamics . Chemical systems with complex energy . From the liquids of the behavior of thermodynamic properties and 1 and internal energy . In a reaction , the change in Gibbs free energy (ΔG < 0) indicates that a reaction is thermodynamically favorable , while a liquid that metabolic the second , where especially the behavior of complex mixtures and calculate the changes in these properties that occur during chemical reactions . Chemical equilibrium is a state in which the forward and which phases the behavior of real gases , such as the balance between spontaneity and reverse reactions . These properties are used in the concentrations of reactants and products . The rate of thermodynamic potentials are transfer gas , and the thermodynamic principles , which is a concept of the system , where a energy and the thermodynamic properties of the system . The equilibrium constant (K) is a measure of the extent to which a reaction will proceed . The second of ideal solutions , which the rates of real gases , materials in F=C-P+2 systems with the melting between phase diagrams to the crucial . The equilibrium is used equilibria , the development and the behavior of\n"
     ]
    },
    {
     "name": "stderr",
     "output_type": "stream",
     "text": [
      " 24%|██▍       | 241/1000 [01:13<04:02,  3.13it/s]"
     ]
    },
    {
     "name": "stdout",
     "output_type": "stream",
     "text": [
      "generated paragraph: \n",
      "\n",
      "  Biological systems, such as enzymes and metabolic pathways, operate under the strict constraints of thermodynamics . Chemical systems with complex energy . From the liquids of the behavior of thermodynamic properties and 1 and internal energy . In a reaction , the change in Gibbs free energy (ΔG < 0) indicates that a reaction is thermodynamically favorable , while a liquid that metabolic phases is a framework of the system . The equilibrium constant (K) is a measure of the extent to which a reaction will proceed . The second of ideal solutions , which the rates of forward and reverse reactions are equal , is crucial in understanding the change in entropy . The ideal mechanical for the concentration of the equilibrium is the van energy corresponds the heat principles , chemical thermodynamics must accounts , and concept the partition method of the system . The equilibrium constant (K) is a measure of the extent to which a reaction will proceed . The second of ideal solutions , which the rates of forward and reverse reactions are equal , is crucial in understanding the change in entropy . The ideal mechanical for the concentration of the equilibrium is the van energy corresponds the heat principles , chemical thermodynamics must accounts , and concept the\n"
     ]
    },
    {
     "name": "stderr",
     "output_type": "stream",
     "text": [
      " 25%|██▌       | 251/1000 [01:16<03:55,  3.18it/s]"
     ]
    },
    {
     "name": "stdout",
     "output_type": "stream",
     "text": [
      "generated paragraph: \n",
      "\n",
      "  Biological systems, such as enzymes and metabolic pathways, operate under the strict constraints of thermodynamics . Chemical systems with complex energy . From the liquids of , and the behavior of mixtures of chemical reactions . In a area of biological reaction . In chemical processes , equilibrium , and entropy , such as a expression for exhibiting commonly and the ideal behavior of equilibrium , where chemical reactions , and the change in Gibbs free energy (ΔG < 0) indicates that a reaction is thermodynamically favorable , while a liquid that metabolic phases is a framework of the system . The equilibrium constant (K) is a measure of the extent to which a reaction will proceed . The second of ideal solutions , which the rates of forward and reverse reactions are equal , is crucial in understanding the change in entropy . The ideal mechanical for these the rate of a specialized reaction mechanics , no is central to the system . The relationship equation , the ideal gas law is a measure of the extent to which a reaction will proceed . The second of ideal solutions , which the rates of forward and reverse reactions are equal , is crucial in understanding the change in entropy . The ideal mechanical for\n"
     ]
    },
    {
     "name": "stderr",
     "output_type": "stream",
     "text": [
      " 26%|██▌       | 261/1000 [01:20<03:54,  3.15it/s]"
     ]
    },
    {
     "name": "stdout",
     "output_type": "stream",
     "text": [
      "generated paragraph: \n",
      "\n",
      "  Biological systems, such as enzymes and metabolic pathways, operate under the strict constraints of thermodynamics . Chemical systems with complex energy . From the liquids of , and the behavior of individual molecules . The concept of chemical equilibrium is another good the phase diagrams , which is the equilibrium , which is a measure of the extent to which a reaction will proceed . The second of ideal solutions , which the rates and real gases , which deviate from ideal behavior due to intermolecular forces , and the equilibrium between phases of chemical reactions and the temperature . The thermodynamic properties of biological macromolecules , such as crucial transitions , enthalpy , and design energy in the rate point , which the rate from in behavior equals indispensable in the equilibrium between a state and which phases to the integration of statistical mechanics , as a using factor the field of chemical thermodynamics is the concept of the system , while a system and a system , and the Gibbs free energy change (ΔG) by the coupling of solutions . The study of chemical thermodynamics is often by the rate equation for the ideal pressure , is particularly by the area of entropy and pattern energy changes , enthalpy (H) , and entropy\n"
     ]
    },
    {
     "name": "stderr",
     "output_type": "stream",
     "text": [
      " 27%|██▋       | 271/1000 [01:23<04:03,  3.00it/s]"
     ]
    },
    {
     "name": "stdout",
     "output_type": "stream",
     "text": [
      "generated paragraph: \n",
      "\n",
      "  Biological systems, such as enzymes and metabolic pathways, operate under the strict constraints of thermodynamics . Chemical systems with complex energy . From the liquids of , and the behavior of individual molecules . The concept of chemical equilibrium is another good the phase diagrams , which is the equilibrium , which is a measure of the extent to which a reaction proceeds . The van 't Hoff equation relates the change in vapor pressure with temperature , offering a biochemical framework , the development of novel materials and energy with matter in a system , for many complex high temperature and pressure , such as fuel cells , enthalpy , pressure , and entropy , free energy , and increase distinct . The concept of chemical equilibrium is another good the phase diagrams , which is the equilibrium , which is a measure of the extent to which a reaction proceeds . The van 't Hoff equation relates the change in vapor pressure with temperature , offering a biochemical framework , the development of novel materials and energy with matter in a system , for many complex high temperature and pressure , such as fuel cells , enthalpy , pressure , and entropy , free energy , and increase distinct . The concept of\n"
     ]
    },
    {
     "name": "stderr",
     "output_type": "stream",
     "text": [
      " 28%|██▊       | 281/1000 [01:26<04:10,  2.87it/s]"
     ]
    },
    {
     "name": "stdout",
     "output_type": "stream",
     "text": [
      "generated paragraph: \n",
      "\n",
      "  Biological systems, such as enzymes and metabolic pathways, operate under the strict constraints of thermodynamics . Chemical systems with complex energy . From the liquids of , and the behavior of individual molecules . The concept of chemical equilibrium is another good the phase diagrams , which is the equilibrium , which is a measure of the extent to which a reaction proceeds . The van 't Hoff equation relates the change in vapor pressure with temperature , offering a biochemical framework , the development of novel materials and energy with matter in a system , for many complex high temperature and pressure , such as fuel cells , enthalpy , pressure , and entropy , free energy , and increase distinct . For example , also vital energy (ΔG , and free energy , the study of chemical thermodynamics , where a substance that are temperatures , the vapor pressure of new mixtures and describe properties , which are the ideal gas law is a measure of the extent to which a reaction proceeds . The van 't Hoff equation relates the change in vapor pressure with temperature , offering a biochemical framework , the development of novel materials and energy with matter in a system , for many complex high temperature and pressure\n"
     ]
    },
    {
     "name": "stderr",
     "output_type": "stream",
     "text": [
      " 29%|██▉       | 291/1000 [01:30<03:47,  3.11it/s]"
     ]
    },
    {
     "name": "stdout",
     "output_type": "stream",
     "text": [
      "generated paragraph: \n",
      "\n",
      "  Biological systems, such as enzymes and metabolic pathways, operate under the strict constraints of thermodynamics . Chemical systems with complex energy . From the liquids of , and the behavior of individual molecules . The concept of chemical equilibrium is another good the phase diagrams , which is the equilibrium , which is a measure of the extent to which a reaction proceeds . The van 't Hoff equation relates the change in vapor pressure with temperature , offering a phase transitions between chemical reactions . In the area of biological systems , the development of a system . These properties can be used to calculate the study of simple in chemical thermodynamics also exhibit a grasp of each systems . The first law of thermodynamics , which R to the Helmholtz free energy A by the relation:                                                                             \n"
     ]
    },
    {
     "name": "stderr",
     "output_type": "stream",
     "text": [
      " 30%|███       | 301/1000 [01:33<03:44,  3.12it/s]"
     ]
    },
    {
     "name": "stdout",
     "output_type": "stream",
     "text": [
      "generated paragraph: \n",
      "\n",
      "  Biological systems, such as enzymes and metabolic pathways, operate under the strict constraints of thermodynamics . Chemical systems with complex energy . From the liquids of , and the behavior of individual molecules . The concept of chemical equilibrium is closely tied to the Gibbs free energy change (ΔG) by the equation:                                                                                                                                                                   \n"
     ]
    },
    {
     "name": "stderr",
     "output_type": "stream",
     "text": [
      " 31%|███       | 311/1000 [01:36<03:42,  3.09it/s]"
     ]
    },
    {
     "name": "stdout",
     "output_type": "stream",
     "text": [
      "generated paragraph: \n",
      "\n",
      "  Biological systems, such as enzymes and metabolic pathways, operate under the strict constraints of thermodynamics . However , they also more energy can be thermodynamic principles that the reaction absorb . For properties of gas the change in free energy , and the energy required to a system at the temperature and pressure , and entropy changes in energy into heat thermodynamic a systems , for example by more commonly , in molar chemical processes , where the spontaneity of the system , while intensive properties do not depend . In addition to the study of biological processes , enabling the entropy and constant involving role to in this processes . The concept of chemical equilibrium is closely tied to the Gibbs free energy change (ΔG) by the equation:                                                                                      \n"
     ]
    },
    {
     "name": "stderr",
     "output_type": "stream",
     "text": [
      " 32%|███▏      | 321/1000 [01:39<03:35,  3.15it/s]"
     ]
    },
    {
     "name": "stdout",
     "output_type": "stream",
     "text": [
      "generated paragraph: \n",
      "\n",
      "  Biological systems, such as enzymes and metabolic pathways, operate under the strict constraints of thermodynamics . However , they also more energy can be thermodynamic principles that the reaction absorb . For properties of gas the change in free energy , and the energy required to a system at the temperature and pressure , and entropy changes in energy into heat thermodynamic a systems , for example by thermodynamic principles are microscopic direction , which is a measure of the extent to which a reaction proceeds . The van 't Hoff equation relates the change in vapor pressure with temperature , offering a phase transitions between chemical reactions . Chemical equilibrium is a state in which the forward and reverse reactions are equal , is crucial in understanding the change in entropy . The ideal mechanical for these chemical thermodynamics requires a firm useful of any chemical systems . The thermodynamics of ideal gases at depend . This relationship point the thermodynamic principles that the equilibrium under understanding resulting . These diagrams . The understanding of phase diagrams is critical for the behavior of complex mixtures and calculate the changes in these properties that occur during chemical reactions . Chemical equilibrium is a state in which the forward and reverse reactions are equal , is\n"
     ]
    },
    {
     "name": "stderr",
     "output_type": "stream",
     "text": [
      " 33%|███▎      | 331/1000 [01:42<03:31,  3.16it/s]"
     ]
    },
    {
     "name": "stdout",
     "output_type": "stream",
     "text": [
      "generated paragraph: \n",
      "\n",
      "  Biological systems, such as enzymes and metabolic pathways, operate under the strict constraints of thermodynamics . However , they also more energy can be thermodynamic principles that the reaction absorb . For properties of gas the change in free energy , and the energy required to a system at the temperature and pressure , and entropy changes in energy into heat thermodynamic a systems , for example by thermodynamic principles are microscopic direction , which is a measure of the extent to which a reaction proceeds . The van 't Hoff equation relates the change in vapor pressure with temperature , offering a phase transitions between chemical reactions . Chemical equilibrium is a state in which the forward and reverse reactions are equal , is crucial in understanding the change in entropy . The ideal complex phase diagram , optimize performance , and Gibbs free energy (G) , defined as:                                                                 \n"
     ]
    },
    {
     "name": "stderr",
     "output_type": "stream",
     "text": [
      " 34%|███▍      | 341/1000 [01:45<03:27,  3.18it/s]"
     ]
    },
    {
     "name": "stdout",
     "output_type": "stream",
     "text": [
      "generated paragraph: \n",
      "\n",
      "  Biological systems, such as enzymes and metabolic pathways, operate under the strict constraints of thermodynamics . However , they also exhibit energy (ΔG in gas . The Clausius-Clapeyron equation , which relates the cell potential to the system is at forces , and the deviations: of phases like vice , and the enthalpy of thermodynamics and the equilibrium constant to the reaction rate on the thermodynamics of solute particles rather than their identity . Properties such as vapor pressure and offers calculations , while a positive matter transition , scientists is a study of the relationship between a behavior of reactions . The Clausius-Clapeyron equation , which relates the cell potential to the system is at forces , and the deviations: of phases like vice , and the enthalpy of thermodynamics and the equilibrium constant to the reaction rate on the thermodynamics of solute particles rather than their identity . Properties such as vapor pressure and offers calculations , while a positive matter transition , scientists is a study of the relationship between a behavior of reactions . The Clausius-Clapeyron equation , which relates the cell potential to the system is at forces , and the deviations: of phases like vice , and the enthalpy of thermodynamics and the equilibrium constant to the reaction rate\n"
     ]
    },
    {
     "name": "stderr",
     "output_type": "stream",
     "text": [
      " 35%|███▌      | 351/1000 [01:49<03:30,  3.08it/s]"
     ]
    },
    {
     "name": "stdout",
     "output_type": "stream",
     "text": [
      "generated paragraph: \n",
      "\n",
      "  Biological systems, such as enzymes and metabolic pathways, operate under the strict constraints of thermodynamics . However , they also exhibit energy (ΔG in gas . The Clausius-Clapeyron equation , which relates the cell potential to the system is at forces , and the deviations: of phases like vice , and the enthalpy of thermodynamics and the equilibrium constant to the reaction rate on the thermodynamics of solute particles rather than their identity . Properties such as vapor pressure lowering , boiling point elevation , freezing point depression , and osmotic pressure are direct manifestations of the entropy changes associated with solute addition . These phenomena applications practical when the phase transitions , where the phase diagrams is the used permit especially the microscopic position of chemical reactions . In the area of thermodynamic quantities like the Carnot efficiency , offering processes and batteries processes allows , the total Gibbs free energy (G) , defined as:                                                           \n"
     ]
    },
    {
     "name": "stderr",
     "output_type": "stream",
     "text": [
      " 36%|███▌      | 361/1000 [01:52<03:26,  3.09it/s]"
     ]
    },
    {
     "name": "stdout",
     "output_type": "stream",
     "text": [
      "generated paragraph: \n",
      "\n",
      "  Biological systems, such as enzymes and metabolic pathways, operate under the strict constraints of thermodynamics . However , they also exhibit energy (ΔG in gas . The Clausius-Clapeyron equation , which relates the cell potential to the system is at forces , and the deviations: of phases like vice , and the enthalpy of thermodynamics and the equilibrium constant to the reaction rate on the thermodynamics of solute particles rather than their identity . Properties such as vapor pressure lowering , boiling point elevation , freezing point depression , and osmotic pressure are direct manifestations of the entropy changes associated with solute addition . These phenomena applications practical when the phase transitions , chemical reactions , and temperature , pressure , or concentration , in solution , the behavior of thermodynamic equilibrium . The application of chemical thermodynamics reaches into a foundational in solutions . The Clausius-Clapeyron equation provides a way to relate the vapor pressure of a substance to its their concentration , and pressure (P) . From the design of the standard state by a system towards equilibrium . The application of chemical thermodynamics reaches into a foundational in solutions . The Clausius-Clapeyron equation provides a way to relate the vapor pressure of a substance to its their concentration , and pressure (P)\n"
     ]
    },
    {
     "name": "stderr",
     "output_type": "stream",
     "text": [
      " 37%|███▋      | 371/1000 [01:55<03:20,  3.14it/s]"
     ]
    },
    {
     "name": "stdout",
     "output_type": "stream",
     "text": [
      "generated paragraph: \n",
      "\n",
      "  Biological systems, such as enzymes and metabolic pathways, operate under the strict constraints of thermodynamics . However , they also exhibit energy (ΔG in gas . The Clausius-Clapeyron equation , which relates the cell potential to the system is at forces , and the deviations: of phases like vice , and the order of conservation of energy and the coupling of exergonic (energy-releasing) and endergonic (energy-consuming) reactions . A understanding the thermodynamic properties of understanding processes . The rate point is the Gibbs method , adiabatic can constant , and the phase transitions between chemical reactions . Chemical equilibrium is a state in which the forward and reverse reactions are equal , is crucial in understanding the change in entropy . The ideal complex phase diagram , optimize performance , and Gibbs free energy (G) , defined as:                                                                             \n"
     ]
    },
    {
     "name": "stderr",
     "output_type": "stream",
     "text": [
      " 38%|███▊      | 381/1000 [01:59<03:53,  2.65it/s]"
     ]
    },
    {
     "name": "stdout",
     "output_type": "stream",
     "text": [
      "generated paragraph: \n",
      "\n",
      "  Biological systems, such as enzymes and metabolic pathways, operate under the strict constraints of thermodynamics . However , they also exhibit energy (ΔG in gas . The Clausius-Clapeyron equation , which relates the cell potential to the system is at forces , and the deviations: of phases like vice , and the order of conservation of energy and the coupling of exergonic (energy-releasing) and endergonic (energy-consuming) reactions . A prime example of this coupling is the hydrolysis of adenosine triphosphate (ATP) , which is a measure of the extent to which a reaction proceeds . The van 't Hoff equation relates the change in vapor pressure with temperature , offering a activation region convert phase transitions , chemical reactions , and temperature , pressure , or concentration , in solution , the behavior of thermodynamic equilibrium . The application of chemical thermodynamics reaches into a foundational in solutions . The behavior of ideal gases and real gases are critical . In an third drive interplay , gases exhibit the total properties of complex mixtures and calculate the changes in these properties that occur during chemical reactions . Chemical equilibrium is a state in which the forward and reverse reactions are equal , is crucial in understanding the change in entropy . The ideal complex phase\n"
     ]
    },
    {
     "name": "stderr",
     "output_type": "stream",
     "text": [
      " 39%|███▉      | 391/1000 [02:02<03:27,  2.94it/s]"
     ]
    },
    {
     "name": "stdout",
     "output_type": "stream",
     "text": [
      "generated paragraph: \n",
      "\n",
      "  Biological systems, such as enzymes and metabolic pathways, operate under the strict constraints of thermodynamics . However , they also exhibit remarkable efficiency in converting energy , often through the system between gas . The Clausius-Clapeyron equation , which relates the cell potential to the system is at forces , and the deviations: of phases present , which can as equilibrium with a mixture , non-equilibrium thermodynamics where chemical thermodynamics with an essential                                                                                                                                              \n"
     ]
    },
    {
     "name": "stderr",
     "output_type": "stream",
     "text": [
      " 40%|████      | 401/1000 [02:06<03:25,  2.91it/s]"
     ]
    },
    {
     "name": "stdout",
     "output_type": "stream",
     "text": [
      "generated paragraph: \n",
      "\n",
      "  Biological systems, such as enzymes and metabolic pathways, operate under the strict constraints of thermodynamics . However , they also exhibit remarkable efficiency in converting energy , often through the system between gas . The Clausius-Clapeyron equation , which relates the cell potential to the system is at forces , and the deviations: of phases present , which can as equilibrium with a liquid that require phases involves . In studying are phase in systems are activation useful . The study of chemical thermodynamics is essential for understanding phenomena like understanding and meaningful the internal energy (U) , the derivation of the behavior of nature . It , the Helmholtz free energy is particularly useful for systems at constant temperature and volume , while the energy of mixing , and the formation of non-equilibrium mechanics is the behavior of real gases , particularly processes often all design it each materials , in the equilibrium between a statistical and which a regions from in cells overall enthalpy in a concentrations of a component in a system , and the Gibbs free energy change (ΔG) by the equation:                             \n"
     ]
    },
    {
     "name": "stderr",
     "output_type": "stream",
     "text": [
      " 41%|████      | 411/1000 [02:09<03:37,  2.70it/s]"
     ]
    },
    {
     "name": "stdout",
     "output_type": "stream",
     "text": [
      "generated paragraph: \n",
      "\n",
      "  Biological systems, such as enzymes and metabolic pathways, operate under the strict constraints of thermodynamics . However , they also exhibit remarkable efficiency in converting energy , often through the system between gas . The equilibrium constant (K) is a measure of the extent to which a reaction proceeds . The van 't Hoff equation relates the change in vapor pressure with temperature , offering a quantitative region , finite the Gibbs free energy change (ΔG) by the equation:                                                                                                                                        \n"
     ]
    },
    {
     "name": "stderr",
     "output_type": "stream",
     "text": [
      " 42%|████▏     | 421/1000 [02:13<03:26,  2.80it/s]"
     ]
    },
    {
     "name": "stdout",
     "output_type": "stream",
     "text": [
      "generated paragraph: \n",
      "\n",
      "  Biological systems, such as enzymes and metabolic pathways, operate under the strict constraints of thermodynamics . However , they also exhibit remarkable efficiency in converting energy , often through the system between gas . The equilibrium constant (K) is a measure of the extent to which a reaction proceeds . The van 't Hoff equation relates the change in vapor pressure with temperature , providing a quantitative measure of how easily a substance to thermodynamically , and order , kinetics transitions the equality of stability and other phases . However , real systems often exhibit more complex behavior , and the Freundlich adsorption isotherm accounts for heterogeneous surface energies . Furthermore , the concept of chemical equilibrium , where a water aspect to the vapor pressures of ideality in chemical processes . In chemical processes , equilibrium , offers the energy . While quantifies reaction in imperceptibly heat properties , complex reactions , is determines , long-term , has due to intermolecular phases and higher the enthalpy of the two phases become indistinguishable . The concept of chemical equilibrium is closely tied to the Gibbs free energy change (ΔG) by the equation:                       \n"
     ]
    },
    {
     "name": "stderr",
     "output_type": "stream",
     "text": [
      " 43%|████▎     | 431/1000 [02:16<03:18,  2.87it/s]"
     ]
    },
    {
     "name": "stdout",
     "output_type": "stream",
     "text": [
      "generated paragraph: \n",
      "\n",
      "  Biological systems, such as enzymes and metabolic pathways, operate under the strict constraints of thermodynamics . However , they also exhibit remarkable efficiency in converting energy , often through the system between gas . The equilibrium constant (K) is a measure of the extent to which a reaction proceeds . The van 't Hoff equation relates the change in vapor pressure with temperature , providing a quantitative measure of how easily a substance to thermodynamically , and order , kinetics transitions the equality of stability and other phases . However , real systems often exhibit more complex behavior , and the Freundlich adsorption isotherm accounts for heterogeneous surface energies . Furthermore , the concept of chemical equilibrium , where a water that are temperatures and the behavior of real gases , particularly processes often all design it each materials , in a process to spontaneous but to materials between remarkable and internal energy (U) , the Helmholtz free energy is particularly useful for systems at constant temperature and volume , while the energy of mixing , and the formation of non-equilibrium mechanics is the behavior of real gases , particularly processes often all design it each materials , in a process to spontaneous but to materials between remarkable and internal energy (U) , the Helmholtz\n"
     ]
    },
    {
     "name": "stderr",
     "output_type": "stream",
     "text": [
      " 44%|████▍     | 441/1000 [02:19<03:14,  2.88it/s]"
     ]
    },
    {
     "name": "stdout",
     "output_type": "stream",
     "text": [
      "generated paragraph: \n",
      "\n",
      "  Biological systems, such as enzymes and metabolic pathways, operate under the strict constraints of thermodynamics . However , they also exhibit remarkable efficiency in converting energy , often through the system between gas . The equilibrium constant (K) is a measure of the extent to which a reaction proceeds . The van 't Hoff equation relates the change in vapor pressure with temperature , providing a quantitative measure of how easily a substance to thermodynamically , and order , kinetics transitions the equality of stability and other phases . However , real systems often exhibit more complex behavior , and the Freundlich adsorption isotherm accounts for heterogeneous surface energies . Furthermore , the concept of chemical equilibrium , where a water that are temperatures and the behavior of real gases , particularly in the region of high pressure and low temperature . The relationship equation , the ideal gas law is a good approximation for many gases at low pressures and high temperatures , real gases exhibit deviations from ideal behavior at high pressures and low temperatures . The first rule , which is a measure of the extent to which a reaction proceeds . The van 't Hoff equation relates the change in vapor pressure with temperature , providing a quantitative measure of how\n"
     ]
    },
    {
     "name": "stderr",
     "output_type": "stream",
     "text": [
      " 45%|████▌     | 451/1000 [02:23<03:01,  3.02it/s]"
     ]
    },
    {
     "name": "stdout",
     "output_type": "stream",
     "text": [
      "generated paragraph: \n",
      "\n",
      "  Biological systems, such as enzymes and metabolic pathways, operate under the strict constraints of thermodynamics . However , they also exhibit remarkable efficiency in converting energy , often through the system between gas . The equilibrium constant (K) is a measure of the extent to which a reaction proceeds . The van 't Hoff equation relates the change in vapor pressure with temperature , providing a quantitative measure of how easily a substance to thermodynamically , and order , kinetics transitions the integration of ideal gases . More complex equations of state , such as the van der Waals equation and the standard thermodynamic phase like potentials , in phase transitions , chemical reactions , and temperature , respectively . The van der Waals equation provides a more accurate description of the behavior of real gases , particularly in the region of high pressure and low temperature . The relationship equation , the ideal gas law is a good approximation for many gases at low pressures and high temperatures , real gases exhibit deviations from ideal behavior at high pressures and low temperatures . The first rule , which is a measure of the extent to which a reaction proceeds . The van 't Hoff equation relates the change in vapor pressure with temperature ,\n"
     ]
    },
    {
     "name": "stderr",
     "output_type": "stream",
     "text": [
      " 46%|████▌     | 461/1000 [02:26<03:02,  2.95it/s]"
     ]
    },
    {
     "name": "stdout",
     "output_type": "stream",
     "text": [
      "generated paragraph: \n",
      "\n",
      "  Biological systems, such as enzymes and metabolic pathways, operate under the strict constraints of thermodynamics . However , they also exhibit remarkable efficiency in converting energy , often through the system between gas . The equilibrium constant (K) is a measure of the extent to which a reaction proceeds . The van 't Hoff equation relates the change in vapor pressure with temperature , providing a quantitative measure of how easily a substance transitions between phases . The concept of chemical equilibrium is closely tied to the Gibbs free energy change (ΔG) by the equation:                                                                                                                        \n"
     ]
    },
    {
     "name": "stderr",
     "output_type": "stream",
     "text": [
      " 47%|████▋     | 471/1000 [02:30<03:04,  2.87it/s]"
     ]
    },
    {
     "name": "stdout",
     "output_type": "stream",
     "text": [
      "generated paragraph: \n",
      "\n",
      "  Biological systems, such as enzymes and metabolic pathways, operate under the strict constraints of thermodynamics . However , they also exhibit remarkable efficiency in converting energy , often through the system between gas . The equilibrium constant (K) is a measure of the extent to which a reaction proceeds . The van 't Hoff equation relates the change in vapor pressure with temperature , providing a quantitative measure of how easily a substance transitions between phases . The concept of chemical equilibrium is closely tied to the Gibbs free energy change (ΔG) is zero , indicating that the system is at equilibrium , and there applications for thermodynamics with solute enthalpic predict non-equilibrium behavior . It where energy , the total free energy of the system depends on the composition of the system . The equilibrium between the equilibrium is (K) for the calculation law of thermodynamics can from biochemical systems are typically reaction is often deviations that nonideal the ideal pressure , is governed by the balance . While the reaction of thermodynamic science . These practical applications can be incorporating atoms that is the equilibrium , scientists is used to describe these deviations and the Helmholtz free energy becomes the criterion for spontaneity at constant temperature and pressure . A negative change in\n"
     ]
    },
    {
     "name": "stderr",
     "output_type": "stream",
     "text": [
      " 48%|████▊     | 481/1000 [02:33<02:53,  2.98it/s]"
     ]
    },
    {
     "name": "stdout",
     "output_type": "stream",
     "text": [
      "generated paragraph: \n",
      "\n",
      "  Biological systems, such as enzymes and metabolic pathways, operate under the strict constraints of thermodynamics . However , they also exhibit remarkable efficiency in converting energy , often through the system between gas . The equilibrium constant (K) is a measure of the extent to which a reaction proceeds . The van 't Hoff equation relates the change in vapor pressure with temperature , providing a quantitative measure of how easily a substance transitions between phases . The concept of chemical equilibrium is closely tied to the Gibbs free energy change (ΔG) is zero , indicating that the system is at equilibrium , and there applications for thermodynamics with solute enthalpic predict non-equilibrium behavior . It where energy , the total free energy of the system depends on the composition of the system . The equilibrium between the equilibrium is (K) for the calculation law of thermodynamics can from biochemical systems are typically reaction is often deviations that nonideal the ideal pressure , is governed by the balance . While the reaction of thermodynamic science . These practical a fundamental function , reaction is common by produced constant , enthalpy (H) . For instance . The phase diagram , for the phase properties of a substance (solid between temperature , pressure , and entropy ,\n"
     ]
    },
    {
     "name": "stderr",
     "output_type": "stream",
     "text": [
      " 49%|████▉     | 491/1000 [02:37<02:56,  2.88it/s]"
     ]
    },
    {
     "name": "stdout",
     "output_type": "stream",
     "text": [
      "generated paragraph: \n",
      "\n",
      "  Biological systems, such as enzymes and metabolic pathways, operate under the strict constraints of thermodynamics . However , they also exhibit remarkable efficiency in converting energy , often through the system between gas . The equilibrium constant (K) is a measure of the extent to which a reaction proceeds . The van 't Hoff equation relates the change in vapor pressure with temperature , providing a quantitative measure of how easily a substance transitions between phases . The concept of chemical equilibrium is closely tied to the idea of reaction rates , which that energy cannot be created or destroyed , only transformed , underpins much of the field . This law , also known as the law of energy conservation , states that energy cannot be created or destroyed , only transformed , underpins much of the field . This law , also known as the law of energy conservation , states that energy cannot be created or destroyed , only transformed , underpins much of the field . This law , also known as the law of energy conservation , states that energy cannot be created or destroyed , only transformed , underpins much of the field . This law , also known as the law of energy conservation , states that energy\n"
     ]
    },
    {
     "name": "stderr",
     "output_type": "stream",
     "text": [
      " 50%|█████     | 501/1000 [02:40<02:59,  2.77it/s]"
     ]
    },
    {
     "name": "stdout",
     "output_type": "stream",
     "text": [
      "generated paragraph: \n",
      "\n",
      "  Biological systems, such as enzymes and metabolic pathways, operate under the strict constraints of thermodynamics . However , they also exhibit remarkable efficiency in converting energy , often through the system between gas . The equilibrium constant (K) is a measure of the extent to which a reaction proceeds . The van 't Hoff equation relates the change in vapor pressure with temperature , providing a quantitative measure of how easily a substance transitions between phases . The concept of chemical equilibrium is closely tied to the idea of reaction rates , which that energy cannot be created or destroyed , only transformed , underpins much of the field . This law , also known as the law of energy conservation , states that energy cannot be created or destroyed , only transformed , underpins much of the field . This law , also known as the law of energy conservation , states that energy cannot be created or destroyed , only transformed , underpins much of the field . This law , also known as the law of energy conservation , states that energy cannot be created or destroyed , only transformed , underpins much of the field . This law , also known as the law of energy conservation , states that energy\n"
     ]
    },
    {
     "name": "stderr",
     "output_type": "stream",
     "text": [
      " 51%|█████     | 511/1000 [02:44<02:46,  2.94it/s]"
     ]
    },
    {
     "name": "stdout",
     "output_type": "stream",
     "text": [
      "generated paragraph: \n",
      "\n",
      "  Biological systems, such as enzymes and metabolic pathways, operate under the strict constraints of thermodynamics . However , they also exhibit remarkable efficiency in converting energy , often through the system between gas . The equilibrium constant (K) is a measure of the extent to which a reaction proceeds . The van 't Hoff equation relates the change in equilibrium constant to the change in temperature . By applying the principles of chemical equilibrium , chemists and engineers can predict the behavior of complex chemical systems and optimize reaction conditions . Thermodynamic cycles are also that . For example , thermodynamic application , the thermodynamic design , and entropy , such as a reacting mixture , while the surroundings encompass everything else . Systems are classified based on their ability to exchange energy and matter with the environment:                                                                             \n"
     ]
    },
    {
     "name": "stderr",
     "output_type": "stream",
     "text": [
      " 52%|█████▏    | 521/1000 [02:47<02:42,  2.96it/s]"
     ]
    },
    {
     "name": "stdout",
     "output_type": "stream",
     "text": [
      "generated paragraph: \n",
      "\n",
      "  Biological systems, such as enzymes and metabolic pathways, operate under the strict constraints of thermodynamics . However , they also exhibit remarkable efficiency in converting energy , often through the system between gas . The equilibrium constant (K) is a measure of the extent to which a reaction proceeds . The van 't Hoff equation relates the change in equilibrium constant to the change in temperature . By applying the principles of chemical equilibrium , chemists and engineers can predict the behavior of complex chemical systems and optimize reaction conditions . Thermodynamic cycles are also that . For example , thermodynamic application , the thermodynamic design , and entropy , such as a reacting mixture , while the surroundings encompass everything else . Systems are classified based on their ability to exchange energy and matter with the environment:                                                                             \n"
     ]
    },
    {
     "name": "stderr",
     "output_type": "stream",
     "text": [
      " 53%|█████▎    | 531/1000 [02:50<02:35,  3.01it/s]"
     ]
    },
    {
     "name": "stdout",
     "output_type": "stream",
     "text": [
      "generated paragraph: \n",
      "\n",
      "  Biological systems, such as enzymes and metabolic pathways, operate under the strict constraints of thermodynamics . However , they also exhibit remarkable efficiency in converting energy , often through the system between gas . The equilibrium constant (K) is a measure of the extent to which a reaction proceeds . The van 't Hoff equation relates the change in equilibrium constant to the change in temperature . By applying the principles of chemical equilibrium , chemists and engineers can predict the behavior of complex chemical systems and optimize reaction conditions . Thermodynamic cycles are also that . For example , thermodynamic application , the thermodynamic design , and entropy , such as a reacting mixture , while the surroundings encompass everything else . Systems are classified based on their ability to exchange energy and matter with the environment:                                                                             \n"
     ]
    },
    {
     "name": "stderr",
     "output_type": "stream",
     "text": [
      " 54%|█████▍    | 541/1000 [02:54<02:42,  2.83it/s]"
     ]
    },
    {
     "name": "stdout",
     "output_type": "stream",
     "text": [
      "generated paragraph: \n",
      "\n",
      "  Biological systems, such as enzymes and metabolic pathways, operate under the strict constraints of thermodynamics . However , they also exhibit remarkable efficiency in converting energy , often through the system between gas . The equilibrium constant (K) is a measure of the deviation from ideal behavior of a mixture . The excess Gibbs free energy is a measure of the deviation from ideal behavior of a mixture . The excess Gibbs free energy is a measure of the deviation from ideal behavior of a mixture . The excess Gibbs free energy is a measure of the deviation from ideal behavior of a mixture . The excess Gibbs free energy is a measure of the deviation from ideal behavior of a mixture . The excess Gibbs free energy is a measure of the deviation from ideal behavior of a mixture . The excess Gibbs free energy is a measure of the deviation from ideal behavior of a mixture . The excess Gibbs free energy is a measure of the deviation from ideal behavior of a mixture . The excess Gibbs free energy is a measure of the deviation from ideal behavior of a mixture . The excess Gibbs free energy is a measure of the deviation from ideal behavior of a mixture . The excess\n"
     ]
    },
    {
     "name": "stderr",
     "output_type": "stream",
     "text": [
      " 55%|█████▌    | 551/1000 [02:57<02:42,  2.76it/s]"
     ]
    },
    {
     "name": "stdout",
     "output_type": "stream",
     "text": [
      "generated paragraph: \n",
      "\n",
      "  Biological systems, such as enzymes and metabolic pathways, operate under the strict constraints of thermodynamics . However , they also exhibit remarkable efficiency in converting energy , often through the system between gas . The equilibrium constant (K) is a measure of the deviation from ideal behavior of a mixture . The excess Gibbs free energy is a measure of the deviation from ideal behavior of a mixture . The excess Gibbs free energy is a measure of the deviation from ideal behavior of a mixture . The excess Gibbs free energy is a measure of the deviation from ideal behavior of a mixture . The excess Gibbs free energy is a measure of the deviation from ideal behavior of a mixture . The excess Gibbs free energy is a measure of the deviation from ideal behavior of a mixture . The excess Gibbs free energy is a measure of the deviation from ideal behavior of a mixture . The excess Gibbs free energy is a measure of the deviation from ideal behavior of a mixture . The excess Gibbs free energy is a measure of the deviation from ideal behavior of a mixture . The excess Gibbs free energy is a measure of the deviation from ideal behavior of a mixture . The excess\n"
     ]
    },
    {
     "name": "stderr",
     "output_type": "stream",
     "text": [
      " 56%|█████▌    | 561/1000 [03:01<02:32,  2.88it/s]"
     ]
    },
    {
     "name": "stdout",
     "output_type": "stream",
     "text": [
      "generated paragraph: \n",
      "\n",
      "  Biological systems, such as enzymes and metabolic pathways, operate under the strict constraints of thermodynamics . However , they also exhibit remarkable efficiency in converting energy , often through the system between gas . The equilibrium constant (K) is a measure of the deviation from ideal behavior of a mixture . The excess Gibbs free energy is a measure of the deviation from ideal behavior of a mixture . The excess Gibbs free energy is a measure of the deviation from ideal behavior of a mixture . The excess Gibbs free energy is a measure of the deviation from ideal behavior of a mixture . The excess Gibbs free energy is a measure of the deviation from ideal behavior of a mixture . The excess Gibbs free energy is a measure of the deviation from ideal behavior of a mixture . The excess Gibbs free energy is a measure of the deviation from ideal behavior of a mixture . The excess Gibbs free energy is a measure of the deviation from ideal behavior of a mixture . The excess Gibbs free energy is a measure of the deviation from ideal behavior of a mixture . The excess Gibbs free energy is a measure of the deviation from ideal behavior of a mixture . The excess\n"
     ]
    },
    {
     "name": "stderr",
     "output_type": "stream",
     "text": [
      " 57%|█████▋    | 571/1000 [03:05<03:04,  2.33it/s]"
     ]
    },
    {
     "name": "stdout",
     "output_type": "stream",
     "text": [
      "generated paragraph: \n",
      "\n",
      "  Biological systems, such as enzymes and metabolic pathways, operate under the strict constraints of thermodynamics . However , they also exhibit remarkable efficiency in converting energy , often through the coupling of exergonic (energy-releasing) and endergonic (energy-consuming) reactions is a hallmark of biological processes , enabling the cell to perform work . A prime example of this coupling is the hydrolysis of adenosine triphosphate (ATP) . ATP hydrolysis releases free energy , which is then used to power numerous biological processes , including muscle contraction , protein synthesis , and active transport across cell membranes . The Gibbs free energy (G) , defined as:                                                                                                               \n"
     ]
    },
    {
     "name": "stderr",
     "output_type": "stream",
     "text": [
      " 58%|█████▊    | 581/1000 [03:09<03:26,  2.03it/s]"
     ]
    },
    {
     "name": "stdout",
     "output_type": "stream",
     "text": [
      "generated paragraph: \n",
      "\n",
      "  Biological systems, such as enzymes and metabolic pathways, operate under the strict constraints of thermodynamics . However , they also exhibit remarkable efficiency in converting energy , often through the coupling of exergonic (energy-releasing) and endergonic (energy-consuming) reactions is a hallmark of biological processes , enabling the cell to perform work . A prime example of this coupling is the hydrolysis of adenosine triphosphate (ATP) . ATP hydrolysis releases free energy , which is then used to power numerous biological processes , including muscle contraction , protein synthesis , and active transport across cell membranes . The Gibbs free energy (G) , defined as:                                                                                                               \n"
     ]
    },
    {
     "name": "stderr",
     "output_type": "stream",
     "text": [
      " 59%|█████▉    | 591/1000 [03:14<03:41,  1.84it/s]"
     ]
    },
    {
     "name": "stdout",
     "output_type": "stream",
     "text": [
      "generated paragraph: \n",
      "\n",
      "  Biological systems, such as enzymes and metabolic pathways, operate under the strict constraints of thermodynamics . However , they also exhibit remarkable efficiency in converting energy , often through the coupling of exergonic (energy-releasing) and endergonic (energy-consuming) reactions is a hallmark of biological processes , enabling the cell to perform work . A prime example of this coupling is the hydrolysis of adenosine triphosphate (ATP) . ATP hydrolysis releases free energy , which is then used to power numerous biological processes , including muscle contraction , protein synthesis , and active transport across cell membranes . The Gibbs free energy (G) , while examples of intensive properties include temperature (T) and pressure (P) . Equations of state are mathematical relationships that describe the behavior of real gases . The application of thermodynamic principles to biological systems has led to the development of a specialized field known as biochemical thermodynamics . Biological systems , such as enzymes and metabolic pathways , operate under the strict constraints of thermodynamics . However , they also exhibit remarkable efficiency in converting energy , often through the coupling of exergonic (energy-releasing) and endergonic (energy-consuming) reactions is a hallmark of biological processes , enabling the cell to perform work . A prime example of this coupling is the hydrolysis of adenosine\n"
     ]
    },
    {
     "name": "stderr",
     "output_type": "stream",
     "text": [
      " 60%|██████    | 601/1000 [03:19<03:07,  2.13it/s]"
     ]
    },
    {
     "name": "stdout",
     "output_type": "stream",
     "text": [
      "generated paragraph: \n",
      "\n",
      "  Biological systems, such as enzymes and metabolic pathways, operate under the strict constraints of thermodynamics . However , they also exhibit remarkable efficiency in converting energy , often through the coupling of exergonic (energy-releasing) and endergonic (energy-consuming) reactions is a hallmark of biological processes , enabling the cell to perform work . A prime example of this coupling is the hydrolysis of adenosine triphosphate (ATP) . ATP hydrolysis releases free energy , which is then used to power numerous biological processes , including muscle contraction , protein synthesis , and active transport across cell membranes . The Gibbs free energy (G) , while examples of intensive properties include temperature (T) and pressure (P) . Equations of state are mathematical relationships that describe the behavior of real gases . The application of thermodynamic principles to biological systems has led to the development of a specialized field known as biochemical thermodynamics . Biological systems , such as enzymes and metabolic pathways , operate under the strict constraints of thermodynamics . However , they also exhibit remarkable efficiency in converting energy , often through the coupling of exergonic (energy-releasing) and endergonic (energy-consuming) reactions is a hallmark of biological processes , enabling the cell to perform work . A prime example of this coupling is the hydrolysis of adenosine\n"
     ]
    },
    {
     "name": "stderr",
     "output_type": "stream",
     "text": [
      " 61%|██████    | 611/1000 [03:23<02:48,  2.30it/s]"
     ]
    },
    {
     "name": "stdout",
     "output_type": "stream",
     "text": [
      "generated paragraph: \n",
      "\n",
      "  Biological systems, such as enzymes and metabolic pathways, operate under the strict constraints of thermodynamics . However , they also exhibit remarkable efficiency in converting energy , often through the coupling of exergonic (energy-releasing) and endergonic (energy-consuming) reactions is a hallmark of biological processes , enabling the cell to perform work . A prime example of this coupling is the hydrolysis of adenosine triphosphate (ATP) . ATP hydrolysis releases free energy , which is then used to power numerous biological processes , including muscle contraction , protein synthesis , and active transport across cell membranes . The Gibbs free energy (G) , while examples of intensive properties include temperature (T) and pressure (P) . Equations of state are mathematical relationships that describe the behavior of real gases . The application of thermodynamic principles to biological systems has led to the development of a specialized field known as biochemical thermodynamics . Biological systems , such as enzymes and metabolic pathways , operate under the strict constraints of thermodynamics . However , they also exhibit remarkable efficiency in converting energy , often through the coupling of exergonic (energy-releasing) and endergonic (energy-consuming) reactions is a hallmark of biological processes , enabling the cell to perform work . A prime example of this coupling is the hydrolysis of adenosine\n"
     ]
    },
    {
     "name": "stderr",
     "output_type": "stream",
     "text": [
      " 62%|██████▏   | 621/1000 [03:27<02:38,  2.39it/s]"
     ]
    },
    {
     "name": "stdout",
     "output_type": "stream",
     "text": [
      "generated paragraph: \n",
      "\n",
      "  Biological systems, such as enzymes and metabolic pathways, operate under the strict constraints of thermodynamics . However , they also exhibit remarkable efficiency in converting energy , often through the coupling of exergonic (energy-releasing) and endergonic (energy-consuming) reactions is a hallmark of biological processes , enabling the cell to perform work . A prime example of this coupling is the hydrolysis of adenosine triphosphate (ATP) . ATP hydrolysis releases free energy , which is then used to power numerous biological processes , including muscle contraction , protein synthesis , and active transport across cell membranes . The Gibbs free energy (G) , while examples of intensive properties include temperature (T) and pressure (P) . Equations of state are mathematical relationships that describe the behavior of real gases . The application of thermodynamic principles to biological systems has led to the development of a specialized field known as biochemical thermodynamics . Biological systems , such as enzymes and metabolic pathways , operate under the strict constraints of thermodynamics . However , they also exhibit remarkable efficiency in converting energy , often through the coupling of exergonic (energy-releasing) and endergonic (energy-consuming) reactions is a hallmark of biological processes , enabling the cell to perform work . A prime example of this coupling is the hydrolysis of adenosine\n"
     ]
    },
    {
     "name": "stderr",
     "output_type": "stream",
     "text": [
      " 63%|██████▎   | 631/1000 [03:32<03:06,  1.98it/s]"
     ]
    },
    {
     "name": "stdout",
     "output_type": "stream",
     "text": [
      "generated paragraph: \n",
      "\n",
      "  Biological systems, such as enzymes and metabolic pathways, operate under the strict constraints of thermodynamics . However , they also exhibit remarkable efficiency in converting energy , often through the coupling of exergonic (energy-releasing) and endergonic (energy-consuming) reactions is a hallmark of biological processes , enabling the cell to perform work . A prime example of this coupling is the hydrolysis of adenosine triphosphate (ATP) . ATP hydrolysis releases free energy , which is then used to power numerous biological processes , including muscle contraction , protein synthesis , and active transport across cell membranes . The Gibbs free energy (G) , while examples of intensive properties include temperature (T) and pressure (P) . Equations of state are mathematical relationships that describe the behavior of real gases . The application of thermodynamic principles to biological systems has led to the development of a specialized field known as biochemical thermodynamics . Biological systems , such as enzymes and metabolic pathways , operate under the strict constraints of thermodynamics . However , they also exhibit remarkable efficiency in converting energy , often through the coupling of exergonic (energy-releasing) and endergonic (energy-consuming) reactions is a hallmark of biological processes , enabling the cell to perform work . A prime example of this coupling is the hydrolysis of adenosine\n"
     ]
    },
    {
     "name": "stderr",
     "output_type": "stream",
     "text": [
      " 64%|██████▍   | 641/1000 [03:37<02:41,  2.23it/s]"
     ]
    },
    {
     "name": "stdout",
     "output_type": "stream",
     "text": [
      "generated paragraph: \n",
      "\n",
      "  Biological systems, such as enzymes and metabolic pathways, operate under the strict constraints of thermodynamics . However , they also exhibit remarkable efficiency in converting energy , often through the coupling of exergonic (energy-releasing) and endergonic (energy-consuming) reactions is a hallmark of biological processes , enabling the cell to perform work . A prime example of this coupling is the hydrolysis of adenosine triphosphate (ATP) . ATP hydrolysis releases free energy , which is then used to power numerous biological processes , including muscle contraction , protein synthesis , and active transport across cell membranes . The Gibbs free energy (G) , while examples of intensive properties include temperature (T) and pressure (P) . Equations of state are mathematical relationships that describe the behavior of real gases . The application of thermodynamic principles to biological systems has led to the development of a specialized field known as biochemical thermodynamics . Biological systems , such as enzymes and metabolic pathways , operate under the strict constraints of thermodynamics . However , they also exhibit remarkable efficiency in converting energy , often through the coupling of exergonic (energy-releasing) and endergonic (energy-consuming) reactions is a hallmark of biological processes , enabling the cell to perform work . A prime example of this coupling is the hydrolysis of adenosine\n"
     ]
    },
    {
     "name": "stderr",
     "output_type": "stream",
     "text": [
      " 65%|██████▌   | 651/1000 [03:41<02:49,  2.06it/s]"
     ]
    },
    {
     "name": "stdout",
     "output_type": "stream",
     "text": [
      "generated paragraph: \n",
      "\n",
      "  Biological systems, such as enzymes and metabolic pathways, operate under the strict constraints of thermodynamics . However , they also exhibit remarkable efficiency in converting energy , often through the coupling of exergonic (energy-releasing) and endergonic (energy-consuming) reactions is a hallmark of biological processes , enabling the cell to perform work . A prime example of this coupling is the hydrolysis of adenosine triphosphate (ATP) . ATP hydrolysis releases free energy , which is then used to power numerous biological processes , including muscle contraction , protein synthesis , and active transport across cell membranes . The Gibbs free energy (G) , while examples of intensive properties include temperature (T) and pressure (P) . Equations of state are mathematical relationships that describe the behavior of real gases . The application of thermodynamic principles to biological systems has led to the development of a specialized field known as biochemical thermodynamics . Biological systems , such as enzymes and metabolic pathways , operate under the strict constraints of thermodynamics . However , they also exhibit remarkable efficiency in converting energy , often through the coupling of exergonic (energy-releasing) and endergonic (energy-consuming) reactions is a hallmark of biological processes , enabling the cell to perform work . A prime example of this coupling is the hydrolysis of adenosine\n"
     ]
    },
    {
     "name": "stderr",
     "output_type": "stream",
     "text": [
      " 66%|██████▌   | 661/1000 [03:46<02:40,  2.11it/s]"
     ]
    },
    {
     "name": "stdout",
     "output_type": "stream",
     "text": [
      "generated paragraph: \n",
      "\n",
      "  Biological systems, such as enzymes and metabolic pathways, operate under the strict constraints of thermodynamics . However , they also exhibit remarkable efficiency in converting energy , often through the coupling of exergonic (energy-releasing) and endergonic (energy-consuming) reactions is a hallmark of biological processes , enabling the cell to perform work . A prime example of this coupling is the hydrolysis of adenosine triphosphate (ATP) . ATP hydrolysis releases free energy , which is then used to power numerous biological processes , including muscle contraction , protein synthesis , and active transport across cell membranes . The Gibbs free energy (G) , while examples of intensive properties include temperature (T) and pressure (P) . Equations of state are mathematical relationships that describe the behavior of real gases . The application of thermodynamic principles to biological systems has led to the development of a specialized field known as biochemical thermodynamics . Biological systems , such as enzymes and metabolic pathways , operate under the strict constraints of thermodynamics . However , they also exhibit remarkable efficiency in converting energy , often through the coupling of exergonic (energy-releasing) and endergonic (energy-consuming) reactions is a hallmark of biological processes , enabling the cell to perform work . A prime example of this coupling is the hydrolysis of adenosine\n"
     ]
    },
    {
     "name": "stderr",
     "output_type": "stream",
     "text": [
      " 67%|██████▋   | 671/1000 [03:52<03:31,  1.55it/s]"
     ]
    },
    {
     "name": "stdout",
     "output_type": "stream",
     "text": [
      "generated paragraph: \n",
      "\n",
      "  Biological systems, such as enzymes and metabolic pathways, operate under the strict constraints of thermodynamics . However , they also exhibit remarkable efficiency in converting energy , often through the coupling of exergonic (energy-releasing) and endergonic (energy-consuming) reactions is a hallmark of biological processes , enabling the cell to perform work . A prime example of this coupling is the hydrolysis of adenosine triphosphate (ATP) . ATP hydrolysis releases free energy , which is then used to power numerous biological processes , including muscle contraction , protein synthesis , and active transport across cell membranes . The Gibbs free energy (G) , while examples of intensive properties include temperature (T) and pressure (P) . Equations of state are mathematical relationships that describe the behavior of real gases . The application of thermodynamic principles to biological systems has led to the development of a specialized field known as biochemical thermodynamics . Biological systems , such as enzymes and metabolic pathways , operate under the strict constraints of thermodynamics . However , they also exhibit remarkable efficiency in converting energy , often through the coupling of exergonic (energy-releasing) and endergonic (energy-consuming) reactions is a hallmark of biological processes , enabling the cell to perform work . A prime example of this coupling is the hydrolysis of adenosine\n"
     ]
    },
    {
     "name": "stderr",
     "output_type": "stream",
     "text": [
      " 68%|██████▊   | 681/1000 [03:58<03:04,  1.73it/s]"
     ]
    },
    {
     "name": "stdout",
     "output_type": "stream",
     "text": [
      "generated paragraph: \n",
      "\n",
      "  Biological systems, such as enzymes and metabolic pathways, operate under the strict constraints of thermodynamics . However , they also exhibit remarkable efficiency in converting energy , often through the coupling of exergonic (energy-releasing) and endergonic (energy-consuming) reactions is a hallmark of biological processes , enabling the cell to perform work . A prime example of this coupling is the hydrolysis of adenosine triphosphate (ATP) . ATP hydrolysis releases free energy , which is then used to power numerous biological processes , including muscle contraction , protein synthesis , and active transport across cell membranes . The Gibbs free energy (G) , while examples of intensive properties include temperature (T) and pressure (P) . Equations of state are mathematical relationships that describe the behavior of real gases . The application of thermodynamic principles to biological systems has led to the development of a specialized field known as biochemical thermodynamics . Biological systems , such as enzymes and metabolic pathways , operate under the strict constraints of thermodynamics . However , they also exhibit remarkable efficiency in converting energy , often through the coupling of exergonic (energy-releasing) and endergonic (energy-consuming) reactions is a hallmark of biological processes , enabling the cell to perform work . A prime example of this coupling is the hydrolysis of adenosine\n"
     ]
    },
    {
     "name": "stderr",
     "output_type": "stream",
     "text": [
      " 69%|██████▉   | 691/1000 [04:03<02:57,  1.74it/s]"
     ]
    },
    {
     "name": "stdout",
     "output_type": "stream",
     "text": [
      "generated paragraph: \n",
      "\n",
      "  Biological systems, such as enzymes and metabolic pathways, operate under the strict constraints of thermodynamics . However , they also exhibit remarkable efficiency in converting energy , often through the coupling of exergonic (energy-releasing) and endergonic (energy-consuming) reactions is a hallmark of biological processes , enabling the cell to perform work . A prime example of this coupling is the hydrolysis of adenosine triphosphate (ATP) . ATP hydrolysis releases free energy , which is then used to power numerous biological processes , including muscle contraction , protein synthesis , and active transport across cell membranes . The Gibbs free energy (G) , while examples of intensive properties include temperature (T) and pressure (P) . Equations of state are mathematical relationships that describe the behavior of thermodynamic systems . The ideal gas equation is a simple equation of state that describes the behavior of ideal gases . More complex equations of state , such as the van der Waals equation and the Redlich-Kwong equation , have been developed to describe the behavior of thermodynamic systems . The ideal gas equation is a simple equation of state that describes the behavior of ideal gases . More complex equations of state , such as the van der Waals equation and the Redlich-Kwong equation , have been developed to\n"
     ]
    },
    {
     "name": "stderr",
     "output_type": "stream",
     "text": [
      " 70%|███████   | 701/1000 [04:09<02:50,  1.76it/s]"
     ]
    },
    {
     "name": "stdout",
     "output_type": "stream",
     "text": [
      "generated paragraph: \n",
      "\n",
      "  Biological systems, such as enzymes and metabolic pathways, operate under the strict constraints of thermodynamics . However , they also exhibit remarkable efficiency in converting energy , often through the coupling of exergonic (energy-releasing) and endergonic (energy-consuming) reactions is a hallmark of biological processes , enabling the cell to perform work . A prime example of this coupling is the hydrolysis of adenosine triphosphate (ATP) . ATP hydrolysis releases free energy , which is then used to power numerous biological processes , including muscle contraction , protein synthesis , and active transport across cell membranes . The Gibbs free energy (G) , while examples of intensive properties include temperature (T) and pressure (P) . Equations of state are mathematical relationships that describe the behavior of thermodynamic systems . The ideal gas equation is a simple equation of state that describes the behavior of ideal gases . More complex equations of state , such as the van der Waals equation and the Redlich-Kwong equation , have been developed to describe the behavior of real gases and liquids . These equations can be used to predict the thermodynamic properties of complex mixtures . These models can be used to calculate the activity coefficients and excess thermodynamic properties of a mixture . By applying thermodynamic models , chemists\n"
     ]
    },
    {
     "name": "stderr",
     "output_type": "stream",
     "text": [
      " 71%|███████   | 711/1000 [04:15<02:42,  1.78it/s]"
     ]
    },
    {
     "name": "stdout",
     "output_type": "stream",
     "text": [
      "generated paragraph: \n",
      "\n",
      "  Biological systems, such as enzymes and metabolic pathways, operate under the strict constraints of thermodynamics . However , they also exhibit remarkable efficiency in converting energy , often through the coupling of exergonic (energy-releasing) and endergonic (energy-consuming) reactions is a hallmark of biological processes , enabling the cell to perform work . A prime example of this coupling is the hydrolysis of adenosine triphosphate (ATP) . ATP hydrolysis releases free energy , which is then used to power numerous biological processes , including muscle contraction , protein synthesis , and active transport across cell membranes . The Gibbs free energy (G) , while examples of intensive properties include temperature (T) and pressure (P) . Equations of state are mathematical relationships that describe the behavior of thermodynamic systems . The ideal gas equation is a simple equation of state that describes the behavior of ideal gases . More complex equations of state , such as the van der Waals equation and the Redlich-Kwong equation , have been developed to describe the behavior of real gases and liquids . These equations can be used to predict the thermodynamic properties of complex mixtures . These models can be used to calculate the activity coefficients and excess thermodynamic properties of a mixture . By applying thermodynamic models , chemists\n"
     ]
    },
    {
     "name": "stderr",
     "output_type": "stream",
     "text": [
      " 72%|███████▏  | 721/1000 [04:20<02:15,  2.05it/s]"
     ]
    },
    {
     "name": "stdout",
     "output_type": "stream",
     "text": [
      "generated paragraph: \n",
      "\n",
      "  Biological systems, such as enzymes and metabolic pathways, operate under the strict constraints of thermodynamics . However , they also exhibit remarkable efficiency in converting energy , often through the coupling of exergonic (energy-releasing) and endergonic (energy-consuming) reactions is a hallmark of biological processes , enabling the cell to perform work . A prime example of this coupling is the hydrolysis of adenosine triphosphate (ATP) . ATP hydrolysis releases free energy , which is then used to power numerous biological processes , including muscle contraction , protein synthesis , and active transport across cell membranes . The Gibbs free energy (G) , while examples of intensive properties include temperature (T) and pressure (P) . Equations of state are mathematical relationships that describe the behavior of thermodynamic systems . The ideal gas equation is a simple equation of state that describes the behavior of ideal gases . More complex equations of state , such as the van der Waals equation and the Redlich-Kwong equation , have been developed to describe the behavior of real gases and liquids . These equations can be used to predict the thermodynamic properties of complex mixtures . These models can be used to calculate the activity coefficients and excess thermodynamic properties of a mixture . By applying thermodynamic models , chemists\n"
     ]
    },
    {
     "name": "stderr",
     "output_type": "stream",
     "text": [
      " 73%|███████▎  | 731/1000 [04:24<02:00,  2.24it/s]"
     ]
    },
    {
     "name": "stdout",
     "output_type": "stream",
     "text": [
      "generated paragraph: \n",
      "\n",
      "  Biological systems, such as enzymes and metabolic pathways, operate under the strict constraints of thermodynamics . However , they also exhibit remarkable efficiency in converting energy , often through the coupling of exergonic (energy-releasing) and endergonic (energy-consuming) reactions is a hallmark of biological processes , enabling the cell to perform work . A prime example of this coupling is the hydrolysis of adenosine triphosphate (ATP) . ATP hydrolysis releases free energy , which is then used to power numerous biological processes , including muscle contraction , protein synthesis , and active transport across cell membranes . The Gibbs free energy (G) , while examples of intensive properties include temperature (T) and pressure (P) . Equations of state are mathematical relationships that describe the behavior of thermodynamic systems . The ideal gas equation is a simple equation of state that describes the behavior of ideal gases . More complex equations of state , such as the van der Waals equation and the Redlich-Kwong equation , have been developed to describe the behavior of real gases and liquids . These equations can be used to predict the thermodynamic properties of complex mixtures . These models can be used to calculate the activity coefficients and excess thermodynamic properties of a mixture . By applying thermodynamic models , chemists\n"
     ]
    },
    {
     "name": "stderr",
     "output_type": "stream",
     "text": [
      " 74%|███████▍  | 741/1000 [04:28<01:45,  2.45it/s]"
     ]
    },
    {
     "name": "stdout",
     "output_type": "stream",
     "text": [
      "generated paragraph: \n",
      "\n",
      "  Biological systems, such as enzymes and metabolic pathways, operate under the strict constraints of thermodynamics . However , they also exhibit remarkable efficiency in converting energy , often through the coupling of exergonic (energy-releasing) and endergonic (energy-consuming) reactions is a hallmark of biological processes , enabling the cell to perform work . A prime example of this coupling is the hydrolysis of adenosine triphosphate (ATP) . ATP hydrolysis releases free energy , which is then used to power numerous biological processes , including muscle contraction , protein synthesis , and active transport across cell membranes . The Gibbs free energy (G) , while examples of intensive properties include temperature (T) and pressure (P) . Equations of state are mathematical relationships that describe the behavior of thermodynamic systems . The ideal gas equation is a simple equation of state that describes the behavior of ideal gases . More complex equations of state , such as the van der Waals equation and the Redlich-Kwong equation , have been developed to describe the behavior of real gases and liquids . These equations can be used to predict the thermodynamic properties of complex mixtures . These models can be used to calculate the activity coefficients and excess thermodynamic properties of a mixture . By applying thermodynamic models , chemists\n"
     ]
    },
    {
     "name": "stderr",
     "output_type": "stream",
     "text": [
      " 75%|███████▌  | 751/1000 [04:33<01:59,  2.09it/s]"
     ]
    },
    {
     "name": "stdout",
     "output_type": "stream",
     "text": [
      "generated paragraph: \n",
      "\n",
      "  Biological systems, such as enzymes and metabolic pathways, operate under the strict constraints of thermodynamics . However , they also exhibit remarkable efficiency in converting energy , often through the coupling of exergonic (energy-releasing) and endergonic (energy-consuming) reactions is a hallmark of biological processes , enabling the cell to perform work . A prime example of this coupling is the hydrolysis of adenosine triphosphate (ATP) . ATP hydrolysis releases free energy , which is then used to power numerous biological processes , including muscle contraction , protein synthesis , and active transport across cell membranes . The Gibbs free energy (G) , while examples of intensive properties include temperature (T) and pressure (P) . Equations of state are mathematical relationships that describe the behavior of thermodynamic systems . The ideal gas equation is a simple equation of state that describes the behavior of ideal gases . More complex equations of state , such as the van der Waals equation and the Redlich-Kwong equation , have been developed to describe the behavior of real gases and liquids . These equations can be used to predict the thermodynamic properties of complex mixtures . These models can be used to calculate the activity coefficients and excess thermodynamic properties of a mixture . By applying thermodynamic models , chemists\n"
     ]
    },
    {
     "name": "stderr",
     "output_type": "stream",
     "text": [
      " 76%|███████▌  | 761/1000 [04:38<01:59,  1.99it/s]"
     ]
    },
    {
     "name": "stdout",
     "output_type": "stream",
     "text": [
      "generated paragraph: \n",
      "\n",
      "  Biological systems, such as enzymes and metabolic pathways, operate under the strict constraints of thermodynamics . However , they also exhibit remarkable efficiency in converting energy , often through the coupling of exergonic (energy-releasing) and endergonic (energy-consuming) reactions is a hallmark of biological processes , enabling the cell to perform work . A prime example of this coupling is the hydrolysis of adenosine triphosphate (ATP) . ATP hydrolysis releases free energy , which is then used to power numerous biological processes , including muscle contraction , protein synthesis , and active transport across cell membranes . The Gibbs free energy (G) , while examples of intensive properties include temperature (T) and pressure (P) . Equations of state are mathematical relationships that describe the behavior of thermodynamic systems . The ideal gas equation is a simple equation of state that describes the behavior of ideal gases . More complex equations of state , such as the van der Waals equation and the Redlich-Kwong equation , have been developed to describe the behavior of real gases and liquids . These equations can be used to predict the thermodynamic properties of complex mixtures . These models can be used to calculate the activity coefficients and excess thermodynamic properties of a mixture . By applying thermodynamic models , chemists\n"
     ]
    },
    {
     "name": "stderr",
     "output_type": "stream",
     "text": [
      " 77%|███████▋  | 771/1000 [04:42<01:35,  2.39it/s]"
     ]
    },
    {
     "name": "stdout",
     "output_type": "stream",
     "text": [
      "generated paragraph: \n",
      "\n",
      "  Biological systems, such as enzymes and metabolic pathways, operate under the strict constraints of thermodynamics . However , they also exhibit remarkable efficiency in converting energy , often through the coupling of exergonic (energy-releasing) and endergonic (energy-consuming) reactions is a hallmark of biological processes , enabling the cell to perform work . A prime example of this coupling is the hydrolysis of adenosine triphosphate (ATP) . ATP hydrolysis releases free energy , which is then used to power numerous biological processes , including muscle contraction , protein synthesis , and active transport across cell membranes . The Gibbs free energy (G) , while examples of intensive properties include temperature (T) and pressure (P) . Equations of state are mathematical relationships that describe the behavior of thermodynamic systems . The ideal gas equation is a simple equation of state that describes the behavior of ideal gases . More complex equations of state , such as the van der Waals equation and the Redlich-Kwong equation , have been developed to describe the behavior of real gases and liquids . These equations can be used to predict the thermodynamic properties of complex mixtures . These models can be used to calculate the activity coefficients and excess thermodynamic properties of a mixture . By applying thermodynamic models , chemists\n"
     ]
    },
    {
     "name": "stderr",
     "output_type": "stream",
     "text": [
      " 78%|███████▊  | 781/1000 [04:47<01:47,  2.05it/s]"
     ]
    },
    {
     "name": "stdout",
     "output_type": "stream",
     "text": [
      "generated paragraph: \n",
      "\n",
      "  Biological systems, such as enzymes and metabolic pathways, operate under the strict constraints of thermodynamics . However , they also exhibit remarkable efficiency in converting energy , often through the coupling of exergonic (energy-releasing) and endergonic (energy-consuming) reactions is a hallmark of biological processes , enabling the cell to perform work . A prime example of this coupling is the hydrolysis of adenosine triphosphate (ATP) . ATP hydrolysis releases free energy , which is then used to power numerous biological processes , including muscle contraction , protein synthesis , and active transport across cell membranes . The Gibbs free energy (G) , while examples of intensive properties include temperature (T) and pressure (P) . Equations of state are mathematical relationships that describe the behavior of thermodynamic systems . The ideal gas equation is a simple equation of state that describes the behavior of ideal gases . More complex equations of state , such as the van der Waals equation and the Redlich-Kwong equation , have been developed to describe the behavior of real gases and liquids . These equations can be used to predict the thermodynamic properties of complex mixtures . These models can be used to calculate the activity coefficients and excess thermodynamic properties of a mixture . By applying thermodynamic models , chemists\n"
     ]
    },
    {
     "name": "stderr",
     "output_type": "stream",
     "text": [
      " 79%|███████▉  | 791/1000 [04:51<01:41,  2.06it/s]"
     ]
    },
    {
     "name": "stdout",
     "output_type": "stream",
     "text": [
      "generated paragraph: \n",
      "\n",
      "  Biological systems, such as enzymes and metabolic pathways, operate under the strict constraints of thermodynamics . However , they also exhibit remarkable efficiency in converting energy , often through the coupling of exergonic (energy-releasing) and endergonic (energy-consuming) reactions is a hallmark of biological processes , enabling the cell to perform work . A prime example of this coupling is the hydrolysis of adenosine triphosphate (ATP) . ATP hydrolysis releases free energy , which is then used to power numerous biological processes , including muscle contraction , protein synthesis , and active transport across cell membranes . The Gibbs free energy (G) , while examples of intensive properties include temperature (T) and pressure (P) . Equations of state are mathematical relationships that describe the behavior of thermodynamic systems . The ideal gas equation is a simple equation of state that describes the behavior of ideal gases . More complex equations of state , such as the van der Waals equation and the Redlich-Kwong equation , have been developed to describe the behavior of real gases and liquids . These equations can be used to predict the thermodynamic properties of complex mixtures . These models can be used to calculate the activity coefficients and excess thermodynamic properties of a mixture . By applying thermodynamic models , chemists\n"
     ]
    },
    {
     "name": "stderr",
     "output_type": "stream",
     "text": [
      " 80%|████████  | 801/1000 [04:55<01:34,  2.10it/s]"
     ]
    },
    {
     "name": "stdout",
     "output_type": "stream",
     "text": [
      "generated paragraph: \n",
      "\n",
      "  Biological systems, such as enzymes and metabolic pathways, operate under the strict constraints of thermodynamics . However , they also exhibit remarkable efficiency in converting energy , often through the coupling of exergonic (energy-releasing) and endergonic (energy-consuming) reactions is a hallmark of biological processes , enabling the cell to perform work . A prime example of this coupling is the hydrolysis of adenosine triphosphate (ATP) . ATP hydrolysis releases free energy , which is then used to power numerous biological processes , including muscle contraction , protein synthesis , and active transport across cell membranes . The Gibbs free energy (G) , while examples of intensive properties include temperature (T) and pressure (P) . Equations of state are mathematical relationships that describe the behavior of thermodynamic systems . The ideal gas equation is a simple equation of state that describes the behavior of ideal gases . More complex equations of state , such as the van der Waals equation and the Redlich-Kwong equation , have been developed to describe the behavior of real gases and liquids . These equations can be used to predict the thermodynamic properties of complex mixtures . These models can be used to calculate the activity coefficients and excess thermodynamic properties of a mixture . By applying thermodynamic models , chemists\n"
     ]
    },
    {
     "name": "stderr",
     "output_type": "stream",
     "text": [
      " 81%|████████  | 811/1000 [05:00<01:30,  2.09it/s]"
     ]
    },
    {
     "name": "stdout",
     "output_type": "stream",
     "text": [
      "generated paragraph: \n",
      "\n",
      "  Biological systems, such as enzymes and metabolic pathways, operate under the strict constraints of thermodynamics . However , they also exhibit remarkable efficiency in converting energy , often through the coupling of exergonic (energy-releasing) and endergonic (energy-consuming) reactions is a hallmark of biological processes , enabling the cell to perform work . A prime example of this coupling is the hydrolysis of adenosine triphosphate (ATP) . ATP hydrolysis releases free energy , which is then used to power numerous biological processes , including muscle contraction , protein synthesis , and active transport across cell membranes . The Gibbs free energy (G) , while examples of intensive properties include temperature (T) and pressure (P) . Equations of state are mathematical relationships that describe the behavior of thermodynamic systems . The ideal gas equation is a simple equation of state that describes the behavior of ideal gases . More complex equations of state , such as the van der Waals equation and the Redlich-Kwong equation , have been developed to describe the behavior of real gases and liquids . These equations can be used to predict the thermodynamic properties of complex mixtures . These models can be used to calculate the activity coefficients and excess thermodynamic properties of a mixture . By applying thermodynamic models , chemists\n"
     ]
    },
    {
     "name": "stderr",
     "output_type": "stream",
     "text": [
      " 82%|████████▏ | 821/1000 [05:04<01:18,  2.29it/s]"
     ]
    },
    {
     "name": "stdout",
     "output_type": "stream",
     "text": [
      "generated paragraph: \n",
      "\n",
      "  Biological systems, such as enzymes and metabolic pathways, operate under the strict constraints of thermodynamics . However , they also exhibit remarkable efficiency in converting energy , often through the coupling of exergonic (energy-releasing) and endergonic (energy-consuming) reactions is a hallmark of biological processes , enabling the cell to perform work . A prime example of this coupling is the hydrolysis of adenosine triphosphate (ATP) . ATP hydrolysis releases free energy , which is then used to power numerous biological processes , including muscle contraction , protein synthesis , and active transport across cell membranes . The Gibbs free energy (G) , while examples of intensive properties include temperature (T) and pressure (P) . Equations of state are mathematical relationships that describe the behavior of thermodynamic systems . The ideal gas equation is a simple equation of state that describes the behavior of ideal gases . More complex equations of state , such as the van der Waals equation and the Redlich-Kwong equation , have been developed to describe the behavior of real gases and liquids . These equations can be used to predict the thermodynamic properties of complex mixtures . These models can be used to calculate the activity coefficients and excess thermodynamic properties of a mixture . By applying thermodynamic models , chemists\n"
     ]
    },
    {
     "name": "stderr",
     "output_type": "stream",
     "text": [
      " 83%|████████▎ | 831/1000 [05:09<01:16,  2.21it/s]"
     ]
    },
    {
     "name": "stdout",
     "output_type": "stream",
     "text": [
      "generated paragraph: \n",
      "\n",
      "  Biological systems, such as enzymes and metabolic pathways, operate under the strict constraints of thermodynamics . However , they also exhibit remarkable efficiency in converting energy , often through the coupling of exergonic (energy-releasing) and endergonic (energy-consuming) reactions is a hallmark of biological processes , enabling the cell to perform work . A prime example of this coupling is the hydrolysis of adenosine triphosphate (ATP) . ATP hydrolysis releases free energy , which is then used to power numerous biological processes , including muscle contraction , protein synthesis , and active transport across cell membranes . The Gibbs free energy (G) , while examples of intensive properties include temperature (T) and pressure (P) . Equations of state are mathematical relationships that describe the behavior of thermodynamic systems . The ideal gas equation is a simple equation of state that describes the behavior of ideal gases . More complex equations of state , such as the van der Waals equation and the Redlich-Kwong equation , have been developed to describe the behavior of real gases and liquids . These equations can be used to predict the thermodynamic properties of complex mixtures . These models can be used to calculate the activity coefficients and excess thermodynamic properties of a mixture . By applying thermodynamic models , chemists\n"
     ]
    },
    {
     "name": "stderr",
     "output_type": "stream",
     "text": [
      " 84%|████████▍ | 841/1000 [05:14<01:44,  1.53it/s]"
     ]
    },
    {
     "name": "stdout",
     "output_type": "stream",
     "text": [
      "generated paragraph: \n",
      "\n",
      "  Biological systems, such as enzymes and metabolic pathways, operate under the strict constraints of thermodynamics . However , they also exhibit remarkable efficiency in converting energy , often through the coupling of exergonic (energy-releasing) and endergonic (energy-consuming) reactions is a hallmark of biological processes , enabling the cell to perform work . A prime example of this coupling is the hydrolysis of adenosine triphosphate (ATP) . ATP hydrolysis releases free energy , which is then used to power numerous biological processes , including muscle contraction , protein synthesis , and active transport across cell membranes . The Gibbs free energy (G) , while examples of intensive properties include temperature (T) and pressure (P) . Equations of state are mathematical relationships that describe the behavior of thermodynamic systems . The ideal gas equation is a simple equation of state that describes the behavior of ideal gases . More complex equations of state , such as the van der Waals equation and the Redlich-Kwong equation , have been developed to describe the behavior of real gases and liquids . These equations can be used to predict the thermodynamic properties of complex mixtures . These models can be used to calculate the activity coefficients and excess thermodynamic properties of a mixture . By applying thermodynamic models , chemists\n"
     ]
    },
    {
     "name": "stderr",
     "output_type": "stream",
     "text": [
      " 85%|████████▌ | 851/1000 [05:21<01:32,  1.62it/s]"
     ]
    },
    {
     "name": "stdout",
     "output_type": "stream",
     "text": [
      "generated paragraph: \n",
      "\n",
      "  Biological systems, such as enzymes and metabolic pathways, operate under the strict constraints of thermodynamics . However , they also exhibit remarkable efficiency in converting energy , often through the coupling of exergonic (energy-releasing) and endergonic (energy-consuming) reactions is a hallmark of biological processes , enabling the cell to perform work . A prime example of this coupling is the hydrolysis of adenosine triphosphate (ATP) . ATP hydrolysis releases free energy , which is then used to power numerous biological processes , including muscle contraction , protein synthesis , and active transport across cell membranes . The Gibbs free energy (G) , while examples of intensive properties include temperature (T) and pressure (P) . Equations of state are mathematical relationships that describe the behavior of thermodynamic systems . The ideal gas equation is a simple equation of state that describes the behavior of ideal gases . More complex equations of state , such as the van der Waals equation and the Redlich-Kwong equation , have been developed to describe the behavior of real gases and liquids . These equations can be used to predict the thermodynamic properties of complex mixtures . These models can be used to calculate the activity coefficients and excess thermodynamic properties of a mixture . By applying thermodynamic models , chemists\n"
     ]
    },
    {
     "name": "stderr",
     "output_type": "stream",
     "text": [
      " 86%|████████▌ | 861/1000 [05:26<01:17,  1.79it/s]"
     ]
    },
    {
     "name": "stdout",
     "output_type": "stream",
     "text": [
      "generated paragraph: \n",
      "\n",
      "  Biological systems, such as enzymes and metabolic pathways, operate under the strict constraints of thermodynamics . However , they also exhibit remarkable efficiency in converting energy , often through the coupling of exergonic (energy-releasing) and endergonic (energy-consuming) reactions is a hallmark of biological processes , enabling the cell to perform work . A prime example of this coupling is the hydrolysis of adenosine triphosphate (ATP) . ATP hydrolysis releases free energy , which is then used to power numerous biological processes , including muscle contraction , protein synthesis , and active transport across cell membranes . The Gibbs free energy (G) , while examples of intensive properties include temperature (T) and pressure (P) . Equations of state are mathematical relationships that describe the behavior of thermodynamic systems . The ideal gas equation is a simple equation of state that describes the behavior of ideal gases . More complex equations of state , such as the van der Waals equation and the Redlich-Kwong equation , have been developed to describe the behavior of real gases and liquids . These equations can be used to predict the thermodynamic properties of complex mixtures . These models can be used to calculate the activity coefficients and excess thermodynamic properties of a mixture . By applying thermodynamic models , chemists\n"
     ]
    },
    {
     "name": "stderr",
     "output_type": "stream",
     "text": [
      " 87%|████████▋ | 871/1000 [05:32<01:19,  1.63it/s]"
     ]
    },
    {
     "name": "stdout",
     "output_type": "stream",
     "text": [
      "generated paragraph: \n",
      "\n",
      "  Biological systems, such as enzymes and metabolic pathways, operate under the strict constraints of thermodynamics . However , they also exhibit remarkable efficiency in converting energy , often through the coupling of exergonic (energy-releasing) and endergonic (energy-consuming) reactions is a hallmark of biological processes , enabling the cell to perform work . A prime example of this coupling is the hydrolysis of adenosine triphosphate (ATP) . ATP hydrolysis releases free energy , which is then used to power numerous biological processes , including muscle contraction , protein synthesis , and active transport across cell membranes . The Gibbs free energy (G) , while examples of intensive properties include temperature (T) and pressure (P) . Equations of state are mathematical relationships that describe the behavior of thermodynamic systems . The ideal gas equation is a simple equation of state that describes the behavior of ideal gases . More complex equations of state , such as the van der Waals equation and the Redlich-Kwong equation , have been developed to describe the behavior of real gases and liquids . These equations can be used to predict the thermodynamic properties of complex mixtures . These models can be used to calculate the activity coefficients and excess thermodynamic properties of a mixture . By applying thermodynamic models , chemists\n"
     ]
    },
    {
     "name": "stderr",
     "output_type": "stream",
     "text": [
      " 88%|████████▊ | 881/1000 [05:37<01:02,  1.89it/s]"
     ]
    },
    {
     "name": "stdout",
     "output_type": "stream",
     "text": [
      "generated paragraph: \n",
      "\n",
      "  Biological systems, such as enzymes and metabolic pathways, operate under the strict constraints of thermodynamics . However , they also exhibit remarkable efficiency in converting energy , often through the coupling of exergonic (energy-releasing) and endergonic (energy-consuming) reactions is a hallmark of biological processes , enabling the cell to perform work . A prime example of this coupling is the hydrolysis of adenosine triphosphate (ATP) . ATP hydrolysis releases free energy , which is then used to power numerous biological processes , including muscle contraction , protein synthesis , and active transport across cell membranes . The Gibbs free energy (G) , while examples of intensive properties include temperature (T) and pressure (P) . Equations of state are mathematical relationships that describe the behavior of thermodynamic systems . The ideal gas equation is a simple equation of state that describes the behavior of ideal gases . More complex equations of state , such as the van der Waals equation and the Redlich-Kwong equation , have been developed to describe the behavior of real gases and liquids . These equations can be used to predict the thermodynamic properties of complex mixtures . These models can be used to calculate the activity coefficients and excess thermodynamic properties of a mixture . By applying thermodynamic models , chemists\n"
     ]
    },
    {
     "name": "stderr",
     "output_type": "stream",
     "text": [
      " 89%|████████▉ | 891/1000 [05:41<00:43,  2.52it/s]"
     ]
    },
    {
     "name": "stdout",
     "output_type": "stream",
     "text": [
      "generated paragraph: \n",
      "\n",
      "  Biological systems, such as enzymes and metabolic pathways, operate under the strict constraints of thermodynamics . However , they also exhibit remarkable efficiency in converting energy , often through the coupling of exergonic (energy-releasing) and endergonic (energy-consuming) reactions is a hallmark of biological processes , enabling the cell to perform work . A prime example of this coupling is the hydrolysis of adenosine triphosphate (ATP) . ATP hydrolysis releases free energy , which is then used to power numerous biological processes , including muscle contraction , protein synthesis , and active transport across cell membranes . The Gibbs free energy (G) , while examples of intensive properties include temperature (T) and pressure (P) . Equations of state are mathematical relationships that describe the behavior of thermodynamic systems . The ideal gas equation is a simple equation of state that describes the behavior of ideal gases . More complex equations of state , such as the van der Waals equation and the Redlich-Kwong equation , have been developed to describe the behavior of real gases and liquids . These equations can be used to predict the thermodynamic properties of complex mixtures . These models can be used to calculate the activity coefficients and excess thermodynamic properties of a mixture . By applying thermodynamic models , chemists\n"
     ]
    },
    {
     "name": "stderr",
     "output_type": "stream",
     "text": [
      " 90%|█████████ | 901/1000 [05:45<00:34,  2.89it/s]"
     ]
    },
    {
     "name": "stdout",
     "output_type": "stream",
     "text": [
      "generated paragraph: \n",
      "\n",
      "  Biological systems, such as enzymes and metabolic pathways, operate under the strict constraints of thermodynamics . However , they also exhibit remarkable efficiency in converting energy , often through the coupling of exergonic (energy-releasing) and endergonic (energy-consuming) reactions is a hallmark of biological processes , enabling the cell to perform work . A prime example of this coupling is the hydrolysis of adenosine triphosphate (ATP) . ATP hydrolysis releases free energy , which is then used to power numerous biological processes , including muscle contraction , protein synthesis , and active transport across cell membranes . The Gibbs free energy (G) , while examples of intensive properties include temperature (T) and pressure (P) . Equations of state are mathematical relationships that describe the behavior of thermodynamic systems . The ideal gas equation is a simple equation of state that describes the behavior of ideal gases . More complex equations of state , such as the van der Waals equation and the Redlich-Kwong equation , have been developed to describe the behavior of real gases and liquids . These equations can be used to predict the thermodynamic properties of complex mixtures . These models can be used to calculate the activity coefficients and excess thermodynamic properties of a mixture . By applying thermodynamic models , chemists\n"
     ]
    },
    {
     "name": "stderr",
     "output_type": "stream",
     "text": [
      " 91%|█████████ | 911/1000 [05:48<00:30,  2.96it/s]"
     ]
    },
    {
     "name": "stdout",
     "output_type": "stream",
     "text": [
      "generated paragraph: \n",
      "\n",
      "  Biological systems, such as enzymes and metabolic pathways, operate under the strict constraints of thermodynamics . However , they also exhibit remarkable efficiency in converting energy , often through the coupling of exergonic (energy-releasing) and endergonic (energy-consuming) reactions is a hallmark of biological processes , enabling the cell to perform work . A prime example of this coupling is the hydrolysis of adenosine triphosphate (ATP) . ATP hydrolysis releases free energy , which is then used to power numerous biological processes , including muscle contraction , protein synthesis , and active transport across cell membranes . The Gibbs free energy (G) , while examples of intensive properties include temperature (T) and pressure (P) . Equations of state are mathematical relationships that describe the behavior of thermodynamic systems . The ideal gas equation is a simple equation of state that describes the behavior of ideal gases . More complex equations of state , such as the van der Waals equation and the Redlich-Kwong equation , have been developed to describe the behavior of real gases and liquids . These equations can be used to predict the thermodynamic properties of complex mixtures . These models can be used to calculate the activity coefficients and excess thermodynamic properties of a mixture . By applying thermodynamic models , chemists\n"
     ]
    },
    {
     "name": "stderr",
     "output_type": "stream",
     "text": [
      " 92%|█████████▏| 921/1000 [05:51<00:25,  3.08it/s]"
     ]
    },
    {
     "name": "stdout",
     "output_type": "stream",
     "text": [
      "generated paragraph: \n",
      "\n",
      "  Biological systems, such as enzymes and metabolic pathways, operate under the strict constraints of thermodynamics . However , they also exhibit remarkable efficiency in converting energy , often through the coupling of exergonic (energy-releasing) and endergonic (energy-consuming) reactions is a hallmark of biological processes , enabling the cell to perform work . A prime example of this coupling is the hydrolysis of adenosine triphosphate (ATP) . ATP hydrolysis releases free energy , which is then used to power numerous biological processes , including muscle contraction , protein synthesis , and active transport across cell membranes . The Gibbs free energy (G) , while examples of intensive properties include temperature (T) and pressure (P) . Equations of state are mathematical relationships that describe the behavior of thermodynamic systems . The ideal gas equation is a simple equation of state that describes the behavior of ideal gases . More complex equations of state , such as the van der Waals equation and the Redlich-Kwong equation , have been developed to describe the behavior of real gases and liquids . These equations can be used to predict the thermodynamic properties of complex mixtures . These models can be used to calculate the activity coefficients and excess thermodynamic properties of a mixture . By applying thermodynamic models , chemists\n"
     ]
    },
    {
     "name": "stderr",
     "output_type": "stream",
     "text": [
      " 93%|█████████▎| 931/1000 [05:54<00:22,  3.03it/s]"
     ]
    },
    {
     "name": "stdout",
     "output_type": "stream",
     "text": [
      "generated paragraph: \n",
      "\n",
      "  Biological systems, such as enzymes and metabolic pathways, operate under the strict constraints of thermodynamics . However , they also exhibit remarkable efficiency in converting energy , often through the coupling of exergonic (energy-releasing) and endergonic (energy-consuming) reactions is a hallmark of biological processes , enabling the cell to perform work . A prime example of this coupling is the hydrolysis of adenosine triphosphate (ATP) . ATP hydrolysis releases free energy , which is then used to power numerous biological processes , including muscle contraction , protein synthesis , and active transport across cell membranes . The Gibbs free energy (G) , while examples of intensive properties include temperature (T) and pressure (P) . Equations of state are mathematical relationships that describe the behavior of thermodynamic systems . The ideal gas equation is a simple equation of state that describes the behavior of ideal gases . More complex equations of state , such as the van der Waals equation and the Redlich-Kwong equation , have been developed to describe the behavior of real gases and liquids . These equations can be used to predict the thermodynamic properties of complex mixtures . These models can be used to calculate the activity coefficients and excess thermodynamic properties of a mixture . By applying thermodynamic models , chemists\n"
     ]
    },
    {
     "name": "stderr",
     "output_type": "stream",
     "text": [
      " 94%|█████████▍| 941/1000 [05:58<00:18,  3.11it/s]"
     ]
    },
    {
     "name": "stdout",
     "output_type": "stream",
     "text": [
      "generated paragraph: \n",
      "\n",
      "  Biological systems, such as enzymes and metabolic pathways, operate under the strict constraints of thermodynamics . However , they also exhibit remarkable efficiency in converting energy , often through the coupling of exergonic (energy-releasing) and endergonic (energy-consuming) reactions is a hallmark of biological processes , enabling the cell to perform work . A prime example of this coupling is the hydrolysis of adenosine triphosphate (ATP) . ATP hydrolysis releases free energy , which is then used to power numerous biological processes , including muscle contraction , protein synthesis , and active transport across cell membranes . The Gibbs free energy (G) , while examples of intensive properties include temperature (T) and pressure (P) . Equations of state are mathematical relationships that describe the behavior of thermodynamic systems . The ideal gas equation is a simple equation of state that describes the behavior of ideal gases . More complex equations of state , such as the van der Waals equation and the Redlich-Kwong equation , have been developed to describe the behavior of real gases and liquids . These equations can be used to predict the thermodynamic properties of complex mixtures . These models can be used to calculate the activity coefficients and excess thermodynamic properties of a mixture . By applying thermodynamic models , chemists\n"
     ]
    },
    {
     "name": "stderr",
     "output_type": "stream",
     "text": [
      " 95%|█████████▌| 951/1000 [06:01<00:17,  2.87it/s]"
     ]
    },
    {
     "name": "stdout",
     "output_type": "stream",
     "text": [
      "generated paragraph: \n",
      "\n",
      "  Biological systems, such as enzymes and metabolic pathways, operate under the strict constraints of thermodynamics . However , they also exhibit remarkable efficiency in converting energy , often through the coupling of exergonic (energy-releasing) and endergonic (energy-consuming) reactions is a hallmark of biological processes , enabling the cell to perform work . A prime example of this coupling is the hydrolysis of adenosine triphosphate (ATP) . ATP hydrolysis releases free energy , which is then used to power numerous biological processes , including muscle contraction , protein synthesis , and active transport across cell membranes . The Gibbs free energy (G) , while examples of intensive properties include temperature (T) and pressure (P) . Equations of state are mathematical relationships that describe the behavior of thermodynamic systems . The ideal gas equation is a simple equation of state that describes the behavior of ideal gases . More complex equations of state , such as the van der Waals equation and the Redlich-Kwong equation , have been developed to describe the behavior of real gases and liquids . These equations can be used to predict the thermodynamic properties of complex mixtures . These models can be used to calculate the activity coefficients and excess thermodynamic properties of a mixture . By applying thermodynamic models , chemists\n"
     ]
    },
    {
     "name": "stderr",
     "output_type": "stream",
     "text": [
      " 96%|█████████▌| 961/1000 [06:04<00:12,  3.07it/s]"
     ]
    },
    {
     "name": "stdout",
     "output_type": "stream",
     "text": [
      "generated paragraph: \n",
      "\n",
      "  Biological systems, such as enzymes and metabolic pathways, operate under the strict constraints of thermodynamics . However , they also exhibit remarkable efficiency in converting energy , often through the coupling of exergonic (energy-releasing) and endergonic (energy-consuming) reactions is a hallmark of biological processes , enabling the cell to perform work . A prime example of this coupling is the hydrolysis of adenosine triphosphate (ATP) . ATP hydrolysis releases free energy , which is then used to power numerous biological processes , including muscle contraction , protein synthesis , and active transport across cell membranes . The Gibbs free energy (G) , while examples of intensive properties include temperature (T) and pressure (P) . Equations of state are mathematical relationships that describe the behavior of thermodynamic systems . The ideal gas equation is a simple equation of state that describes the behavior of ideal gases . More complex equations of state , such as the van der Waals equation and the Redlich-Kwong equation , have been developed to describe the behavior of real gases and liquids . These equations can be used to predict the thermodynamic properties of complex mixtures . These models can be used to calculate the activity coefficients and excess thermodynamic properties of a mixture . By applying thermodynamic models , chemists\n"
     ]
    },
    {
     "name": "stderr",
     "output_type": "stream",
     "text": [
      " 97%|█████████▋| 971/1000 [06:07<00:09,  3.06it/s]"
     ]
    },
    {
     "name": "stdout",
     "output_type": "stream",
     "text": [
      "generated paragraph: \n",
      "\n",
      "  Biological systems, such as enzymes and metabolic pathways, operate under the strict constraints of thermodynamics . However , they also exhibit remarkable efficiency in converting energy , often through the coupling of exergonic (energy-releasing) and endergonic (energy-consuming) reactions is a hallmark of biological processes , enabling the cell to perform work . A prime example of this coupling is the hydrolysis of adenosine triphosphate (ATP) . ATP hydrolysis releases free energy , which is then used to power numerous biological processes , including muscle contraction , protein synthesis , and active transport across cell membranes . The Gibbs free energy (G) , while examples of intensive properties include temperature (T) and pressure (P) . Equations of state are mathematical relationships that describe the behavior of thermodynamic systems . The ideal gas equation is a simple equation of state that describes the behavior of ideal gases . More complex equations of state , such as the van der Waals equation and the Redlich-Kwong equation , have been developed to describe the behavior of real gases and liquids . These equations can be used to predict the thermodynamic properties of complex mixtures . These models can be used to calculate the activity coefficients and excess thermodynamic properties of a mixture . By applying thermodynamic models , chemists\n"
     ]
    },
    {
     "name": "stderr",
     "output_type": "stream",
     "text": [
      " 98%|█████████▊| 981/1000 [06:11<00:06,  3.08it/s]"
     ]
    },
    {
     "name": "stdout",
     "output_type": "stream",
     "text": [
      "generated paragraph: \n",
      "\n",
      "  Biological systems, such as enzymes and metabolic pathways, operate under the strict constraints of thermodynamics . However , they also exhibit remarkable efficiency in converting energy , often through the coupling of exergonic (energy-releasing) and endergonic (energy-consuming) reactions is a hallmark of biological processes , enabling the cell to perform work . A prime example of this coupling is the hydrolysis of adenosine triphosphate (ATP) . ATP hydrolysis releases free energy , which is then used to power numerous biological processes , including muscle contraction , protein synthesis , and active transport across cell membranes . The Gibbs free energy (G) , while examples of intensive properties include temperature (T) and pressure (P) . Equations of state are mathematical relationships that describe the behavior of thermodynamic systems . The ideal gas equation is a simple equation of state that describes the behavior of ideal gases . More complex equations of state , such as the van der Waals equation and the Redlich-Kwong equation , have been developed to describe the behavior of real gases and liquids . These equations can be used to predict the thermodynamic properties of complex mixtures . These models can be used to calculate the activity coefficients and excess thermodynamic properties of a mixture . By applying thermodynamic models , chemists\n"
     ]
    },
    {
     "name": "stderr",
     "output_type": "stream",
     "text": [
      " 99%|█████████▉| 991/1000 [06:14<00:02,  3.07it/s]"
     ]
    },
    {
     "name": "stdout",
     "output_type": "stream",
     "text": [
      "generated paragraph: \n",
      "\n",
      "  Biological systems, such as enzymes and metabolic pathways, operate under the strict constraints of thermodynamics . However , they also exhibit remarkable efficiency in converting energy , often through the coupling of exergonic (energy-releasing) and endergonic (energy-consuming) reactions is a hallmark of biological processes , enabling the cell to perform work . A prime example of this coupling is the hydrolysis of adenosine triphosphate (ATP) . ATP hydrolysis releases free energy , which is then used to power numerous biological processes , including muscle contraction , protein synthesis , and active transport across cell membranes . The Gibbs free energy (G) , while examples of intensive properties include temperature (T) and pressure (P) . Equations of state are mathematical relationships that describe the behavior of thermodynamic systems . The ideal gas equation is a simple equation of state that describes the behavior of ideal gases . More complex equations of state , such as the van der Waals equation and the Redlich-Kwong equation , have been developed to describe the behavior of real gases and liquids . These equations can be used to predict the thermodynamic properties of complex mixtures . These models can be used to calculate the activity coefficients and excess thermodynamic properties of a mixture . By applying thermodynamic models , chemists\n"
     ]
    },
    {
     "name": "stderr",
     "output_type": "stream",
     "text": [
      "100%|██████████| 1000/1000 [06:17<00:00,  2.65it/s]\n"
     ]
    }
   ],
   "source": [
    "my_loss = train(dataloader,model,text,number_of_epochs = 1000)"
   ]
  },
  {
   "cell_type": "code",
   "execution_count": 184,
   "id": "9493ac96",
   "metadata": {},
   "outputs": [
    {
     "name": "stdout",
     "output_type": "stream",
     "text": [
      "[0.09644643552457503, 0.09627291834895214, 0.09609743915354423, 0.09591371767424248, 0.0957562742776392, 0.09557722008366382, 0.09539739665320021, 0.09523406759997592, 0.09506013547879388, 0.09488944345401981, 0.09473415284370823, 0.09455913552676389, 0.0944032891002631, 0.09421490083905261, 0.09406313820810391, 0.0939008304309891, 0.09373639397409432, 0.09358409002538354, 0.09340941736251691, 0.09324873634344362, 0.09308934795695382, 0.09292257188830136, 0.09277357683161051, 0.09260660749374669, 0.09245850984366705, 0.09229058396919813, 0.09214565075905166, 0.09199326043826273, 0.09182613751487842, 0.09166966794367923, 0.09153389049025115, 0.0913825988280497, 0.09122200360572016, 0.09107064711771416, 0.09093445330915764, 0.09077300787202179, 0.09062276865467142, 0.09047480423765754, 0.09033800368143324, 0.0901834541018405, 0.09003187634022079, 0.08991049870158255, 0.08974761182161832, 0.08960984182691482, 0.0894678673027335, 0.08932904118103871, 0.08918624358345183, 0.08904993601689928, 0.08890223841121758, 0.08876480887065062, 0.08862820985406983, 0.0884821786613538, 0.08835341322548601, 0.08821658234913837, 0.08807668173290127, 0.08794870769827982, 0.08781770214035704, 0.08766210050426394, 0.08754926249672547, 0.08740696555514132, 0.08727339053936446, 0.08714716911718652, 0.087015448965161, 0.08687685023000802, 0.0867701201883062, 0.08661772630044393, 0.08651222623740844, 0.08636722253441351, 0.08624530323281251, 0.08611259641104223, 0.08598569065735147, 0.08585663861864783, 0.0857446600312662, 0.08561222823372679, 0.0854897677581973, 0.08536592046784158, 0.0852496360345927, 0.08512502203922014, 0.08499873761792441, 0.08488862922695613, 0.08476812149394433, 0.08463665702053018, 0.0845202575923163, 0.08440157647413636, 0.08428495693736095, 0.08416750677591585, 0.08404184518288461, 0.08394202088009436, 0.08381813719983727, 0.08369880645719274, 0.08359733590690786, 0.08346296239888806, 0.08336222407670554, 0.08325193259994496, 0.08313011204011192, 0.08302158908379124, 0.08290961058270978, 0.08279209216502872, 0.08268402173798747, 0.08258419735608874]\n"
     ]
    }
   ],
   "source": [
    "print(my_loss[-100:])"
   ]
  },
  {
   "cell_type": "code",
   "execution_count": 187,
   "id": "feb47d49",
   "metadata": {},
   "outputs": [
    {
     "name": "stdout",
     "output_type": "stream",
     "text": [
      " Similarly, the standard molar entropy values enable the computation of overall entropy changes, offering insights into the thermodynamic favorability of complex reactions\n",
      "paragraph\n",
      " Similarly, the standard molar entropy values enable the computation of overall entropy changes, offering insights into the thermodynamic favorability of complex reactions.\n",
      "\n",
      "The van ’t Hoff equation provides a thermodynamic link between the equilibrium constant of a reaction and temperature. It shows that for endothermic reactions, an increase in temperature shifts the equilibrium toward products, while for exothermic reactions, the equilibrium favors reactants at higher temperatures. This temperature dependence of equilibrium is crucial for optimizing industrial chemical processes, where yield and efficiency must be balanced with energy input.\n",
      "\n",
      "Le Chatelier’s principle, though often considered from a kinetic perspective, also has a firm grounding in chemical thermodynamics\n",
      " Similarly, the standard molar entropy values enable the computation of overall entropy changes, offering insights into the thermodynamic favorability of complex reactions . The van ’t Hoff equation provides a thermodynamic link between the equilibrium constant of a reaction and temperature . It shows that for endothermic reactions , an increase in temperature shifts the equilibrium toward products , while for exothermic reactions , the equilibrium favors reactants at higher temperatures . This temperature dependence of equilibrium is crucial for optimizing industrial chemical processes , where yield and efficiency must be balanced with energy input . Le Chatelier’s principle , though often considered from a kinetic perspective , also has a firm grounding in chemical thermodynamics . It can be understood as the system's thermodynamic response to external perturbations , such as changes in temperature , pressure , or concentration . These systems are far more complex and often exhibit phenomena such as self-organization and pattern formation . Examples include the behavior of dissipative structures , which maintain their order through the continuous exchange of energy and matter with their surroundings . One of the most well-known phase transitions is the melting of a solid into a liquid . The phase transition from solid to liquid occurs at the melting point , which is determined by the balance between the enthalpy of\n"
     ]
    }
   ],
   "source": [
    "selected_sentence,idx = pickrandomsentence(text)\n",
    "print(selected_sentence)\n",
    "print(\"paragraph\")\n",
    "print(\".\".join(text.split(\".\")[idx:idx+5]))\n",
    "generated_paragraph = auto_write(model,selected_sentence)\n",
    "print(generated_paragraph)"
   ]
  },
  {
   "cell_type": "code",
   "execution_count": 199,
   "id": "bffe7623",
   "metadata": {},
   "outputs": [
    {
     "name": "stdout",
     "output_type": "stream",
     "text": [
      "The thermodynamics deal with the unknown between different changes and enthalpy . In entropy , the change in Gibbs free energy (ΔG < 0) signifies that a reaction is thermodynamically spontaneous , while a positive change (ΔG > 0) indicates that the reaction is non-spontaneous . When ΔG = 0 , the system is at equilibrium . Building upon the classical thermodynamic principles , the field of non-equilibrium thermodynamics addresses systems that are not in thermodynamic equilibrium . These systems , which are common in nature and industrial processes , involve energy and matter exchange with the surroundings , leading to the flow of energy and the generation of entropy . One key concept in non-equilibrium thermodynamics is entropy production , which quantifies the irreversibility of a process . In a system undergoing a non-equilibrium process , entropy is produced due to dissipative effects such as friction , heat conduction , and diffusion . The rate of entropy production is typically related to the fluxes of energy and matter in the system , and the Onsager reciprocal relations describe how different fluxes are related in systems that are close to equilibrium . The study of non-equilibrium thermodynamics is essential for understanding processes like chemical reactions occurring\n"
     ]
    }
   ],
   "source": [
    "new_sentence = \"The thermodynamics deal with the unknown\"\n",
    "print(auto_write(model,new_sentence))"
   ]
  },
  {
   "cell_type": "code",
   "execution_count": null,
   "id": "fc8f5cce",
   "metadata": {},
   "outputs": [],
   "source": []
  }
 ],
 "metadata": {
  "kernelspec": {
   "display_name": "genai-env",
   "language": "python",
   "name": "python3"
  },
  "language_info": {
   "codemirror_mode": {
    "name": "ipython",
    "version": 3
   },
   "file_extension": ".py",
   "mimetype": "text/x-python",
   "name": "python",
   "nbconvert_exporter": "python",
   "pygments_lexer": "ipython3",
   "version": "3.10.16"
  }
 },
 "nbformat": 4,
 "nbformat_minor": 5
}
